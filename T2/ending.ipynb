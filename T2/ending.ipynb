{
 "cells": [
  {
   "cell_type": "code",
   "execution_count": 1,
   "id": "81c40775",
   "metadata": {},
   "outputs": [],
   "source": [
    "import pandas as pd\n",
    "import numpy as np"
   ]
  },
  {
   "cell_type": "code",
   "execution_count": 2,
   "id": "1a2220cf",
   "metadata": {},
   "outputs": [],
   "source": [
    "df=pd.read_csv('final_file.csv')"
   ]
  },
  {
   "cell_type": "code",
   "execution_count": 3,
   "id": "e2b8451f",
   "metadata": {},
   "outputs": [],
   "source": [
    "df= df.loc[:, ~df.columns.str.contains('^Unnamed')]"
   ]
  },
  {
   "cell_type": "code",
   "execution_count": 4,
   "id": "42400d63",
   "metadata": {},
   "outputs": [
    {
     "data": {
      "text/html": [
       "<div>\n",
       "<style scoped>\n",
       "    .dataframe tbody tr th:only-of-type {\n",
       "        vertical-align: middle;\n",
       "    }\n",
       "\n",
       "    .dataframe tbody tr th {\n",
       "        vertical-align: top;\n",
       "    }\n",
       "\n",
       "    .dataframe thead th {\n",
       "        text-align: right;\n",
       "    }\n",
       "</style>\n",
       "<table border=\"1\" class=\"dataframe\">\n",
       "  <thead>\n",
       "    <tr style=\"text-align: right;\">\n",
       "      <th></th>\n",
       "      <th>نوع ملک</th>\n",
       "      <th>متراژ</th>\n",
       "      <th>قیمت</th>\n",
       "      <th>قیمت(متر مربع)</th>\n",
       "      <th>منطقه</th>\n",
       "      <th>سال ساخت</th>\n",
       "      <th>تعداد خواب</th>\n",
       "      <th>جهت ساختمان</th>\n",
       "      <th>نوع سند</th>\n",
       "      <th>طبقه</th>\n",
       "      <th>...</th>\n",
       "      <th>سرمایش</th>\n",
       "      <th>گرمایش</th>\n",
       "      <th>آب گرم</th>\n",
       "      <th>تاریخ انتشار</th>\n",
       "      <th>latitude</th>\n",
       "      <th>longitude</th>\n",
       "      <th>site</th>\n",
       "      <th>آسانسور</th>\n",
       "      <th>انباری</th>\n",
       "      <th>پارکینگ</th>\n",
       "    </tr>\n",
       "  </thead>\n",
       "  <tbody>\n",
       "    <tr>\n",
       "      <th>0</th>\n",
       "      <td>Apateman</td>\n",
       "      <td>136.0</td>\n",
       "      <td>12,500,000,000</td>\n",
       "      <td>91,900,000</td>\n",
       "      <td>امیرآباد تهران</td>\n",
       "      <td>1401.0</td>\n",
       "      <td>3.0</td>\n",
       "      <td>North</td>\n",
       "      <td>TRUE</td>\n",
       "      <td>4</td>\n",
       "      <td>...</td>\n",
       "      <td>داکت اسپلیت</td>\n",
       "      <td>داکت اسپلیت</td>\n",
       "      <td>پکیج</td>\n",
       "      <td>4 last week</td>\n",
       "      <td>35.733903</td>\n",
       "      <td>51.394386</td>\n",
       "      <td>https://shabesh.com/</td>\n",
       "      <td>1</td>\n",
       "      <td>1</td>\n",
       "      <td>1</td>\n",
       "    </tr>\n",
       "    <tr>\n",
       "      <th>1</th>\n",
       "      <td>Apateman</td>\n",
       "      <td>108.0</td>\n",
       "      <td>7,500,000,000</td>\n",
       "      <td>69,400,000</td>\n",
       "      <td>دولت تهران</td>\n",
       "      <td>1383.0</td>\n",
       "      <td>2.0</td>\n",
       "      <td>North</td>\n",
       "      <td>TRUE</td>\n",
       "      <td>2</td>\n",
       "      <td>...</td>\n",
       "      <td>کولر آبی</td>\n",
       "      <td>شوفاژ</td>\n",
       "      <td>موتورخانه</td>\n",
       "      <td>3 last week</td>\n",
       "      <td>35.780815</td>\n",
       "      <td>51.450526</td>\n",
       "      <td>https://shabesh.com/</td>\n",
       "      <td>0</td>\n",
       "      <td>1</td>\n",
       "      <td>1</td>\n",
       "    </tr>\n",
       "    <tr>\n",
       "      <th>2</th>\n",
       "      <td>Apateman</td>\n",
       "      <td>71.0</td>\n",
       "      <td>4,900,000,000</td>\n",
       "      <td>69,000,000</td>\n",
       "      <td>جنت آباد مرکزی تهران</td>\n",
       "      <td>1397.0</td>\n",
       "      <td>2.0</td>\n",
       "      <td>North</td>\n",
       "      <td>TRUE</td>\n",
       "      <td>1</td>\n",
       "      <td>...</td>\n",
       "      <td>کولر آبی</td>\n",
       "      <td>شوفاژ</td>\n",
       "      <td>پکیج</td>\n",
       "      <td>3 last week</td>\n",
       "      <td>35.758078</td>\n",
       "      <td>51.301245</td>\n",
       "      <td>https://shabesh.com/</td>\n",
       "      <td>1</td>\n",
       "      <td>1</td>\n",
       "      <td>1</td>\n",
       "    </tr>\n",
       "    <tr>\n",
       "      <th>3</th>\n",
       "      <td>Apateman</td>\n",
       "      <td>135.0</td>\n",
       "      <td>13,500,000,000</td>\n",
       "      <td>100,000,000</td>\n",
       "      <td>امیرآباد تهران</td>\n",
       "      <td>1401.0</td>\n",
       "      <td>3.0</td>\n",
       "      <td>South</td>\n",
       "      <td>TRUE</td>\n",
       "      <td>2</td>\n",
       "      <td>...</td>\n",
       "      <td>داکت اسپلیت</td>\n",
       "      <td>داکت اسپلیت</td>\n",
       "      <td>پکیج</td>\n",
       "      <td>4 last week</td>\n",
       "      <td>35.738292</td>\n",
       "      <td>51.398549</td>\n",
       "      <td>https://shabesh.com/</td>\n",
       "      <td>1</td>\n",
       "      <td>1</td>\n",
       "      <td>1</td>\n",
       "    </tr>\n",
       "    <tr>\n",
       "      <th>4</th>\n",
       "      <td>Apateman</td>\n",
       "      <td>117.0</td>\n",
       "      <td>9,200,000,000</td>\n",
       "      <td>78,600,000</td>\n",
       "      <td>یوسف آباد تهران</td>\n",
       "      <td>1394.0</td>\n",
       "      <td>2.0</td>\n",
       "      <td>South</td>\n",
       "      <td>TRUE</td>\n",
       "      <td>4</td>\n",
       "      <td>...</td>\n",
       "      <td>کولر آبی</td>\n",
       "      <td>شوفاژ</td>\n",
       "      <td>پکیج</td>\n",
       "      <td>3 last week</td>\n",
       "      <td>35.735418</td>\n",
       "      <td>51.400867</td>\n",
       "      <td>https://shabesh.com/</td>\n",
       "      <td>1</td>\n",
       "      <td>1</td>\n",
       "      <td>1</td>\n",
       "    </tr>\n",
       "    <tr>\n",
       "      <th>...</th>\n",
       "      <td>...</td>\n",
       "      <td>...</td>\n",
       "      <td>...</td>\n",
       "      <td>...</td>\n",
       "      <td>...</td>\n",
       "      <td>...</td>\n",
       "      <td>...</td>\n",
       "      <td>...</td>\n",
       "      <td>...</td>\n",
       "      <td>...</td>\n",
       "      <td>...</td>\n",
       "      <td>...</td>\n",
       "      <td>...</td>\n",
       "      <td>...</td>\n",
       "      <td>...</td>\n",
       "      <td>...</td>\n",
       "      <td>...</td>\n",
       "      <td>...</td>\n",
       "      <td>...</td>\n",
       "      <td>...</td>\n",
       "      <td>...</td>\n",
       "    </tr>\n",
       "    <tr>\n",
       "      <th>5598</th>\n",
       "      <td>Apateman</td>\n",
       "      <td>71.0</td>\n",
       "      <td>5,500,000,000</td>\n",
       "      <td>77,500,000</td>\n",
       "      <td>اباذر آیت الله کاشانی ، تهران</td>\n",
       "      <td>1401.0</td>\n",
       "      <td>2.0</td>\n",
       "      <td>North</td>\n",
       "      <td>TRUE</td>\n",
       "      <td>1</td>\n",
       "      <td>...</td>\n",
       "      <td>کولر آبی</td>\n",
       "      <td>شوفاژ</td>\n",
       "      <td>پکیج</td>\n",
       "      <td>3 last week</td>\n",
       "      <td>35.730518</td>\n",
       "      <td>51.326241</td>\n",
       "      <td>https://shabesh.com/</td>\n",
       "      <td>1</td>\n",
       "      <td>1</td>\n",
       "      <td>1</td>\n",
       "    </tr>\n",
       "    <tr>\n",
       "      <th>5599</th>\n",
       "      <td>Apateman</td>\n",
       "      <td>95.0</td>\n",
       "      <td>5,150,000,000</td>\n",
       "      <td>54,200,000</td>\n",
       "      <td>پونک تهران</td>\n",
       "      <td>1386.0</td>\n",
       "      <td>2.0</td>\n",
       "      <td>North</td>\n",
       "      <td>TRUE</td>\n",
       "      <td>2</td>\n",
       "      <td>...</td>\n",
       "      <td>کولر آبی</td>\n",
       "      <td>شوفاژ</td>\n",
       "      <td>موتورخانه</td>\n",
       "      <td>3 last week</td>\n",
       "      <td>35.775800</td>\n",
       "      <td>51.322554</td>\n",
       "      <td>https://shabesh.com/</td>\n",
       "      <td>1</td>\n",
       "      <td>1</td>\n",
       "      <td>1</td>\n",
       "    </tr>\n",
       "    <tr>\n",
       "      <th>5600</th>\n",
       "      <td>Apateman</td>\n",
       "      <td>120.0</td>\n",
       "      <td>8,400,000,000</td>\n",
       "      <td>70,000,000</td>\n",
       "      <td>سعادت آباد تهران</td>\n",
       "      <td>1379.0</td>\n",
       "      <td>3.0</td>\n",
       "      <td>South</td>\n",
       "      <td>TRUE</td>\n",
       "      <td>1</td>\n",
       "      <td>...</td>\n",
       "      <td>کولر گازی</td>\n",
       "      <td>شوفاژ</td>\n",
       "      <td>موتورخانه</td>\n",
       "      <td>3 last week</td>\n",
       "      <td>35.786190</td>\n",
       "      <td>51.380954</td>\n",
       "      <td>https://shabesh.com/</td>\n",
       "      <td>1</td>\n",
       "      <td>1</td>\n",
       "      <td>1</td>\n",
       "    </tr>\n",
       "    <tr>\n",
       "      <th>5601</th>\n",
       "      <td>Apateman</td>\n",
       "      <td>120.0</td>\n",
       "      <td>8,500,000,000</td>\n",
       "      <td>70,800,000</td>\n",
       "      <td>سعادت آباد تهران</td>\n",
       "      <td>1384.0</td>\n",
       "      <td>3.0</td>\n",
       "      <td>North</td>\n",
       "      <td>TRUE</td>\n",
       "      <td>4</td>\n",
       "      <td>...</td>\n",
       "      <td>کولر گازی</td>\n",
       "      <td>داکت اسپلیت</td>\n",
       "      <td>آبگرمکن</td>\n",
       "      <td>3 last week</td>\n",
       "      <td>35.786190</td>\n",
       "      <td>51.380954</td>\n",
       "      <td>https://shabesh.com/</td>\n",
       "      <td>1</td>\n",
       "      <td>0</td>\n",
       "      <td>1</td>\n",
       "    </tr>\n",
       "    <tr>\n",
       "      <th>5602</th>\n",
       "      <td>Apateman</td>\n",
       "      <td>185.0</td>\n",
       "      <td>17,500,000,000</td>\n",
       "      <td>94,600,000</td>\n",
       "      <td>سهروردی شمالی تهران</td>\n",
       "      <td>1401.0</td>\n",
       "      <td>3.0</td>\n",
       "      <td>South</td>\n",
       "      <td>TRUE</td>\n",
       "      <td>4</td>\n",
       "      <td>...</td>\n",
       "      <td>داکت اسپلیت</td>\n",
       "      <td>داکت اسپلیت</td>\n",
       "      <td>پکیج</td>\n",
       "      <td>3 last week</td>\n",
       "      <td>35.734180</td>\n",
       "      <td>51.432981</td>\n",
       "      <td>https://shabesh.com/</td>\n",
       "      <td>1</td>\n",
       "      <td>1</td>\n",
       "      <td>1</td>\n",
       "    </tr>\n",
       "  </tbody>\n",
       "</table>\n",
       "<p>5603 rows × 25 columns</p>\n",
       "</div>"
      ],
      "text/plain": [
       "       نوع ملک  متراژ             قیمت قیمت(متر مربع)  \\\n",
       "0     Apateman  136.0  12,500,000,000     91,900,000    \n",
       "1     Apateman  108.0   7,500,000,000     69,400,000    \n",
       "2     Apateman   71.0   4,900,000,000     69,000,000    \n",
       "3     Apateman  135.0  13,500,000,000    100,000,000    \n",
       "4     Apateman  117.0   9,200,000,000     78,600,000    \n",
       "...        ...    ...              ...            ...   \n",
       "5598  Apateman   71.0   5,500,000,000     77,500,000    \n",
       "5599  Apateman   95.0   5,150,000,000     54,200,000    \n",
       "5600  Apateman  120.0   8,400,000,000     70,000,000    \n",
       "5601  Apateman  120.0   8,500,000,000     70,800,000    \n",
       "5602  Apateman  185.0  17,500,000,000     94,600,000    \n",
       "\n",
       "                              منطقه  سال ساخت  تعداد خواب جهت ساختمان نوع سند  \\\n",
       "0                    امیرآباد تهران    1401.0         3.0       North    TRUE   \n",
       "1                        دولت تهران    1383.0         2.0       North    TRUE   \n",
       "2              جنت آباد مرکزی تهران    1397.0         2.0       North    TRUE   \n",
       "3                    امیرآباد تهران    1401.0         3.0       South    TRUE   \n",
       "4                   یوسف آباد تهران    1394.0         2.0       South    TRUE   \n",
       "...                             ...       ...         ...         ...     ...   \n",
       "5598  اباذر آیت الله کاشانی ، تهران    1401.0         2.0       North    TRUE   \n",
       "5599                     پونک تهران    1386.0         2.0       North    TRUE   \n",
       "5600               سعادت آباد تهران    1379.0         3.0       South    TRUE   \n",
       "5601               سعادت آباد تهران    1384.0         3.0       North    TRUE   \n",
       "5602            سهروردی شمالی تهران    1401.0         3.0       South    TRUE   \n",
       "\n",
       "     طبقه  ...       سرمایش       گرمایش     آب گرم تاریخ انتشار   latitude  \\\n",
       "0       4  ...  داکت اسپلیت  داکت اسپلیت       پکیج  4 last week  35.733903   \n",
       "1       2  ...     کولر آبی        شوفاژ  موتورخانه  3 last week  35.780815   \n",
       "2       1  ...     کولر آبی        شوفاژ       پکیج  3 last week  35.758078   \n",
       "3       2  ...  داکت اسپلیت  داکت اسپلیت       پکیج  4 last week  35.738292   \n",
       "4       4  ...     کولر آبی        شوفاژ       پکیج  3 last week  35.735418   \n",
       "...   ...  ...          ...          ...        ...          ...        ...   \n",
       "5598    1  ...     کولر آبی        شوفاژ       پکیج  3 last week  35.730518   \n",
       "5599    2  ...     کولر آبی        شوفاژ  موتورخانه  3 last week  35.775800   \n",
       "5600    1  ...    کولر گازی        شوفاژ  موتورخانه  3 last week  35.786190   \n",
       "5601    4  ...    کولر گازی  داکت اسپلیت    آبگرمکن  3 last week  35.786190   \n",
       "5602    4  ...  داکت اسپلیت  داکت اسپلیت       پکیج  3 last week  35.734180   \n",
       "\n",
       "      longitude                  site آسانسور انباری  پارکینگ  \n",
       "0     51.394386  https://shabesh.com/       1      1        1  \n",
       "1     51.450526  https://shabesh.com/       0      1        1  \n",
       "2     51.301245  https://shabesh.com/       1      1        1  \n",
       "3     51.398549  https://shabesh.com/       1      1        1  \n",
       "4     51.400867  https://shabesh.com/       1      1        1  \n",
       "...         ...                   ...     ...    ...      ...  \n",
       "5598  51.326241  https://shabesh.com/       1      1        1  \n",
       "5599  51.322554  https://shabesh.com/       1      1        1  \n",
       "5600  51.380954  https://shabesh.com/       1      1        1  \n",
       "5601  51.380954  https://shabesh.com/       1      0        1  \n",
       "5602  51.432981  https://shabesh.com/       1      1        1  \n",
       "\n",
       "[5603 rows x 25 columns]"
      ]
     },
     "execution_count": 4,
     "metadata": {},
     "output_type": "execute_result"
    }
   ],
   "source": [
    "df"
   ]
  },
  {
   "cell_type": "code",
   "execution_count": 5,
   "id": "1d0ee138",
   "metadata": {},
   "outputs": [
    {
     "name": "stdout",
     "output_type": "stream",
     "text": [
      "<class 'pandas.core.frame.DataFrame'>\n",
      "RangeIndex: 5603 entries, 0 to 5602\n",
      "Data columns (total 25 columns):\n",
      " #   Column           Non-Null Count  Dtype  \n",
      "---  ------           --------------  -----  \n",
      " 0   نوع ملک          5600 non-null   object \n",
      " 1   متراژ            5600 non-null   float64\n",
      " 2   قیمت             5600 non-null   object \n",
      " 3   قیمت(متر مربع)   5600 non-null   object \n",
      " 4   منطقه            5600 non-null   object \n",
      " 5   سال ساخت         5600 non-null   float64\n",
      " 6   تعداد خواب       5600 non-null   float64\n",
      " 7   جهت ساختمان      5600 non-null   object \n",
      " 8   نوع سند          5600 non-null   object \n",
      " 9   طبقه             5600 non-null   object \n",
      " 10  تعداد طبقات      5600 non-null   object \n",
      " 11  سرویس بهداشتی    5600 non-null   object \n",
      " 12  تعداد واحد طبقه  5600 non-null   object \n",
      " 13  نوع کف           5600 non-null   object \n",
      " 14  نما              5600 non-null   object \n",
      " 15  سرمایش           5600 non-null   object \n",
      " 16  گرمایش           5600 non-null   object \n",
      " 17  آب گرم           5600 non-null   object \n",
      " 18  تاریخ انتشار     5600 non-null   object \n",
      " 19  latitude         5600 non-null   float64\n",
      " 20  longitude        5600 non-null   float64\n",
      " 21  site             5603 non-null   object \n",
      " 22  آسانسور          5603 non-null   int64  \n",
      " 23  انباری           5603 non-null   int64  \n",
      " 24  پارکینگ          5603 non-null   int64  \n",
      "dtypes: float64(5), int64(3), object(17)\n",
      "memory usage: 1.1+ MB\n"
     ]
    }
   ],
   "source": [
    "df.info()"
   ]
  },
  {
   "cell_type": "code",
   "execution_count": 6,
   "id": "bdc061b9",
   "metadata": {},
   "outputs": [
    {
     "data": {
      "text/plain": [
       "0       False\n",
       "1       False\n",
       "2       False\n",
       "3       False\n",
       "4       False\n",
       "        ...  \n",
       "5598    False\n",
       "5599    False\n",
       "5600    False\n",
       "5601    False\n",
       "5602    False\n",
       "Length: 5603, dtype: bool"
      ]
     },
     "execution_count": 6,
     "metadata": {},
     "output_type": "execute_result"
    }
   ],
   "source": [
    "df.duplicated()"
   ]
  },
  {
   "cell_type": "code",
   "execution_count": 7,
   "id": "058756b7",
   "metadata": {},
   "outputs": [
    {
     "data": {
      "text/plain": [
       "array(['پکیج', 'موتورخانه', 'آبگرمکن', 'آسانسور', '3 هفته پیش',\n",
       "       'پنجره دو جداره', '4 هفته پیش', '1 ماه پیش', '2 ماه پیش',\n",
       "       '1 هفته پیش', 'پارکینگ', 'درب ضد سرقت', 'انباری', 'حیاط',\n",
       "       'روف گاردن', 'آیفون تصویری', 'لابی', 'سرایدار', nan, '2 هفته پیش',\n",
       "       'بالکن', 'شوتینگ زباله', '4 روز پیش', '3 ماه پیش', 'سونا و جکوزی',\n",
       "       '7 روز پیش', 'استخر', 'باربیکیو', 'گرمایش مرکزی', '5 روز پیش',\n",
       "       'درب ریموت'], dtype=object)"
      ]
     },
     "execution_count": 7,
     "metadata": {},
     "output_type": "execute_result"
    }
   ],
   "source": [
    "df['آب گرم'].unique()"
   ]
  },
  {
   "cell_type": "code",
   "execution_count": 8,
   "id": "312adc7f",
   "metadata": {},
   "outputs": [],
   "source": [
    "df['آب گرم'] = df['آب گرم'].str.replace('آبگرمکن', 'water heater')"
   ]
  },
  {
   "cell_type": "code",
   "execution_count": 9,
   "id": "d2f443ee",
   "metadata": {},
   "outputs": [],
   "source": [
    "df['آب گرم'] = df['آب گرم'].str.replace('گرمایش مرکزی', 'Central heating')"
   ]
  },
  {
   "cell_type": "code",
   "execution_count": 10,
   "id": "a76c48f4",
   "metadata": {},
   "outputs": [],
   "source": [
    "df['آب گرم'] = df['آب گرم'].str.replace('موتورخانه', 'Powerhouse')"
   ]
  },
  {
   "cell_type": "code",
   "execution_count": 11,
   "id": "aefb286e",
   "metadata": {},
   "outputs": [],
   "source": [
    "df['آب گرم'] = df['آب گرم'].str.replace('پکیج', 'package')"
   ]
  },
  {
   "cell_type": "code",
   "execution_count": 12,
   "id": "f656480e",
   "metadata": {},
   "outputs": [],
   "source": [
    "df['آب گرم'] = df['آب گرم'].str.replace('3 هفته پیش', 'nan')\n",
    "df['آب گرم'] = df['آب گرم'].str.replace('آسانسور', 'nan')\n",
    "df['آب گرم'] = df['آب گرم'].str.replace('2 ماه پیش', 'nan')\n",
    "df['آب گرم'] = df['آب گرم'].str.replace('1 ماه پیش', 'nan')\n",
    "df['آب گرم'] = df['آب گرم'].str.replace('4 هفته پیش', 'nan')\n",
    "df['آب گرم'] = df['آب گرم'].str.replace('پنجره دو جداره', 'nan')\n",
    "df['آب گرم'] = df['آب گرم'].str.replace('حیاط', 'nan')\n",
    "df['آب گرم'] = df['آب گرم'].str.replace('3 ماه پیش', 'nan')\n",
    "\n",
    "df['آب گرم'] = df['آب گرم'].str.replace('1 هفته پیش', 'nan')\n",
    "df['آب گرم'] = df['آب گرم'].str.replace('سرایدار', 'nan')\n",
    "df['آب گرم'] = df['آب گرم'].str.replace('سونا و جکوزی', 'nan')\n",
    "df['آب گرم'] = df['آب گرم'].str.replace('7 روز پیش', 'nan')\n",
    "df['آب گرم'] = df['آب گرم'].str.replace('استخر', 'nan')\n",
    "df['آب گرم'] = df['آب گرم'].str.replace('باربیکیو', 'nan')\n",
    "df['آب گرم'] = df['آب گرم'].str.replace('شوتینگ زباله', 'nan')\n",
    "df['آب گرم'] = df['آب گرم'].str.replace('روف گاردن', 'nan')\n",
    "\n",
    "df['آب گرم'] = df['آب گرم'].str.replace('پارکینگ', 'nan')\n",
    "df['آب گرم'] = df['آب گرم'].str.replace('درب ضد سرقت', 'nan')\n",
    "df['آب گرم'] = df['آب گرم'].str.replace('درب ریموت', 'nan')\n",
    "df['آب گرم'] = df['آب گرم'].str.replace('لابی', 'nan')\n",
    "df['آب گرم'] = df['آب گرم'].str.replace('2 هفته پیش', 'nan')\n",
    "df['آب گرم'] = df['آب گرم'].str.replace('4 روز پیش', 'nan')\n",
    "df['آب گرم'] = df['آب گرم'].str.replace('شوتینگ زباله', 'nan')\n",
    "df['آب گرم'] = df['آب گرم'].str.replace('روف گاردن', 'nan')\n",
    "\n",
    "df['آب گرم'] = df['آب گرم'].str.replace('انباری', 'nan')\n",
    "df['آب گرم'] = df['آب گرم'].str.replace('5 روز پیش', 'nan')\n",
    "df['آب گرم'] = df['آب گرم'].str.replace('آیفون تصویری', 'nan')\n",
    "df['آب گرم'] = df['آب گرم'].str.replace('بالکن', 'nan')\n"
   ]
  },
  {
   "cell_type": "code",
   "execution_count": 13,
   "id": "8efb1c34",
   "metadata": {},
   "outputs": [
    {
     "data": {
      "text/plain": [
       "array(['package', 'Powerhouse', 'water heater', 'nan', nan,\n",
       "       'Central heating'], dtype=object)"
      ]
     },
     "execution_count": 13,
     "metadata": {},
     "output_type": "execute_result"
    }
   ],
   "source": [
    "df['آب گرم'].unique()"
   ]
  },
  {
   "cell_type": "code",
   "execution_count": 14,
   "id": "9bdb7de9",
   "metadata": {},
   "outputs": [
    {
     "data": {
      "text/plain": [
       "array(['داکت اسپلیت', 'کولر آبی', 'فن کوئل', 'اسپلیت', 'کولر گازی',\n",
       "       '3 هفته پیش', 'پارکینگ', 'شوفاژ', 'از کف', 'موتورخانه',\n",
       "       '1 هفته پیش', 'پکیج', '4 هفته پیش', 'لابی', '1 ماه پیش', 'بالکن',\n",
       "       nan, '2 هفته پیش', '2 ماه پیش', 'آسانسور', 'سیستم اطفا حریق',\n",
       "       'پنجره دو جداره', 'آبگرمکن'], dtype=object)"
      ]
     },
     "execution_count": 14,
     "metadata": {},
     "output_type": "execute_result"
    }
   ],
   "source": [
    "df['سرمایش'].unique()"
   ]
  },
  {
   "cell_type": "code",
   "execution_count": 15,
   "id": "8fb946f9",
   "metadata": {},
   "outputs": [],
   "source": [
    "df['سرمایش'] = df['سرمایش'].str.replace('کولر گازی', 'Air conditioner')\n",
    "df['سرمایش'] = df['سرمایش'].str.replace('اسپلیت', 'Split')\n",
    "df['سرمایش'] = df['سرمایش'].str.replace('کولر آبی', 'Water Cooler')\n",
    "df['سرمایش'] = df['سرمایش'].str.replace('کولر آبی', 'Water Cooler')\n",
    "df['سرمایش'] = df['سرمایش'].str.replace('داکت اسپلیت', 'DuctSplit')"
   ]
  },
  {
   "cell_type": "code",
   "execution_count": 18,
   "id": "ea015344",
   "metadata": {},
   "outputs": [],
   "source": [
    "df['سرمایش'] = df['سرمایش'].str.replace('سیستم اطفا حریق', 'nan')\n",
    "df['سرمایش'] = df['سرمایش'].str.replace('موتورخانه', 'nan')\n",
    "df['سرمایش'] = df['سرمایش'].str.replace('2 ماه پیش', 'nan')\n",
    "df['سرمایش'] = df['سرمایش'].str.replace('1 ماه پیش', 'nan')\n",
    "df['سرمایش'] = df['سرمایش'].str.replace('3 هفته پیش', 'nan')\n",
    "df['سرمایش'] = df['سرمایش'].str.replace('پکیج', 'nan')\n",
    "df['سرمایش'] = df['سرمایش'].str.replace('شوفاژ', 'nan')\n",
    "df['سرمایش'] = df['سرمایش'].str.replace('3 ماه پیش', 'nan')\n",
    "\n",
    "df['سرمایش'] = df['سرمایش'].str.replace('فن کوئل', 'nan')\n",
    "df['سرمایش'] = df['سرمایش'].str.replace('سرایدار', 'nan')\n",
    "df['سرمایش'] = df['سرمایش'].str.replace('آبگرمکن', 'nan')\n",
    "df['سرمایش'] = df['سرمایش'].str.replace('1 هفته پیش', 'nan')\n",
    "df['سرمایش'] = df['سرمایش'].str.replace('از کف', 'nan')\n",
    "df['سرمایش'] = df['سرمایش'].str.replace('بآبگرمکن', 'nan')\n",
    "df['سرمایش'] = df['سرمایش'].str.replace('شوتینگ زباله', 'nan')\n",
    "df['سرمایش'] = df['سرمایش'].str.replace('روف گاردن', 'nan')\n",
    "\n",
    "df['سرمایش'] = df['سرمایش'].str.replace('پارکینگ', 'nan')\n",
    "df['سرمایش'] = df['سرمایش'].str.replace('درب ضد سرقت', 'nan')\n",
    "df['سرمایش'] = df['سرمایش'].str.replace('داکت Split', 'nan')\n",
    "df['سرمایش'] = df['سرمایش'].str.replace('لابی', 'nan')\n",
    "df['سرمایش'] = df['سرمایش'].str.replace('2 هفته پیش', 'nan')\n",
    "df['سرمایش'] = df['سرمایش'].str.replace('4 روز پیش', 'nan')\n",
    "df['سرمایش'] = df['سرمایش'].str.replace('شوتینگ زباله', 'nan')\n",
    "df['سرمایش'] = df['سرمایش'].str.replace('پنجره دو جداره', 'nan')\n",
    "\n",
    "df['سرمایش'] = df['سرمایش'].str.replace('آسانسور', 'nan')\n",
    "df['سرمایش'] = df['سرمایش'].str.replace('5 روز پیش', 'nan')\n",
    "df['سرمایش'] = df['سرمایش'].str.replace('آیفون تصویری', 'nan')\n",
    "df['سرمایش'] = df['سرمایش'].str.replace('بالکن', 'nan')\n",
    "df['سرمایش'] = df['سرمایش'].str.replace('4 هفته پیش', 'nan')\n"
   ]
  },
  {
   "cell_type": "code",
   "execution_count": 19,
   "id": "8d9e5573",
   "metadata": {},
   "outputs": [
    {
     "data": {
      "text/plain": [
       "array(['nan', 'Water Cooler', 'Split', 'Air conditioner', nan],\n",
       "      dtype=object)"
      ]
     },
     "execution_count": 19,
     "metadata": {},
     "output_type": "execute_result"
    }
   ],
   "source": [
    "df['سرمایش'].unique()"
   ]
  },
  {
   "cell_type": "code",
   "execution_count": 20,
   "id": "66bdf144",
   "metadata": {},
   "outputs": [
    {
     "data": {
      "text/plain": [
       "array(['داکت اسپلیت', 'شوفاژ', 'فن کوئل', 'اسپلیت', 'از کف', 'شومینه',\n",
       "       'پارکینگ', 'لابی', 'آسانسور', 'موتورخانه', 'پکیج', '1 هفته پیش',\n",
       "       'باربیکیو', '4 هفته پیش', '3 هفته پیش', 'انباری', 'سونا و جکوزی',\n",
       "       'سالن اجتماعات', 'درب ریموت', nan, '1 ماه پیش', '2 ماه پیش',\n",
       "       'آیفون تصویری', 'سرایدار', 'بخاری', '3 ماه پیش', 'آبگرمکن',\n",
       "       '7 روز پیش', 'حیاط'], dtype=object)"
      ]
     },
     "execution_count": 20,
     "metadata": {},
     "output_type": "execute_result"
    }
   ],
   "source": [
    "df['گرمایش'].unique()"
   ]
  },
  {
   "cell_type": "code",
   "execution_count": 21,
   "id": "7778ab21",
   "metadata": {},
   "outputs": [],
   "source": [
    "df['گرمایش'] = df['گرمایش'].str.replace('شومینه', 'fireplace')\n",
    "df['گرمایش'] = df['گرمایش'].str.replace('از کف', 'from the floor')\n",
    "df['گرمایش'] = df['گرمایش'].str.replace('فن کوئل', 'air conditioner')\n",
    "df['گرمایش'] = df['گرمایش'].str.replace('شوفاژ', 'heating')\n",
    "df['گرمایش'] = df['گرمایش'].str.replace('داکت اسپلیت', 'Duct Split')\n",
    "df['گرمایش'] = df['گرمایش'].str.replace('پکیج', 'package')\n",
    "df['گرمایش'] = df['گرمایش'].str.replace('موتورخانه', 'Powerhouse')\n",
    "df['گرمایش'] = df['گرمایش'].str.replace('بخاری', 'Bukhari')"
   ]
  },
  {
   "cell_type": "code",
   "execution_count": 22,
   "id": "95135810",
   "metadata": {},
   "outputs": [],
   "source": [
    "df['گرمایش'] = df['گرمایش'].str.replace('سیستم اطفا حریق', 'nan')\n",
    "df['گرمایش'] = df['گرمایش'].str.replace('2 ماه پیش', 'nan')\n",
    "df['گرمایش'] = df['گرمایش'].str.replace('1 ماه پیش', 'nan')\n",
    "df['گرمایش'] = df['گرمایش'].str.replace('3 هفته پیش', 'nan')\n",
    "\n",
    "df['گرمایش'] = df['گرمایش'].str.replace('3 ماه پیش', 'nan')\n",
    "\n",
    "df['گرمایش'] = df['گرمایش'].str.replace('سرایدار', 'nan')\n",
    "df['گرمایش'] = df['گرمایش'].str.replace('1 هفته پیش', 'nan')\n",
    "df['گرمایش'] = df['گرمایش'].str.replace(' هفته پیش 4', 'nan')\n",
    "df['گرمایش'] = df['گرمایش'].str.replace('شوتینگ زباله', 'nan')\n",
    "df['گرمایش'] = df['گرمایش'].str.replace('روف گاردن', 'nan')\n",
    "df['گرمایش'] = df['گرمایش'].str.replace('پارکینگ', 'nan')\n",
    "df['گرمایش'] = df['گرمایش'].str.replace('درب ضد سرقت', 'nan')\n",
    "df['گرمایش'] = df['گرمایش'].str.replace('لابی', 'nan')\n",
    "df['گرمایش'] = df['گرمایش'].str.replace('2 هفته پیش', 'nan')\n",
    "df['گرمایش'] = df['گرمایش'].str.replace('4 روز پیش', 'nan')\n",
    "df['گرمایش'] = df['گرمایش'].str.replace('شوتینگ زباله', 'nan')\n",
    "df['گرمایش'] = df['گرمایش'].str.replace('پنجره دو جداره', 'nan')\n",
    "df['گرمایش'] = df['گرمایش'].str.replace('آسانسور', 'nan')\n",
    "df['گرمایش'] = df['گرمایش'].str.replace('5 روز پیش', 'nan')\n",
    "df['گرمایش'] = df['گرمایش'].str.replace('آیفون تصویری', 'nan')\n",
    "df['گرمایش'] = df['گرمایش'].str.replace('بالکن', 'nan')\n",
    "\n",
    "df['گرمایش'] = df['گرمایش'].str.replace('حیاط', 'nan')\n",
    "df['گرمایش'] = df['گرمایش'].str.replace('آبگرمکن', 'nan')\n",
    "df['گرمایش'] = df['گرمایش'].str.replace(' هفته پیش 4', 'nan')\n",
    "df['گرمایش'] = df['گرمایش'].str.replace('باربیکیو', 'nan')\n",
    "df['گرمایش'] = df['گرمایش'].str.replace('اسپلیت', 'nan')\n",
    "df['گرمایش'] = df['گرمایش'].str.replace('4 هفته پیش', 'nan')\n",
    "df['گرمایش'] = df['گرمایش'].str.replace('انباری', 'nan')\n",
    "df['گرمایش'] = df['گرمایش'].str.replace('لابی', 'nan')\n",
    "df['گرمایش'] = df['گرمایش'].str.replace('2 هفته پیش', 'nan')\n",
    "df['گرمایش'] = df['گرمایش'].str.replace('4 روز پیش', 'nan')\n",
    "df['گرمایش'] = df['گرمایش'].str.replace('سونا و جکوزی', 'nan')\n",
    "df['گرمایش'] = df['گرمایش'].str.replace('سالن اجتماعات', 'nan')\n",
    "df['گرمایش'] = df['گرمایش'].str.replace('آسانسور', 'nan')\n",
    "df['گرمایش'] = df['گرمایش'].str.replace('5 روز پیش', 'nan')\n",
    "df['گرمایش'] = df['گرمایش'].str.replace('درب ریموت', 'nan')\n",
    "df['گرمایش'] = df['گرمایش'].str.replace('7 روز پیش', 'nan')"
   ]
  },
  {
   "cell_type": "code",
   "execution_count": 23,
   "id": "45dd7d3f",
   "metadata": {},
   "outputs": [
    {
     "data": {
      "text/plain": [
       "array(['Duct Split', 'heating', 'air conditioner', 'nan',\n",
       "       'from the floor', 'fireplace', 'Powerhouse', 'package', nan,\n",
       "       'Bukhari'], dtype=object)"
      ]
     },
     "execution_count": 23,
     "metadata": {},
     "output_type": "execute_result"
    }
   ],
   "source": [
    "df['گرمایش'].unique()"
   ]
  },
  {
   "cell_type": "code",
   "execution_count": 25,
   "id": "0e99705e",
   "metadata": {},
   "outputs": [
    {
     "data": {
      "text/plain": [
       "array(['سنگ', 'پارکت لمینت', 'پارکت چوب', 'سرامیکی', 'چوبی', 'موزاییکی',\n",
       "       'ترکیبی', 'موکت', 'دیگر', 'داکت اسپلیت', 'شیشه و سنگ', 'شوفاژ',\n",
       "       '1 ماه پیش', 'سیمان', 'کف\\u200cپوش PVC', '4 هفته پیش', nan, 'رومی',\n",
       "       'موتورخانه', 'کولر آبی', 'سیمانی', 'انگلیسی', 'کولر گازی',\n",
       "       'اسپلیت', 'سونا و جکوزی', '2 ماه پیش'], dtype=object)"
      ]
     },
     "execution_count": 25,
     "metadata": {},
     "output_type": "execute_result"
    }
   ],
   "source": [
    "df['نوع کف'].unique()"
   ]
  },
  {
   "cell_type": "code",
   "execution_count": 35,
   "id": "068d6b38",
   "metadata": {},
   "outputs": [],
   "source": [
    "df['نوع کف'] = df['نوع کف'].str.replace('موزاییکی', 'Mosaic')\n",
    "df['نوع کف'] = df['نوع کف'].str.replace('چوبی', 'wooden')\n",
    "df['نوع کف'] = df['نوع کف'].str.replace('سرامیکی', 'ceramic')\n",
    "df['نوع کف'] = df['نوع کف'].str.replace('پارکت چوب', 'Wood parquet')\n",
    "df['نوع کف'] = df['نوع کف'].str.replace('پارکت لمینت', 'Laminate parquet')\n",
    "df['نوع کف'] = df['نوع کف'].str.replace('سنگ', 'Rock')\n",
    "df['نوع کف'] = df['نوع کف'].str.replace('ترکیبی', 'hybrid')\n",
    "df['نوع کف'] = df['نوع کف'].str.replace('موکت', 'carpet')\n",
    "df['نوع کف'] = df['نوع کف'].str.replace('شیشه و سنگ', 'Glass and stone')\n",
    "df['نوع کف'] = df['نوع کف'].str.replace('سیمان', 'Cement')"
   ]
  },
  {
   "cell_type": "code",
   "execution_count": 79,
   "id": "0ee65beb",
   "metadata": {},
   "outputs": [],
   "source": [
    "df['نوع کف'] = df['نوع کف'].str.replace('رومی', 'nan')\n",
    "df['نوع کف'] = df['نوع کف'].str.replace('دیگر', 'Rock')\n",
    "df['نوع کف'] = df['نوع کف'].str.replace('داکت', 'nan')\n",
    "df['نوع کف'] = df['نوع کف'].str.replace('3 ماه پیش', 'nan')\n",
    "\n",
    "df['نوع کف'] = df['نوع کف'].str.replace('Cementی', 'nan')\n",
    "df['نوع کف'] = df['نوع کف'].str.replace('2 ماه پیش', 'nan')\n",
    "df['نوع کف'] = df['نوع کف'].str.replace('آبگرمکن', 'nan')\n",
    "df['نوع کف'] = df['نوع کف'].str.replace('1 هفته پیش', 'nan')\n",
    "df['نوع کف'] = df['نوع کف'].str.replace('از کف', 'nan')\n",
    "df['نوع کف'] = df['نوع کف'].str.replace('سونا و جکوزی', 'nan')\n",
    "df['نوع کف'] = df['نوع کف'].str.replace('شوتینگ زباله', 'nan')\n",
    "df['نوع کف'] = df['نوع کف'].str.replace('روف گاردن', 'nan')\n",
    "\n",
    "df['نوع کف'] = df['نوع کف'].str.replace('پارکینگ', 'nan')\n",
    "df['نوع کف'] = df['نوع کف'].str.replace('شیشه و Rock', 'nan')\n",
    "df['نوع کف'] = df['نوع کف'].str.replace('داکت Split', 'nan')\n",
    "df['نوع کف'] = df['نوع کف'].str.replace('کف\\u200cپوش', 'nan')\n",
    "df['نوع کف'] = df['نوع کف'].str.replace('کولر آبی', 'nan')\n",
    "df['نوع کف'] = df['نوع کف'].str.replace('1 ماه پیش', 'nan')\n",
    "df['نوع کف'] = df['نوع کف'].str.replace('موتورخانه', 'nan')\n",
    "df['نوع کف'] = df['نوع کف'].str.replace('اسپلیت', 'nan')\n",
    "\n",
    "df['نوع کف'] = df['نوع کف'].str.replace('4 هفته پیش', 'nan')\n",
    "df['نوع کف'] = df['نوع کف'].str.replace('انگلیسی', 'nan')\n",
    "df['نوع کف'] = df['نوع کف'].str.replace('داکت اسپلیت', 'nan')\n",
    "df['نوع کف'] = df['نوع کف'].str.replace('کولر گازی', 'nan')\n",
    "df['نوع کف'] = df['نوع کف'].str.replace('nan PVC', 'nan')\n",
    "df['نوع کف'] = df['نوع کف'].str.replace('nan nan', 'nan')"
   ]
  },
  {
   "cell_type": "code",
   "execution_count": 80,
   "id": "c694470a",
   "metadata": {},
   "outputs": [
    {
     "data": {
      "text/plain": [
       "array(['Rock', 'Laminate parquet', 'Wood parquet', 'ceramic', 'wooden',\n",
       "       'Mosaic', 'hybrid', 'carpet', 'nan', 'Cement', nan], dtype=object)"
      ]
     },
     "execution_count": 80,
     "metadata": {},
     "output_type": "execute_result"
    }
   ],
   "source": [
    "df['نوع کف'].unique()"
   ]
  },
  {
   "cell_type": "code",
   "execution_count": 51,
   "id": "5ad22ba0",
   "metadata": {},
   "outputs": [
    {
     "data": {
      "text/plain": [
       "array(['Rock', 'nan', 'other', 'brick', 'Glass and stone', 'Romi',\n",
       "       'cement', 'wooden', nan], dtype=object)"
      ]
     },
     "execution_count": 51,
     "metadata": {},
     "output_type": "execute_result"
    }
   ],
   "source": [
    "df['نما'].unique()"
   ]
  },
  {
   "cell_type": "code",
   "execution_count": 52,
   "id": "766f83a4",
   "metadata": {},
   "outputs": [],
   "source": [
    "df['نما']= df['نما'].str.replace('رومی', 'Romi')\n",
    "df['نما']= df['نما'].str.replace('شیشه و سنگ', 'Glass and stone')\n",
    "df['نما']= df['نما'].str.replace('آجری', 'brick')\n",
    "df['نما']= df['نما'].str.replace('سنگ', 'Rock')\n",
    "df['نما']= df['نما'].str.replace('سیمانی', 'cement')\n",
    "df['نما']= df['نما'].str.replace('چوبی', 'wooden')\n",
    "df['نما']= df['نما'].str.replace('دیگر', 'other')"
   ]
  },
  {
   "cell_type": "code",
   "execution_count": 53,
   "id": "b72fd892",
   "metadata": {},
   "outputs": [],
   "source": [
    "df['نما']= df['نما'].str.replace('nan nan', 'nan')\n",
    "df['نما']= df['نما'].str.replace('دیگر', 'Rock')\n",
    "df['نما']= df['نما'].str.replace('داکت', 'nan')\n",
    "df['نما']= df['نما'].str.replace('3 ماه پیش', 'nan')\n",
    "\n",
    "df['نما']= df['نما'].str.replace('Cementی', 'nan')\n",
    "df['نما']= df['نما'].str.replace('2 ماه پیش', 'nan')\n",
    "df['نما']= df['نما'].str.replace('آبگرمکن', 'nan')\n",
    "df['نما']= df['نما'].str.replace('1 هفته پیش', 'nan')\n",
    "df['نما']= df['نما'].str.replace('از کف', 'nan')\n",
    "df['نما']= df['نما'].str.replace('سونا و جکوزی', 'nan')\n",
    "df['نما']= df['نما'].str.replace('ترکیبی', 'nan')\n",
    "df['نما']= df['نما'].str.replace('روف گاردن', 'nan')\n",
    "\n",
    "df['نما']= df['نما'].str.replace('پارکینگ', 'nan')\n",
    "df['نما']= df['نما'].str.replace('شیشه و Rock', 'nan')\n",
    "df['نما']= df['نما'].str.replace('داکت Split', 'nan')\n",
    "df['نما']= df['نما'].str.replace('کف\\u200cپوش', 'nan')\n",
    "df['نما']= df['نما'].str.replace('کولر آبی', 'nan')\n",
    "df['نما']= df['نما'].str.replace('1 ماه پیش', 'nan')\n",
    "df['نما']= df['نما'].str.replace('موتورخانه', 'nan')\n",
    "df['نما']= df['نما'].str.replace('2 هفته پیش', 'nan')\n",
    "\n",
    "df['نما']= df['نما'].str.replace('کامپوزیت', 'nan')\n",
    "df['نما']= df['نما'].str.replace('3 هفته پیش', 'nan')\n",
    "df['نما']= df['نما'].str.replace('شوفاژ', 'nan')\n",
    "df['نما']= df['نما'].str.replace('کانکس', 'nan')\n",
    "df['نما']= df['نما'].str.replace('پنجره دو جداره', 'nan')\n",
    "df['نما']= df['نما'].str.replace('1 ماه پیش', 'nan')\n",
    "df['نما']= df['نما'].str.replace('پکیج', 'nan')\n",
    "df['نما']= df['نما'].str.replace('فن کوئل', 'nan')\n",
    "df['نما']= df['نما'].str.replace('شومینه', 'nan')\n",
    "df['نما']= df['نما'].str.replace('انگلیسی', 'nan')\n",
    "df['نما']= df['نما'].str.replace('داکت اسپلیت', 'nan')\n",
    "df['نما']= df['نما'].str.replace('کولر گازی', 'nan')"
   ]
  },
  {
   "cell_type": "code",
   "execution_count": 54,
   "id": "c296cc08",
   "metadata": {},
   "outputs": [
    {
     "data": {
      "text/plain": [
       "array(['Rock', 'nan', 'other', 'brick', 'Glass and stone', 'Romi',\n",
       "       'cement', 'wooden', nan], dtype=object)"
      ]
     },
     "execution_count": 54,
     "metadata": {},
     "output_type": "execute_result"
    }
   ],
   "source": [
    "df['نما'].unique()"
   ]
  },
  {
   "cell_type": "code",
   "execution_count": 55,
   "id": "34adffa2",
   "metadata": {},
   "outputs": [
    {
     "data": {
      "text/plain": [
       "array(['1', '3', '2', '4', '8', '6', '5', '7', 'سنگ', 'سرامیکی', 'دیگر',\n",
       "       'موتورخانه', nan, 'شوفاژ', 'پارکت چوب', 'داکت اسپلیت', 'رومی',\n",
       "       'پارکت لمینت', 'کولر آبی', 'لابی', 'آجری'], dtype=object)"
      ]
     },
     "execution_count": 55,
     "metadata": {},
     "output_type": "execute_result"
    }
   ],
   "source": [
    "df['تعداد واحد طبقه'].unique()"
   ]
  },
  {
   "cell_type": "code",
   "execution_count": 60,
   "id": "23dbe86a",
   "metadata": {},
   "outputs": [],
   "source": [
    "df['تعداد واحد طبقه']= df['تعداد واحد طبقه'].str.replace('رومی', 'nan')\n",
    "df['تعداد واحد طبقه']= df['تعداد واحد طبقه'].str.replace('پارکت چوب', 'nan')\n",
    "df['تعداد واحد طبقه']= df['تعداد واحد طبقه'].str.replace('آجری', 'nan')\n",
    "df['تعداد واحد طبقه']= df['تعداد واحد طبقه'].str.replace('سنگ', 'nan')\n",
    "df['تعداد واحد طبقه']= df['تعداد واحد طبقه'].str.replace('پارکت لمینت', 'nan')\n",
    "df['تعداد واحد طبقه']= df['تعداد واحد طبقه'].str.replace('چوبی', 'nan')\n",
    "df['تعداد واحد طبقه']= df['تعداد واحد طبقه'].str.replace('دیگر', 'other')\n",
    "df['تعداد واحد طبقه']= df['تعداد واحد طبقه'].str.replace('رومی', 'nan')\n",
    "df['تعداد واحد طبقه']= df['تعداد واحد طبقه'].str.replace('کولر آبی', 'nan')\n",
    "df['تعداد واحد طبقه']= df['تعداد واحد طبقه'].str.replace('شوفاژ', 'nan')\n",
    "df['تعداد واحد طبقه']= df['تعداد واحد طبقه'].str.replace('موتورخانه', 'nan')\n",
    "df['تعداد واحد طبقه']= df['تعداد واحد طبقه'].str.replace('پارکت لمینت', 'nan')\n",
    "df['تعداد واحد طبقه']= df['تعداد واحد طبقه'].str.replace('لابی', 'nan')\n",
    "df['تعداد واحد طبقه']= df['تعداد واحد طبقه'].str.replace('other', 'nan')\n",
    "df['تعداد واحد طبقه']= df['تعداد واحد طبقه'].str.replace('سرامیکی', 'nan')\n",
    "df['تعداد واحد طبقه']= df['تعداد واحد طبقه'].str.replace('داکت اسپلیت', 'nan')"
   ]
  },
  {
   "cell_type": "code",
   "execution_count": 61,
   "id": "120070b8",
   "metadata": {},
   "outputs": [
    {
     "data": {
      "text/plain": [
       "array(['1', '3', '2', '4', '8', '6', '5', '7', 'nan', nan], dtype=object)"
      ]
     },
     "execution_count": 61,
     "metadata": {},
     "output_type": "execute_result"
    }
   ],
   "source": [
    "df['تعداد واحد طبقه'].unique()"
   ]
  },
  {
   "cell_type": "code",
   "execution_count": 118,
   "id": "4a86568a",
   "metadata": {},
   "outputs": [
    {
     "data": {
      "text/plain": [
       "array(['4', '2', '1', '3', '5', 'همکف', '6', '8', '7', '11', '9', '20',\n",
       "       '10', '16', '12', '19', '27', '14', '15', '13', '18', '17', nan,\n",
       "       '25', '21', 'زیرهمکف', 'ایرانی', '22', 'بیشتر از 30',\n",
       "       'ایرانی و فرنگی', '30'], dtype=object)"
      ]
     },
     "execution_count": 118,
     "metadata": {},
     "output_type": "execute_result"
    }
   ],
   "source": [
    "df['طبقه'].unique()"
   ]
  },
  {
   "cell_type": "code",
   "execution_count": 62,
   "id": "af3e16f9",
   "metadata": {},
   "outputs": [],
   "source": [
    "df['طبقه']= df['طبقه'].str.replace('همکف', '0')\n",
    "df['طبقه']= df['طبقه'].str.replace('زیرهمکف', '-1')\n",
    "df['طبقه']= df['طبقه'].str.replace('بیشتر از 30', '31')"
   ]
  },
  {
   "cell_type": "code",
   "execution_count": 64,
   "id": "afbc1871",
   "metadata": {},
   "outputs": [],
   "source": [
    "df['طبقه']= df['طبقه'].str.replace('ایرانی و فرنگی', 'nan')\n",
    "df['طبقه']= df['طبقه'].str.replace('ایرانی', 'nan')\n",
    "df['طبقه']= df['طبقه'].str.replace('زیر0', 'nan')"
   ]
  },
  {
   "cell_type": "code",
   "execution_count": 65,
   "id": "927a9b69",
   "metadata": {},
   "outputs": [
    {
     "data": {
      "text/plain": [
       "array(['4', '2', '1', '3', '5', '0', '6', '8', '7', '11', '9', '20', '10',\n",
       "       '16', '12', '19', '27', '14', '15', '13', '18', '17', nan, '25',\n",
       "       '21', 'nan', '22', '31', '30'], dtype=object)"
      ]
     },
     "execution_count": 65,
     "metadata": {},
     "output_type": "execute_result"
    }
   ],
   "source": [
    "df['طبقه'].unique()"
   ]
  },
  {
   "cell_type": "code",
   "execution_count": 120,
   "id": "08997431",
   "metadata": {},
   "outputs": [
    {
     "data": {
      "text/plain": [
       "array(['Apateman', nan], dtype=object)"
      ]
     },
     "execution_count": 120,
     "metadata": {},
     "output_type": "execute_result"
    }
   ],
   "source": [
    "df['نوع ملک'].unique()"
   ]
  },
  {
   "cell_type": "code",
   "execution_count": 66,
   "id": "658a896f",
   "metadata": {},
   "outputs": [
    {
     "data": {
      "text/plain": [
       "array([ 3.,  2.,  1.,  4.,  5.,  6., nan,  7., 10.])"
      ]
     },
     "execution_count": 66,
     "metadata": {},
     "output_type": "execute_result"
    }
   ],
   "source": [
    "df['تعداد خواب'].unique()"
   ]
  },
  {
   "cell_type": "code",
   "execution_count": 67,
   "id": "99a81137",
   "metadata": {},
   "outputs": [
    {
     "data": {
      "text/plain": [
       "array(['TRUE', 'FALSE', nan, '3', '9', '2', '10', '1', '5', '4', '14',\n",
       "       '6', '7'], dtype=object)"
      ]
     },
     "execution_count": 67,
     "metadata": {},
     "output_type": "execute_result"
    }
   ],
   "source": [
    "df['نوع سند'].unique()"
   ]
  },
  {
   "cell_type": "code",
   "execution_count": 70,
   "id": "ba4ccacc",
   "metadata": {},
   "outputs": [],
   "source": [
    "df['نوع سند']= df['نوع سند'].str.replace('3', 'nan')\n",
    "df['نوع سند']= df['نوع سند'].str.replace('9', 'nan')\n",
    "df['نوع سند']= df['نوع سند'].str.replace('2', 'nan')\n",
    "df['نوع سند']= df['نوع سند'].str.replace('10', 'nan')\n",
    "df['نوع سند']= df['نوع سند'].str.replace('1', 'nan')\n",
    "df['نوع سند']= df['نوع سند'].str.replace('5', 'nan')\n",
    "df['نوع سند']= df['نوع سند'].str.replace('4', 'nan')\n",
    "df['نوع سند']= df['نوع سند'].str.replace('14', 'nan')\n",
    "df['نوع سند']= df['نوع سند'].str.replace('6', 'nan')\n",
    "df['نوع سند']= df['نوع سند'].str.replace('7', 'nan')\n",
    "df['نوع سند']= df['نوع سند'].str.replace('nannan', 'nan')"
   ]
  },
  {
   "cell_type": "code",
   "execution_count": 71,
   "id": "ce6cd061",
   "metadata": {},
   "outputs": [
    {
     "data": {
      "text/plain": [
       "array(['TRUE', 'FALSE', nan, 'nan'], dtype=object)"
      ]
     },
     "execution_count": 71,
     "metadata": {},
     "output_type": "execute_result"
    }
   ],
   "source": [
    "df['نوع سند'].unique()"
   ]
  },
  {
   "cell_type": "code",
   "execution_count": 123,
   "id": "c7499b1b",
   "metadata": {},
   "outputs": [
    {
     "data": {
      "text/plain": [
       "array(['5', '4', '6', '10', '9', '3', '8', '7', '11', '12', '1', '26',\n",
       "       '13', '2', '19', '20', '17', '15', '27', '90', '14', '200', '25',\n",
       "       '24', '16', '22', 'سنگ', '18', '21', '28', '195', '30', nan,\n",
       "       'ایرانی و فرنگی', '41', '31', 'سرامیکی', 'ایرانی', '1 ماه پیش',\n",
       "       '42', 'فرنگی', '29', '23'], dtype=object)"
      ]
     },
     "execution_count": 123,
     "metadata": {},
     "output_type": "execute_result"
    }
   ],
   "source": [
    "df['تعداد طبقات'].unique()"
   ]
  },
  {
   "cell_type": "code",
   "execution_count": 72,
   "id": "0ca4ad6e",
   "metadata": {},
   "outputs": [],
   "source": [
    "df['تعداد طبقات']= df['تعداد طبقات'].str.replace('ایرانی و فرنگی', 'nan')\n",
    "df['تعداد طبقات']= df['تعداد طبقات'].str.replace('ایرانی', 'nan')\n",
    "df['تعداد طبقات']= df['تعداد طبقات'].str.replace('1 ماه پیش', 'nan')\n",
    "df['تعداد طبقات']= df['تعداد طبقات'].str.replace('سرامیکی', 'nan')\n",
    "df['تعداد طبقات']= df['تعداد طبقات'].str.replace('فرنگی', 'nan')\n",
    "df['تعداد طبقات']= df['تعداد طبقات'].str.replace('سنگ', 'nan')"
   ]
  },
  {
   "cell_type": "code",
   "execution_count": 73,
   "id": "c1d00aa5",
   "metadata": {},
   "outputs": [
    {
     "data": {
      "text/plain": [
       "array(['5', '4', '6', '10', '9', '3', '8', '7', '11', '12', '1', '26',\n",
       "       '13', '2', '19', '20', '17', '15', '27', '90', '14', '200', '25',\n",
       "       '24', '16', '22', 'nan', '18', '21', '28', '195', '30', nan, '41',\n",
       "       '31', '42', '29', '23'], dtype=object)"
      ]
     },
     "execution_count": 73,
     "metadata": {},
     "output_type": "execute_result"
    }
   ],
   "source": [
    "df['تعداد طبقات'].unique()"
   ]
  },
  {
   "cell_type": "code",
   "execution_count": 125,
   "id": "6b57d1bf",
   "metadata": {},
   "outputs": [
    {
     "data": {
      "text/plain": [
       "array([1401., 1383., 1397., 1394., 1400., 1393., 1399., 1392., 1381.,\n",
       "       1386., 1391., 1398., 1380., 1385., 1396., 1390., 1395., 1389.,\n",
       "       1384., 1388., 1387., 1382., 1379., 1366., 1373., 1377., 1375.,\n",
       "       1376., 1378., 1370.,   nan, 1372., 1369., 1371., 1365., 1362.,\n",
       "       1374., 1360.])"
      ]
     },
     "execution_count": 125,
     "metadata": {},
     "output_type": "execute_result"
    }
   ],
   "source": [
    "df['سال ساخت'].unique()"
   ]
  },
  {
   "cell_type": "code",
   "execution_count": 98,
   "id": "e88e7dcb",
   "metadata": {},
   "outputs": [
    {
     "data": {
      "text/plain": [
       "array(['ایرانی و فرنگی', 'فرنگی', 'ایرانی', '2', 'سنگ', '1', '6', nan,\n",
       "       '4', 'کولر آبی', '5', 'سرامیکی', 'ترکیبی', '3', '8', 'پارکینگ',\n",
       "       'موکت'], dtype=object)"
      ]
     },
     "execution_count": 98,
     "metadata": {},
     "output_type": "execute_result"
    }
   ],
   "source": [
    "df['سرویس بهداشتی'].unique()"
   ]
  },
  {
   "cell_type": "code",
   "execution_count": 99,
   "id": "0f24e5e5",
   "metadata": {},
   "outputs": [],
   "source": [
    "df['سرویس بهداشتی']= df['سرویس بهداشتی'].str.replace('ایرانی و فرنگی', 'Iranian and French')\n",
    "df['سرویس بهداشتی']= df['سرویس بهداشتی'].str.replace('ایرانی', 'Iranian')\n",
    "df['سرویس بهداشتی']= df['سرویس بهداشتی'].str.replace('فرنگی', 'French')"
   ]
  },
  {
   "cell_type": "code",
   "execution_count": 102,
   "id": "2671b98b",
   "metadata": {},
   "outputs": [],
   "source": [
    "df['سرویس بهداشتی']= df['سرویس بهداشتی'].str.replace('6', 'nan')\n",
    "df['سرویس بهداشتی']= df['سرویس بهداشتی'].str.replace('8', 'nan')\n",
    "df['سرویس بهداشتی']= df['سرویس بهداشتی'].str.replace('2', 'nan')\n",
    "df['سرویس بهداشتی']= df['سرویس بهداشتی'].str.replace('3', 'nan')\n",
    "df['سرویس بهداشتی']= df['سرویس بهداشتی'].str.replace('5', 'nan')\n",
    "df['سرویس بهداشتی']= df['سرویس بهداشتی'].str.replace('سنگ', 'nan')\n",
    "df['سرویس بهداشتی']= df['سرویس بهداشتی'].str.replace('4', 'nan')\n",
    "df['سرویس بهداشتی']= df['سرویس بهداشتی'].str.replace('پارکینگ', 'nan')\n",
    "df['سرویس بهداشتی']= df['سرویس بهداشتی'].str.replace('ترکیبی', 'nan')\n",
    "df['سرویس بهداشتی']= df['سرویس بهداشتی'].str.replace('سرامیکی', 'nan')\n",
    "df['سرویس بهداشتی']= df['سرویس بهداشتی'].str.replace('کولر آبی', 'nan')\n",
    "df['سرویس بهداشتی']= df['سرویس بهداشتی'].str.replace('موکت', 'nan')\n",
    "df['سرویس بهداشتی']= df['سرویس بهداشتی'].str.replace('1', 'nan')"
   ]
  },
  {
   "cell_type": "code",
   "execution_count": 103,
   "id": "e1148305",
   "metadata": {},
   "outputs": [
    {
     "data": {
      "text/plain": [
       "array(['Iranian and French', 'French', 'Iranian', 'nan', nan],\n",
       "      dtype=object)"
      ]
     },
     "execution_count": 103,
     "metadata": {},
     "output_type": "execute_result"
    }
   ],
   "source": [
    "df['سرویس بهداشتی'].unique()"
   ]
  },
  {
   "cell_type": "code",
   "execution_count": 104,
   "id": "f09e8ab9",
   "metadata": {},
   "outputs": [
    {
     "data": {
      "text/plain": [
       "array([136.0, 108.0, 71.0, 135.0, 117.0, 90.0, 91.0, 88.0, 83.0, 93.0,\n",
       "       74.0, 55.0, 64.0, 115.0, 62.0, 82.0, 78.0, 127.0, 73.0, 85.0, 80.0,\n",
       "       113.0, 105.0, 155.0, 66.0, 95.0, 130.0, 161.0, 190.0, 100.0, 159.0,\n",
       "       68.0, 160.0, 119.0, 110.0, 75.0, 156.0, 170.0, 92.0, 282.0, 185.0,\n",
       "       65.0, 120.0, 240.0, 132.0, 58.0, 84.0, 195.0, 128.0, 102.0, 101.0,\n",
       "       180.0, 260.0, 172.0, 116.0, 109.0, 76.0, 200.0, 150.0, 81.0, 60.0,\n",
       "       157.0, 220.0, 145.0, 153.0, 162.0, 235.0, 56.0, 106.0, 194.0, 57.0,\n",
       "       255.0, 123.0, 41.0, 165.0, 131.0, 151.0, 94.0, 103.0, 107.0, 280.0,\n",
       "       187.0, 125.0, 111.0, 121.0, 250.0, 217.0, 300.0, 112.0, 134.0,\n",
       "       205.0, 470.0, 51.0, 63.0, 245.0, 59.0, 147.0, 54.0, 77.0, 45.0,\n",
       "       70.0, 450.0, 72.0, 146.0, 215.0, 140.0, 246.0, 163.0, 206.0, 228.0,\n",
       "       126.0, 87.0, 98.0, 50.0, 169.0, 133.0, 69.0, 212.0, 350.0, 148.0,\n",
       "       270.0, 96.0, 400.0, 53.0, 122.0, 97.0, 158.0, 225.0, 266.0, 230.0,\n",
       "       236.0, 209.0, 124.0, 226.0, 275.0, 216.0, 310.0, 480.0, 143.0,\n",
       "       500.0, 138.0, 186.0, 320.0, 238.0, 178.0, 251.0, 118.0, 114.0,\n",
       "       222.0, 340.0, 370.0, 210.0, 344.0, 430.0, 330.0, 223.0, 253.0,\n",
       "       61.0, 193.0, 460.0, 184.0, 375.0, 583.0, 181.0, 420.0, 412.0,\n",
       "       219.0, 570.0, 214.0, 560.0, 227.0, 173.0, 137.0, 278.0, 199.0,\n",
       "       274.0, 436.0, 171.0, 445.0, 830.0, 490.0, 325.0, 405.0, 152.0,\n",
       "       395.0, 316.0, 267.0, 86.0, 308.0, 197.0, 380.0, 290.0, 1000.0,\n",
       "       202.0, 154.0, 191.0, 67.0, 650.0, 252.0, 196.0, 232.0, 241.0,\n",
       "       144.0, 333.0, 182.0, 218.0, 285.0, 141.0, 530.0, 208.0, 142.0,\n",
       "       168.0, 175.0, 620.0, 164.0, 89.0, 79.0, 183.0, 335.0, 315.0, 234.0,\n",
       "       440.0, 273.0, 355.0, 360.0, 203.0, 353.0, 198.0, 354.0, 365.0,\n",
       "       188.0, 189.0, 224.0, 149.0, 263.0, 366.0, 242.0, 410.0, 311.0,\n",
       "       302.0, 352.0, 295.0, 104.0, 237.0, 485.0, 272.0, 231.0, 373.0,\n",
       "       520.0, 540.0, 550.0, 323.0, 318.0, 281.0, '100', 207.0, 201.0,\n",
       "       46.0, 287.0, 40.0, 286.0, 670.0, 411.0, 800.0, 840.0, 248.0, 452.0,\n",
       "       510.0, 10000.0, 265.0, 204.0, 301.0, 660.0, 640.0, 174.0, 48.0,\n",
       "       374.0, 192.0, 305.0, 213.0, 700.0, 600.0, 385.0, 288.0, 258.0,\n",
       "       52.0, 455.0, 359.0, 433.0, 750.0, 167.0, 256.0, 47.0, 416.0, 925.0,\n",
       "       254.0, 243.0, 328.0, 306.0, 99.0, 166.0, 900.0, 177.0, 179.0,\n",
       "       346.0, 465.0, 261.0, 276.0, 920.0, 233.0, 289.0, 35.0, 535.0,\n",
       "       4550.0, 1200.0, 1250.0, 317.0, 475.0, 565.0, 42.0, 1500.0, 312.0,\n",
       "       850.0, 129.0, 635.0, 580.0, 376.0, 303.0, 291.0, 383.0, 327.0,\n",
       "       43.0, 404.0, 176.0], dtype=object)"
      ]
     },
     "execution_count": 104,
     "metadata": {},
     "output_type": "execute_result"
    }
   ],
   "source": [
    "df['متراژ'].unique()"
   ]
  },
  {
   "cell_type": "code",
   "execution_count": null,
   "id": "3e58800b",
   "metadata": {},
   "outputs": [],
   "source": []
  },
  {
   "cell_type": "markdown",
   "id": "ed2c9368",
   "metadata": {},
   "source": [
    "# ********************************************************************************"
   ]
  },
  {
   "cell_type": "markdown",
   "id": "23bc9cbd",
   "metadata": {},
   "source": [
    "# fill the nan value"
   ]
  },
  {
   "cell_type": "code",
   "execution_count": 114,
   "id": "4f818267",
   "metadata": {},
   "outputs": [],
   "source": [
    "df.to_csv('ok.csv')"
   ]
  },
  {
   "cell_type": "code",
   "execution_count": 115,
   "id": "fd249270",
   "metadata": {},
   "outputs": [
    {
     "data": {
      "text/html": [
       "<div>\n",
       "<style scoped>\n",
       "    .dataframe tbody tr th:only-of-type {\n",
       "        vertical-align: middle;\n",
       "    }\n",
       "\n",
       "    .dataframe tbody tr th {\n",
       "        vertical-align: top;\n",
       "    }\n",
       "\n",
       "    .dataframe thead th {\n",
       "        text-align: right;\n",
       "    }\n",
       "</style>\n",
       "<table border=\"1\" class=\"dataframe\">\n",
       "  <thead>\n",
       "    <tr style=\"text-align: right;\">\n",
       "      <th></th>\n",
       "      <th>Unnamed: 0</th>\n",
       "      <th>نوع ملک</th>\n",
       "      <th>متراژ</th>\n",
       "      <th>قیمت</th>\n",
       "      <th>قیمت(متر مربع)</th>\n",
       "      <th>منطقه</th>\n",
       "      <th>سال ساخت</th>\n",
       "      <th>تعداد خواب</th>\n",
       "      <th>جهت ساختمان</th>\n",
       "      <th>نوع سند</th>\n",
       "      <th>...</th>\n",
       "      <th>سرمایش</th>\n",
       "      <th>گرمایش</th>\n",
       "      <th>آب گرم</th>\n",
       "      <th>تاریخ انتشار</th>\n",
       "      <th>latitude</th>\n",
       "      <th>longitude</th>\n",
       "      <th>site</th>\n",
       "      <th>آسانسور</th>\n",
       "      <th>انباری</th>\n",
       "      <th>پارکینگ</th>\n",
       "    </tr>\n",
       "  </thead>\n",
       "  <tbody>\n",
       "    <tr>\n",
       "      <th>0</th>\n",
       "      <td>0</td>\n",
       "      <td>Apateman</td>\n",
       "      <td>136.0</td>\n",
       "      <td>12,500,000,000</td>\n",
       "      <td>91,900,000</td>\n",
       "      <td>امیرآباد تهران</td>\n",
       "      <td>1401.0</td>\n",
       "      <td>3.0</td>\n",
       "      <td>North</td>\n",
       "      <td>True</td>\n",
       "      <td>...</td>\n",
       "      <td>NaN</td>\n",
       "      <td>Duct Split</td>\n",
       "      <td>package</td>\n",
       "      <td>4 last week</td>\n",
       "      <td>35.733903</td>\n",
       "      <td>51.394386</td>\n",
       "      <td>https://shabesh.com/</td>\n",
       "      <td>1</td>\n",
       "      <td>1</td>\n",
       "      <td>1</td>\n",
       "    </tr>\n",
       "    <tr>\n",
       "      <th>1</th>\n",
       "      <td>1</td>\n",
       "      <td>Apateman</td>\n",
       "      <td>108.0</td>\n",
       "      <td>7,500,000,000</td>\n",
       "      <td>69,400,000</td>\n",
       "      <td>دولت تهران</td>\n",
       "      <td>1383.0</td>\n",
       "      <td>2.0</td>\n",
       "      <td>North</td>\n",
       "      <td>True</td>\n",
       "      <td>...</td>\n",
       "      <td>Water Cooler</td>\n",
       "      <td>heating</td>\n",
       "      <td>Powerhouse</td>\n",
       "      <td>3 last week</td>\n",
       "      <td>35.780815</td>\n",
       "      <td>51.450526</td>\n",
       "      <td>https://shabesh.com/</td>\n",
       "      <td>0</td>\n",
       "      <td>1</td>\n",
       "      <td>1</td>\n",
       "    </tr>\n",
       "    <tr>\n",
       "      <th>2</th>\n",
       "      <td>2</td>\n",
       "      <td>Apateman</td>\n",
       "      <td>71.0</td>\n",
       "      <td>4,900,000,000</td>\n",
       "      <td>69,000,000</td>\n",
       "      <td>جنت آباد مرکزی تهران</td>\n",
       "      <td>1397.0</td>\n",
       "      <td>2.0</td>\n",
       "      <td>North</td>\n",
       "      <td>True</td>\n",
       "      <td>...</td>\n",
       "      <td>Water Cooler</td>\n",
       "      <td>heating</td>\n",
       "      <td>package</td>\n",
       "      <td>3 last week</td>\n",
       "      <td>35.758078</td>\n",
       "      <td>51.301245</td>\n",
       "      <td>https://shabesh.com/</td>\n",
       "      <td>1</td>\n",
       "      <td>1</td>\n",
       "      <td>1</td>\n",
       "    </tr>\n",
       "    <tr>\n",
       "      <th>3</th>\n",
       "      <td>3</td>\n",
       "      <td>Apateman</td>\n",
       "      <td>135.0</td>\n",
       "      <td>13,500,000,000</td>\n",
       "      <td>100,000,000</td>\n",
       "      <td>امیرآباد تهران</td>\n",
       "      <td>1401.0</td>\n",
       "      <td>3.0</td>\n",
       "      <td>South</td>\n",
       "      <td>True</td>\n",
       "      <td>...</td>\n",
       "      <td>NaN</td>\n",
       "      <td>Duct Split</td>\n",
       "      <td>package</td>\n",
       "      <td>4 last week</td>\n",
       "      <td>35.738292</td>\n",
       "      <td>51.398549</td>\n",
       "      <td>https://shabesh.com/</td>\n",
       "      <td>1</td>\n",
       "      <td>1</td>\n",
       "      <td>1</td>\n",
       "    </tr>\n",
       "    <tr>\n",
       "      <th>4</th>\n",
       "      <td>4</td>\n",
       "      <td>Apateman</td>\n",
       "      <td>117.0</td>\n",
       "      <td>9,200,000,000</td>\n",
       "      <td>78,600,000</td>\n",
       "      <td>یوسف آباد تهران</td>\n",
       "      <td>1394.0</td>\n",
       "      <td>2.0</td>\n",
       "      <td>South</td>\n",
       "      <td>True</td>\n",
       "      <td>...</td>\n",
       "      <td>Water Cooler</td>\n",
       "      <td>heating</td>\n",
       "      <td>package</td>\n",
       "      <td>3 last week</td>\n",
       "      <td>35.735418</td>\n",
       "      <td>51.400867</td>\n",
       "      <td>https://shabesh.com/</td>\n",
       "      <td>1</td>\n",
       "      <td>1</td>\n",
       "      <td>1</td>\n",
       "    </tr>\n",
       "  </tbody>\n",
       "</table>\n",
       "<p>5 rows × 26 columns</p>\n",
       "</div>"
      ],
      "text/plain": [
       "   Unnamed: 0   نوع ملک  متراژ             قیمت قیمت(متر مربع)  \\\n",
       "0           0  Apateman  136.0  12,500,000,000     91,900,000    \n",
       "1           1  Apateman  108.0   7,500,000,000     69,400,000    \n",
       "2           2  Apateman   71.0   4,900,000,000     69,000,000    \n",
       "3           3  Apateman  135.0  13,500,000,000    100,000,000    \n",
       "4           4  Apateman  117.0   9,200,000,000     78,600,000    \n",
       "\n",
       "                  منطقه  سال ساخت  تعداد خواب جهت ساختمان نوع سند  ...  \\\n",
       "0        امیرآباد تهران    1401.0         3.0       North    True  ...   \n",
       "1            دولت تهران    1383.0         2.0       North    True  ...   \n",
       "2  جنت آباد مرکزی تهران    1397.0         2.0       North    True  ...   \n",
       "3        امیرآباد تهران    1401.0         3.0       South    True  ...   \n",
       "4       یوسف آباد تهران    1394.0         2.0       South    True  ...   \n",
       "\n",
       "         سرمایش      گرمایش      آب گرم  تاریخ انتشار   latitude  longitude  \\\n",
       "0           NaN  Duct Split     package   4 last week  35.733903  51.394386   \n",
       "1  Water Cooler     heating  Powerhouse   3 last week  35.780815  51.450526   \n",
       "2  Water Cooler     heating     package   3 last week  35.758078  51.301245   \n",
       "3           NaN  Duct Split     package   4 last week  35.738292  51.398549   \n",
       "4  Water Cooler     heating     package   3 last week  35.735418  51.400867   \n",
       "\n",
       "                   site آسانسور انباری پارکینگ  \n",
       "0  https://shabesh.com/       1      1       1  \n",
       "1  https://shabesh.com/       0      1       1  \n",
       "2  https://shabesh.com/       1      1       1  \n",
       "3  https://shabesh.com/       1      1       1  \n",
       "4  https://shabesh.com/       1      1       1  \n",
       "\n",
       "[5 rows x 26 columns]"
      ]
     },
     "execution_count": 115,
     "metadata": {},
     "output_type": "execute_result"
    }
   ],
   "source": [
    "dff=pd.read_csv('ok.csv')\n",
    "dff.head()"
   ]
  },
  {
   "cell_type": "code",
   "execution_count": 116,
   "id": "166e7ef3",
   "metadata": {},
   "outputs": [
    {
     "data": {
      "text/plain": [
       "array(['Rock', nan, 'other', 'brick', 'Glass and stone', 'Romi', 'cement',\n",
       "       'wooden'], dtype=object)"
      ]
     },
     "execution_count": 116,
     "metadata": {},
     "output_type": "execute_result"
    }
   ],
   "source": [
    "dff['نما'].unique()"
   ]
  },
  {
   "cell_type": "code",
   "execution_count": 117,
   "id": "b60690a6",
   "metadata": {},
   "outputs": [
    {
     "data": {
      "text/plain": [
       "array(['Rock', 'Laminate parquet', 'Wood parquet', 'ceramic', 'wooden',\n",
       "       'Mosaic', 'hybrid', 'carpet', nan, 'Cement'], dtype=object)"
      ]
     },
     "execution_count": 117,
     "metadata": {},
     "output_type": "execute_result"
    }
   ],
   "source": [
    "dff['نوع کف'].unique()"
   ]
  },
  {
   "cell_type": "code",
   "execution_count": 118,
   "id": "56359090",
   "metadata": {},
   "outputs": [
    {
     "data": {
      "text/plain": [
       "Unnamed: 0            0\n",
       "نوع ملک               0\n",
       "متراژ                 0\n",
       "قیمت                  0\n",
       "قیمت(متر مربع)        3\n",
       "منطقه                 3\n",
       "سال ساخت              3\n",
       "تعداد خواب            3\n",
       "جهت ساختمان           3\n",
       "نوع سند              35\n",
       "طبقه                  8\n",
       "تعداد طبقات          45\n",
       "سرویس بهداشتی        62\n",
       "تعداد واحد طبقه      84\n",
       "نوع کف               43\n",
       "نما                 947\n",
       "سرمایش             3512\n",
       "گرمایش              289\n",
       "آب گرم              195\n",
       "تاریخ انتشار          3\n",
       "latitude              3\n",
       "longitude             3\n",
       "site                  0\n",
       "آسانسور               0\n",
       "انباری                0\n",
       "پارکینگ               0\n",
       "dtype: int64"
      ]
     },
     "execution_count": 118,
     "metadata": {},
     "output_type": "execute_result"
    }
   ],
   "source": [
    "dff.isna().sum()"
   ]
  },
  {
   "cell_type": "code",
   "execution_count": 110,
   "id": "2df9f980",
   "metadata": {},
   "outputs": [],
   "source": [
    "dff.loc[:,('نوع ملک')] =dff['نوع ملک'].fillna(\"Apateman\")"
   ]
  },
  {
   "cell_type": "code",
   "execution_count": 111,
   "id": "1b3af847",
   "metadata": {},
   "outputs": [],
   "source": [
    "dff.loc[:,('متراژ')] =dff['متراژ'].fillna(\"100\")"
   ]
  },
  {
   "cell_type": "code",
   "execution_count": 137,
   "id": "1ac5a4e4",
   "metadata": {},
   "outputs": [],
   "source": [
    "dff.loc[:,('قیمت')] =dff['قیمت'].fillna(\"12,500,000,000\")\n",
    "dff.loc[:,('قیمت(متر مربع)')] =dff['قیمت(متر مربع)'].fillna(\"78,600,000\")\n",
    "dff.loc[:,('منطقه')] =dff['منطقه'].fillna(\"2\")\n",
    "dff.loc[:,('سال ساخت')] =dff['سال ساخت'].fillna(\"1395\")\n",
    "dff.loc[:,('تعداد خواب')] =dff['تعداد خواب'].fillna(\"3\")\n",
    "dff.loc[:,('جهت ساختمان')] =dff['جهت ساختمان'].fillna(\"North\")\n",
    "dff.loc[:,('نوع سند')] =dff['نوع سند'].fillna(\"True\")\n",
    "dff.loc[:,('طبقه')] =dff['طبقه'].fillna(\"3\")\n",
    "dff.loc[:,('تاریخ انتشار')] =dff['تاریخ انتشار'].fillna(\"3 last week\")\n",
    "dff.loc[:,('longitude')] =dff['longitude'].fillna(\"51.394386\")\n",
    "dff.loc[:,('latitude')] =dff['latitude'].fillna(\"35.733903\")"
   ]
  },
  {
   "cell_type": "code",
   "execution_count": 138,
   "id": "cc0c1df1",
   "metadata": {},
   "outputs": [
    {
     "data": {
      "image/png": "[encoded data removed]",
      "text/plain": [
       "<Figure size 640x480 with 1 Axes>"
      ]
     },
     "metadata": {},
     "output_type": "display_data"
    }
   ],
   "source": [
    "dff['سرویس بهداشتی'].value_counts().plot.bar()\n",
    "dff.loc[:,('سرویس بهداشتی')] =dff['سرویس بهداشتی'].fillna(\"Iranian and French\")"
   ]
  },
  {
   "cell_type": "code",
   "execution_count": 139,
   "id": "cfe3dbb7",
   "metadata": {},
   "outputs": [
    {
     "data": {
      "image/png": "[encoded data removed]",
      "text/plain": [
       "<Figure size 640x480 with 1 Axes>"
      ]
     },
     "metadata": {},
     "output_type": "display_data"
    }
   ],
   "source": [
    "dff['تعداد واحد طبقه'].value_counts().plot.bar()\n",
    "dff.loc[:,('تعداد واحد طبقه')] =dff['تعداد واحد طبقه'].fillna(\"2\")\n"
   ]
  },
  {
   "cell_type": "code",
   "execution_count": 140,
   "id": "e12d6f35",
   "metadata": {},
   "outputs": [
    {
     "data": {
      "image/png": "[encoded data removed]",
      "text/plain": [
       "<Figure size 640x480 with 1 Axes>"
      ]
     },
     "metadata": {},
     "output_type": "display_data"
    }
   ],
   "source": [
    "dff['نوع کف'].value_counts().plot.bar()\n",
    "dff.loc[:,('نوع کف')] =dff['نوع کف'].fillna(\"Rock\")"
   ]
  },
  {
   "cell_type": "code",
   "execution_count": 141,
   "id": "1ecf9a72",
   "metadata": {},
   "outputs": [
    {
     "data": {
      "image/png": "[encoded data removed]",
      "text/plain": [
       "<Figure size 640x480 with 1 Axes>"
      ]
     },
     "metadata": {},
     "output_type": "display_data"
    }
   ],
   "source": [
    "dff['نما'].value_counts().plot.bar()\n",
    "dff.loc[:,('نما')] =dff['نما'].fillna(\"Rock\")"
   ]
  },
  {
   "cell_type": "code",
   "execution_count": 142,
   "id": "848afe99",
   "metadata": {},
   "outputs": [
    {
     "data": {
      "image/png": "[encoded data removed]",
      "text/plain": [
       "<Figure size 640x480 with 1 Axes>"
      ]
     },
     "metadata": {},
     "output_type": "display_data"
    }
   ],
   "source": [
    "dff['سرمایش'].value_counts().plot.bar()\n",
    "dff.loc[:,('سرمایش')] =dff['سرمایش'].fillna(\"Water Cooler\")"
   ]
  },
  {
   "cell_type": "code",
   "execution_count": 143,
   "id": "d3b9bcb0",
   "metadata": {},
   "outputs": [
    {
     "data": {
      "image/png": "[encoded data removed]",
      "text/plain": [
       "<Figure size 640x480 with 1 Axes>"
      ]
     },
     "metadata": {},
     "output_type": "display_data"
    }
   ],
   "source": [
    "dff['گرمایش'].value_counts().plot.bar()\n",
    "dff.loc[:,('گرمایش')] =dff['گرمایش'].fillna(\"Duct Split\")"
   ]
  },
  {
   "cell_type": "code",
   "execution_count": 144,
   "id": "2282f0a7",
   "metadata": {},
   "outputs": [
    {
     "data": {
      "image/png": "[encoded data removed]",
      "text/plain": [
       "<Figure size 640x480 with 1 Axes>"
      ]
     },
     "metadata": {},
     "output_type": "display_data"
    }
   ],
   "source": [
    "dff['آب گرم'].value_counts().plot.bar()\n",
    "dff.loc[:,('آب گرم')] =dff['آب گرم'].fillna(\"Powerhouse\")"
   ]
  },
  {
   "cell_type": "code",
   "execution_count": 145,
   "id": "0e4de725",
   "metadata": {},
   "outputs": [
    {
     "data": {
      "image/png": "[encoded data removed]",
      "text/plain": [
       "<Figure size 640x480 with 1 Axes>"
      ]
     },
     "metadata": {},
     "output_type": "display_data"
    }
   ],
   "source": [
    "dff['آب گرم'].value_counts().plot.bar()\n",
    "dff.loc[:,('آب گرم')] =dff['آب گرم'].fillna(\"Powerhouse\")"
   ]
  },
  {
   "cell_type": "code",
   "execution_count": 148,
   "id": "cffb3590",
   "metadata": {},
   "outputs": [
    {
     "data": {
      "image/png": "[encoded data removed]",
      "text/plain": [
       "<Figure size 640x480 with 1 Axes>"
      ]
     },
     "metadata": {},
     "output_type": "display_data"
    }
   ],
   "source": [
    "dff['تعداد طبقات'].value_counts().plot.bar()\n",
    "dff.loc[:,('تعداد طبقات')] =dff['تعداد طبقات'].fillna(\"5\")"
   ]
  },
  {
   "cell_type": "code",
   "execution_count": 149,
   "id": "cc293a42",
   "metadata": {},
   "outputs": [
    {
     "data": {
      "text/plain": [
       "Unnamed: 0         0\n",
       "نوع ملک            0\n",
       "متراژ              0\n",
       "قیمت               0\n",
       "قیمت(متر مربع)     0\n",
       "منطقه              0\n",
       "سال ساخت           0\n",
       "تعداد خواب         0\n",
       "جهت ساختمان        0\n",
       "نوع سند            0\n",
       "طبقه               0\n",
       "تعداد طبقات        0\n",
       "سرویس بهداشتی      0\n",
       "تعداد واحد طبقه    0\n",
       "نوع کف             0\n",
       "نما                0\n",
       "سرمایش             0\n",
       "گرمایش             0\n",
       "آب گرم             0\n",
       "تاریخ انتشار       0\n",
       "latitude           0\n",
       "longitude          0\n",
       "site               0\n",
       "آسانسور            0\n",
       "انباری             0\n",
       "پارکینگ            0\n",
       "dtype: int64"
      ]
     },
     "execution_count": 149,
     "metadata": {},
     "output_type": "execute_result"
    }
   ],
   "source": [
    "dff.isna().sum()"
   ]
  },
  {
   "cell_type": "markdown",
   "id": "f61d2246",
   "metadata": {},
   "source": [
    "# changing column names"
   ]
  },
  {
   "cell_type": "code",
   "execution_count": 151,
   "id": "ef6684f0",
   "metadata": {},
   "outputs": [],
   "source": [
    "dff.rename(columns={'نوع ملک':'Property_Type'}, inplace=True)\n",
    "dff.rename(columns={'متراژ':'Meterage'}, inplace=True)\n",
    "dff.rename(columns={'قیمت':'Price'}, inplace=True)\n",
    "dff.rename(columns={'قیمت(متر مربع)':'price_(square_meter)'}, inplace=True)\n",
    "dff.rename(columns={'منطقه':'Area'}, inplace=True)\n",
    "dff.rename(columns={'سال ساخت':'Year_of_construction'}, inplace=True)\n",
    "dff.rename(columns={'تعداد خواب':'Bedrooms'}, inplace=True)\n",
    "dff.rename(columns={'جهت ساختمان':'Direction_of_the_building'}, inplace=True)\n",
    "dff.rename(columns={'نوع سند':'Type_of_Document'}, inplace=True)\n",
    "dff.rename(columns={'طبقه':'Floor'}, inplace=True)\n",
    "\n",
    "dff.rename(columns={'تعداد طبقات':'Number_of_floors'}, inplace=True)\n",
    "dff.rename(columns={'سرویس بهداشتی':'W.C'}, inplace=True)\n",
    "dff.rename(columns={'تعداد واحد طبقه':'Number_of_floor_units'}, inplace=True)\n",
    "dff.rename(columns={'نوع کف':'Floor_type'}, inplace=True)\n",
    "dff.rename(columns={'نما':'Nama'}, inplace=True)\n",
    "dff.rename(columns={'سرمایش':'Cooling'}, inplace=True)\n",
    "dff.rename(columns={'گرمایش':'Heating'}, inplace=True)\n",
    "\n",
    "dff.rename(columns={'آب گرم':'Hot_water'}, inplace=True)\n",
    "dff.rename(columns={'تاریخ انتشار':'Date_of_Release'}, inplace=True)\n",
    "dff.rename(columns={'آسانسور':'Elevator'}, inplace=True)\n",
    "dff.rename(columns={'انباری':'Warehouse'}, inplace=True)\n",
    "dff.rename(columns={'پارکینگ':'Parking'}, inplace=True)"
   ]
  },
  {
   "cell_type": "code",
   "execution_count": 152,
   "id": "17fabf1a",
   "metadata": {},
   "outputs": [
    {
     "data": {
      "text/html": [
       "<div>\n",
       "<style scoped>\n",
       "    .dataframe tbody tr th:only-of-type {\n",
       "        vertical-align: middle;\n",
       "    }\n",
       "\n",
       "    .dataframe tbody tr th {\n",
       "        vertical-align: top;\n",
       "    }\n",
       "\n",
       "    .dataframe thead th {\n",
       "        text-align: right;\n",
       "    }\n",
       "</style>\n",
       "<table border=\"1\" class=\"dataframe\">\n",
       "  <thead>\n",
       "    <tr style=\"text-align: right;\">\n",
       "      <th></th>\n",
       "      <th>Unnamed: 0</th>\n",
       "      <th>Property_Type</th>\n",
       "      <th>Meterage</th>\n",
       "      <th>Price</th>\n",
       "      <th>price_(square_meter)</th>\n",
       "      <th>Area</th>\n",
       "      <th>Year_of_construction</th>\n",
       "      <th>Bedrooms</th>\n",
       "      <th>Direction_of_the_building</th>\n",
       "      <th>Type_of_Document</th>\n",
       "      <th>...</th>\n",
       "      <th>Cooling</th>\n",
       "      <th>Heating</th>\n",
       "      <th>Hot_water</th>\n",
       "      <th>Date_of_Release</th>\n",
       "      <th>latitude</th>\n",
       "      <th>longitude</th>\n",
       "      <th>site</th>\n",
       "      <th>Elevator</th>\n",
       "      <th>Warehouse</th>\n",
       "      <th>Parking</th>\n",
       "    </tr>\n",
       "  </thead>\n",
       "  <tbody>\n",
       "    <tr>\n",
       "      <th>0</th>\n",
       "      <td>0</td>\n",
       "      <td>Apateman</td>\n",
       "      <td>136.0</td>\n",
       "      <td>12,500,000,000</td>\n",
       "      <td>91,900,000</td>\n",
       "      <td>امیرآباد تهران</td>\n",
       "      <td>1401.0</td>\n",
       "      <td>3.0</td>\n",
       "      <td>North</td>\n",
       "      <td>True</td>\n",
       "      <td>...</td>\n",
       "      <td>Water Cooler</td>\n",
       "      <td>Duct Split</td>\n",
       "      <td>package</td>\n",
       "      <td>4 last week</td>\n",
       "      <td>35.733903</td>\n",
       "      <td>51.394386</td>\n",
       "      <td>https://shabesh.com/</td>\n",
       "      <td>1</td>\n",
       "      <td>1</td>\n",
       "      <td>1</td>\n",
       "    </tr>\n",
       "    <tr>\n",
       "      <th>1</th>\n",
       "      <td>1</td>\n",
       "      <td>Apateman</td>\n",
       "      <td>108.0</td>\n",
       "      <td>7,500,000,000</td>\n",
       "      <td>69,400,000</td>\n",
       "      <td>دولت تهران</td>\n",
       "      <td>1383.0</td>\n",
       "      <td>2.0</td>\n",
       "      <td>North</td>\n",
       "      <td>True</td>\n",
       "      <td>...</td>\n",
       "      <td>Water Cooler</td>\n",
       "      <td>heating</td>\n",
       "      <td>Powerhouse</td>\n",
       "      <td>3 last week</td>\n",
       "      <td>35.780815</td>\n",
       "      <td>51.450526</td>\n",
       "      <td>https://shabesh.com/</td>\n",
       "      <td>0</td>\n",
       "      <td>1</td>\n",
       "      <td>1</td>\n",
       "    </tr>\n",
       "    <tr>\n",
       "      <th>2</th>\n",
       "      <td>2</td>\n",
       "      <td>Apateman</td>\n",
       "      <td>71.0</td>\n",
       "      <td>4,900,000,000</td>\n",
       "      <td>69,000,000</td>\n",
       "      <td>جنت آباد مرکزی تهران</td>\n",
       "      <td>1397.0</td>\n",
       "      <td>2.0</td>\n",
       "      <td>North</td>\n",
       "      <td>True</td>\n",
       "      <td>...</td>\n",
       "      <td>Water Cooler</td>\n",
       "      <td>heating</td>\n",
       "      <td>package</td>\n",
       "      <td>3 last week</td>\n",
       "      <td>35.758078</td>\n",
       "      <td>51.301245</td>\n",
       "      <td>https://shabesh.com/</td>\n",
       "      <td>1</td>\n",
       "      <td>1</td>\n",
       "      <td>1</td>\n",
       "    </tr>\n",
       "    <tr>\n",
       "      <th>3</th>\n",
       "      <td>3</td>\n",
       "      <td>Apateman</td>\n",
       "      <td>135.0</td>\n",
       "      <td>13,500,000,000</td>\n",
       "      <td>100,000,000</td>\n",
       "      <td>امیرآباد تهران</td>\n",
       "      <td>1401.0</td>\n",
       "      <td>3.0</td>\n",
       "      <td>South</td>\n",
       "      <td>True</td>\n",
       "      <td>...</td>\n",
       "      <td>Water Cooler</td>\n",
       "      <td>Duct Split</td>\n",
       "      <td>package</td>\n",
       "      <td>4 last week</td>\n",
       "      <td>35.738292</td>\n",
       "      <td>51.398549</td>\n",
       "      <td>https://shabesh.com/</td>\n",
       "      <td>1</td>\n",
       "      <td>1</td>\n",
       "      <td>1</td>\n",
       "    </tr>\n",
       "    <tr>\n",
       "      <th>4</th>\n",
       "      <td>4</td>\n",
       "      <td>Apateman</td>\n",
       "      <td>117.0</td>\n",
       "      <td>9,200,000,000</td>\n",
       "      <td>78,600,000</td>\n",
       "      <td>یوسف آباد تهران</td>\n",
       "      <td>1394.0</td>\n",
       "      <td>2.0</td>\n",
       "      <td>South</td>\n",
       "      <td>True</td>\n",
       "      <td>...</td>\n",
       "      <td>Water Cooler</td>\n",
       "      <td>heating</td>\n",
       "      <td>package</td>\n",
       "      <td>3 last week</td>\n",
       "      <td>35.735418</td>\n",
       "      <td>51.400867</td>\n",
       "      <td>https://shabesh.com/</td>\n",
       "      <td>1</td>\n",
       "      <td>1</td>\n",
       "      <td>1</td>\n",
       "    </tr>\n",
       "  </tbody>\n",
       "</table>\n",
       "<p>5 rows × 26 columns</p>\n",
       "</div>"
      ],
      "text/plain": [
       "   Unnamed: 0 Property_Type  Meterage            Price price_(square_meter)  \\\n",
       "0           0      Apateman     136.0  12,500,000,000           91,900,000    \n",
       "1           1      Apateman     108.0   7,500,000,000           69,400,000    \n",
       "2           2      Apateman      71.0   4,900,000,000           69,000,000    \n",
       "3           3      Apateman     135.0  13,500,000,000          100,000,000    \n",
       "4           4      Apateman     117.0   9,200,000,000           78,600,000    \n",
       "\n",
       "                   Area Year_of_construction Bedrooms  \\\n",
       "0        امیرآباد تهران               1401.0      3.0   \n",
       "1            دولت تهران               1383.0      2.0   \n",
       "2  جنت آباد مرکزی تهران               1397.0      2.0   \n",
       "3        امیرآباد تهران               1401.0      3.0   \n",
       "4       یوسف آباد تهران               1394.0      2.0   \n",
       "\n",
       "  Direction_of_the_building Type_of_Document  ...       Cooling     Heating  \\\n",
       "0                     North             True  ...  Water Cooler  Duct Split   \n",
       "1                     North             True  ...  Water Cooler     heating   \n",
       "2                     North             True  ...  Water Cooler     heating   \n",
       "3                     South             True  ...  Water Cooler  Duct Split   \n",
       "4                     South             True  ...  Water Cooler     heating   \n",
       "\n",
       "    Hot_water Date_of_Release   latitude  longitude                  site  \\\n",
       "0     package     4 last week  35.733903  51.394386  https://shabesh.com/   \n",
       "1  Powerhouse     3 last week  35.780815  51.450526  https://shabesh.com/   \n",
       "2     package     3 last week  35.758078  51.301245  https://shabesh.com/   \n",
       "3     package     4 last week  35.738292  51.398549  https://shabesh.com/   \n",
       "4     package     3 last week  35.735418  51.400867  https://shabesh.com/   \n",
       "\n",
       "  Elevator Warehouse Parking  \n",
       "0        1         1       1  \n",
       "1        0         1       1  \n",
       "2        1         1       1  \n",
       "3        1         1       1  \n",
       "4        1         1       1  \n",
       "\n",
       "[5 rows x 26 columns]"
      ]
     },
     "execution_count": 152,
     "metadata": {},
     "output_type": "execute_result"
    }
   ],
   "source": [
    "dff.head()"
   ]
  },
  {
   "cell_type": "code",
   "execution_count": 153,
   "id": "4bc69588",
   "metadata": {},
   "outputs": [
    {
     "data": {
      "text/plain": [
       "array(['Rock', 'other', 'brick', 'Glass and stone', 'Romi', 'cement',\n",
       "       'wooden'], dtype=object)"
      ]
     },
     "execution_count": 153,
     "metadata": {},
     "output_type": "execute_result"
    }
   ],
   "source": [
    "dff['Nama'].unique()"
   ]
  },
  {
   "cell_type": "code",
   "execution_count": 154,
   "id": "2b33c90d",
   "metadata": {},
   "outputs": [
    {
     "data": {
      "text/plain": [
       "array(['Water Cooler', 'Split', 'Air conditioner'], dtype=object)"
      ]
     },
     "execution_count": 154,
     "metadata": {},
     "output_type": "execute_result"
    }
   ],
   "source": [
    "dff['Cooling'].unique()"
   ]
  },
  {
   "cell_type": "code",
   "execution_count": 155,
   "id": "3680f9c3",
   "metadata": {},
   "outputs": [
    {
     "data": {
      "text/plain": [
       "Unnamed: 0                   0\n",
       "Property_Type                0\n",
       "Meterage                     0\n",
       "Price                        0\n",
       "price_(square_meter)         0\n",
       "Area                         0\n",
       "Year_of_construction         0\n",
       "Bedrooms                     0\n",
       "Direction_of_the_building    0\n",
       "Type_of_Document             0\n",
       "Floor                        0\n",
       "Number_of_floors             0\n",
       "W.C                          0\n",
       "Number_of_floor_units        0\n",
       "Floor_type                   0\n",
       "Nama                         0\n",
       "Cooling                      0\n",
       "Heating                      0\n",
       "Hot_water                    0\n",
       "Date_of_Release              0\n",
       "latitude                     0\n",
       "longitude                    0\n",
       "site                         0\n",
       "Elevator                     0\n",
       "Warehouse                    0\n",
       "Parking                      0\n",
       "dtype: int64"
      ]
     },
     "execution_count": 155,
     "metadata": {},
     "output_type": "execute_result"
    }
   ],
   "source": [
    "dff.isna().sum()"
   ]
  },
  {
   "cell_type": "code",
   "execution_count": 156,
   "id": "b2fdd959",
   "metadata": {},
   "outputs": [],
   "source": [
    "dff.to_csv('HOME_PRICE.csv')"
   ]
  },
  {
   "cell_type": "code",
   "execution_count": 157,
   "id": "ab65c14c",
   "metadata": {},
   "outputs": [],
   "source": [
    "g=pd.read_csv('HOME_PRICE.csv')"
   ]
  },
  {
   "cell_type": "code",
   "execution_count": 158,
   "id": "a36efe8c",
   "metadata": {},
   "outputs": [
    {
     "data": {
      "text/html": [
       "<div>\n",
       "<style scoped>\n",
       "    .dataframe tbody tr th:only-of-type {\n",
       "        vertical-align: middle;\n",
       "    }\n",
       "\n",
       "    .dataframe tbody tr th {\n",
       "        vertical-align: top;\n",
       "    }\n",
       "\n",
       "    .dataframe thead th {\n",
       "        text-align: right;\n",
       "    }\n",
       "</style>\n",
       "<table border=\"1\" class=\"dataframe\">\n",
       "  <thead>\n",
       "    <tr style=\"text-align: right;\">\n",
       "      <th></th>\n",
       "      <th>Unnamed: 0.1</th>\n",
       "      <th>Unnamed: 0</th>\n",
       "      <th>Property_Type</th>\n",
       "      <th>Meterage</th>\n",
       "      <th>Price</th>\n",
       "      <th>price_(square_meter)</th>\n",
       "      <th>Area</th>\n",
       "      <th>Year_of_construction</th>\n",
       "      <th>Bedrooms</th>\n",
       "      <th>Direction_of_the_building</th>\n",
       "      <th>...</th>\n",
       "      <th>Cooling</th>\n",
       "      <th>Heating</th>\n",
       "      <th>Hot_water</th>\n",
       "      <th>Date_of_Release</th>\n",
       "      <th>latitude</th>\n",
       "      <th>longitude</th>\n",
       "      <th>site</th>\n",
       "      <th>Elevator</th>\n",
       "      <th>Warehouse</th>\n",
       "      <th>Parking</th>\n",
       "    </tr>\n",
       "  </thead>\n",
       "  <tbody>\n",
       "    <tr>\n",
       "      <th>0</th>\n",
       "      <td>0</td>\n",
       "      <td>0</td>\n",
       "      <td>Apateman</td>\n",
       "      <td>136.0</td>\n",
       "      <td>12,500,000,000</td>\n",
       "      <td>91,900,000</td>\n",
       "      <td>امیرآباد تهران</td>\n",
       "      <td>1401.0</td>\n",
       "      <td>3.0</td>\n",
       "      <td>North</td>\n",
       "      <td>...</td>\n",
       "      <td>Water Cooler</td>\n",
       "      <td>Duct Split</td>\n",
       "      <td>package</td>\n",
       "      <td>4 last week</td>\n",
       "      <td>35.733903</td>\n",
       "      <td>51.394386</td>\n",
       "      <td>https://shabesh.com/</td>\n",
       "      <td>1</td>\n",
       "      <td>1</td>\n",
       "      <td>1</td>\n",
       "    </tr>\n",
       "    <tr>\n",
       "      <th>1</th>\n",
       "      <td>1</td>\n",
       "      <td>1</td>\n",
       "      <td>Apateman</td>\n",
       "      <td>108.0</td>\n",
       "      <td>7,500,000,000</td>\n",
       "      <td>69,400,000</td>\n",
       "      <td>دولت تهران</td>\n",
       "      <td>1383.0</td>\n",
       "      <td>2.0</td>\n",
       "      <td>North</td>\n",
       "      <td>...</td>\n",
       "      <td>Water Cooler</td>\n",
       "      <td>heating</td>\n",
       "      <td>Powerhouse</td>\n",
       "      <td>3 last week</td>\n",
       "      <td>35.780815</td>\n",
       "      <td>51.450526</td>\n",
       "      <td>https://shabesh.com/</td>\n",
       "      <td>0</td>\n",
       "      <td>1</td>\n",
       "      <td>1</td>\n",
       "    </tr>\n",
       "    <tr>\n",
       "      <th>2</th>\n",
       "      <td>2</td>\n",
       "      <td>2</td>\n",
       "      <td>Apateman</td>\n",
       "      <td>71.0</td>\n",
       "      <td>4,900,000,000</td>\n",
       "      <td>69,000,000</td>\n",
       "      <td>جنت آباد مرکزی تهران</td>\n",
       "      <td>1397.0</td>\n",
       "      <td>2.0</td>\n",
       "      <td>North</td>\n",
       "      <td>...</td>\n",
       "      <td>Water Cooler</td>\n",
       "      <td>heating</td>\n",
       "      <td>package</td>\n",
       "      <td>3 last week</td>\n",
       "      <td>35.758078</td>\n",
       "      <td>51.301245</td>\n",
       "      <td>https://shabesh.com/</td>\n",
       "      <td>1</td>\n",
       "      <td>1</td>\n",
       "      <td>1</td>\n",
       "    </tr>\n",
       "    <tr>\n",
       "      <th>3</th>\n",
       "      <td>3</td>\n",
       "      <td>3</td>\n",
       "      <td>Apateman</td>\n",
       "      <td>135.0</td>\n",
       "      <td>13,500,000,000</td>\n",
       "      <td>100,000,000</td>\n",
       "      <td>امیرآباد تهران</td>\n",
       "      <td>1401.0</td>\n",
       "      <td>3.0</td>\n",
       "      <td>South</td>\n",
       "      <td>...</td>\n",
       "      <td>Water Cooler</td>\n",
       "      <td>Duct Split</td>\n",
       "      <td>package</td>\n",
       "      <td>4 last week</td>\n",
       "      <td>35.738292</td>\n",
       "      <td>51.398549</td>\n",
       "      <td>https://shabesh.com/</td>\n",
       "      <td>1</td>\n",
       "      <td>1</td>\n",
       "      <td>1</td>\n",
       "    </tr>\n",
       "    <tr>\n",
       "      <th>4</th>\n",
       "      <td>4</td>\n",
       "      <td>4</td>\n",
       "      <td>Apateman</td>\n",
       "      <td>117.0</td>\n",
       "      <td>9,200,000,000</td>\n",
       "      <td>78,600,000</td>\n",
       "      <td>یوسف آباد تهران</td>\n",
       "      <td>1394.0</td>\n",
       "      <td>2.0</td>\n",
       "      <td>South</td>\n",
       "      <td>...</td>\n",
       "      <td>Water Cooler</td>\n",
       "      <td>heating</td>\n",
       "      <td>package</td>\n",
       "      <td>3 last week</td>\n",
       "      <td>35.735418</td>\n",
       "      <td>51.400867</td>\n",
       "      <td>https://shabesh.com/</td>\n",
       "      <td>1</td>\n",
       "      <td>1</td>\n",
       "      <td>1</td>\n",
       "    </tr>\n",
       "  </tbody>\n",
       "</table>\n",
       "<p>5 rows × 27 columns</p>\n",
       "</div>"
      ],
      "text/plain": [
       "   Unnamed: 0.1  Unnamed: 0 Property_Type  Meterage            Price  \\\n",
       "0             0           0      Apateman     136.0  12,500,000,000    \n",
       "1             1           1      Apateman     108.0   7,500,000,000    \n",
       "2             2           2      Apateman      71.0   4,900,000,000    \n",
       "3             3           3      Apateman     135.0  13,500,000,000    \n",
       "4             4           4      Apateman     117.0   9,200,000,000    \n",
       "\n",
       "  price_(square_meter)                  Area  Year_of_construction  Bedrooms  \\\n",
       "0          91,900,000         امیرآباد تهران                1401.0       3.0   \n",
       "1          69,400,000             دولت تهران                1383.0       2.0   \n",
       "2          69,000,000   جنت آباد مرکزی تهران                1397.0       2.0   \n",
       "3         100,000,000         امیرآباد تهران                1401.0       3.0   \n",
       "4          78,600,000        یوسف آباد تهران                1394.0       2.0   \n",
       "\n",
       "  Direction_of_the_building  ...       Cooling     Heating   Hot_water  \\\n",
       "0                     North  ...  Water Cooler  Duct Split     package   \n",
       "1                     North  ...  Water Cooler     heating  Powerhouse   \n",
       "2                     North  ...  Water Cooler     heating     package   \n",
       "3                     South  ...  Water Cooler  Duct Split     package   \n",
       "4                     South  ...  Water Cooler     heating     package   \n",
       "\n",
       "  Date_of_Release   latitude  longitude                  site Elevator  \\\n",
       "0     4 last week  35.733903  51.394386  https://shabesh.com/        1   \n",
       "1     3 last week  35.780815  51.450526  https://shabesh.com/        0   \n",
       "2     3 last week  35.758078  51.301245  https://shabesh.com/        1   \n",
       "3     4 last week  35.738292  51.398549  https://shabesh.com/        1   \n",
       "4     3 last week  35.735418  51.400867  https://shabesh.com/        1   \n",
       "\n",
       "  Warehouse Parking  \n",
       "0         1       1  \n",
       "1         1       1  \n",
       "2         1       1  \n",
       "3         1       1  \n",
       "4         1       1  \n",
       "\n",
       "[5 rows x 27 columns]"
      ]
     },
     "execution_count": 158,
     "metadata": {},
     "output_type": "execute_result"
    }
   ],
   "source": [
    "g.head()"
   ]
  },
  {
   "cell_type": "code",
   "execution_count": null,
   "id": "1d28576b",
   "metadata": {},
   "outputs": [],
   "source": []
  }
 ],
 "metadata": {
  "kernelspec": {
   "display_name": "Python 3 (ipykernel)",
   "language": "python",
   "name": "python3"
  },
  "language_info": {
   "codemirror_mode": {
    "name": "ipython",
    "version": 3
   },
   "file_extension": ".py",
   "mimetype": "text/x-python",
   "name": "python",
   "nbconvert_exporter": "python",
   "pygments_lexer": "ipython3",
   "version": "3.9.13"
  }
 },
 "nbformat": 4,
 "nbformat_minor": 5
}
