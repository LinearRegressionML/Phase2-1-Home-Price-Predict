{
 "cells": [
  {
   "cell_type": "code",
   "execution_count": 14,
   "metadata": {},
   "outputs": [],
   "source": [
    "import pandas as pd\n",
    "import seaborn as sns\n",
    "import numpy as np\n",
    "import matplotlib.pyplot as plt\n",
    "from scipy import stats\n",
    "from unidecode import unidecode"
   ]
  },
  {
   "cell_type": "code",
   "execution_count": 317,
   "metadata": {},
   "outputs": [],
   "source": [
    "# dfm=pd.read_csv('./datasets/FINAL_CLEAN2.txt')\n",
    "dfm=pd.read_csv('./datasets/Final_DIVAR.txt')"
   ]
  },
  {
   "cell_type": "code",
   "execution_count": 318,
   "metadata": {},
   "outputs": [
    {
     "name": "stdout",
     "output_type": "stream",
     "text": [
      "<class 'pandas.core.frame.DataFrame'>\n",
      "RangeIndex: 36746 entries, 0 to 36745\n",
      "Data columns (total 12 columns):\n",
      " #   Column                 Non-Null Count  Dtype  \n",
      "---  ------                 --------------  -----  \n",
      " 0   Unnamed: 0.1           36746 non-null  int64  \n",
      " 1   Unnamed: 0             36746 non-null  int64  \n",
      " 2   construct_year         36746 non-null  int64  \n",
      " 3   number_of_room         36746 non-null  int64  \n",
      " 4   size_metre             36746 non-null  int64  \n",
      " 5   Elevator               36746 non-null  int64  \n",
      " 6   Parking                36746 non-null  int64  \n",
      " 7   Cage                   36746 non-null  int64  \n",
      " 8   Balcon                 36746 non-null  int64  \n",
      " 9   main_neighbourhood     36746 non-null  object \n",
      " 10  price_perMetre_Tooman  36743 non-null  float64\n",
      " 11  floor                  36008 non-null  float64\n",
      "dtypes: float64(2), int64(9), object(1)\n",
      "memory usage: 3.4+ MB\n"
     ]
    }
   ],
   "source": [
    "dfm.info()"
   ]
  },
  {
   "cell_type": "code",
   "execution_count": 319,
   "metadata": {},
   "outputs": [],
   "source": [
    "mainmahale=dfm.main_neighbourhood.value_counts().head(350).index\n",
    "dfm=dfm[dfm.main_neighbourhood.isin(mainmahale)]"
   ]
  },
  {
   "cell_type": "code",
   "execution_count": 320,
   "metadata": {},
   "outputs": [
    {
     "data": {
      "text/plain": [
       "(350,)"
      ]
     },
     "execution_count": 320,
     "metadata": {},
     "output_type": "execute_result"
    }
   ],
   "source": [
    "mainmahale.shape"
   ]
  },
  {
   "cell_type": "code",
   "execution_count": 321,
   "metadata": {},
   "outputs": [
    {
     "data": {
      "text/plain": [
       "Index(['Unnamed: 0.1', 'Unnamed: 0', 'construct_year', 'number_of_room',\n",
       "       'size_metre', 'Elevator', 'Parking', 'Cage', 'Balcon',\n",
       "       'main_neighbourhood', 'price_perMetre_Tooman', 'floor'],\n",
       "      dtype='object')"
      ]
     },
     "execution_count": 321,
     "metadata": {},
     "output_type": "execute_result"
    }
   ],
   "source": [
    "dfm.columns"
   ]
  },
  {
   "cell_type": "code",
   "execution_count": 322,
   "metadata": {
    "tags": []
   },
   "outputs": [],
   "source": [
    "df=dfm.loc[:,['construct_year', 'number_of_room', 'size_metre',\n",
    "       'Elevator', 'Parking', 'Cage', 'Balcon','floor','main_neighbourhood', 'price_perMetre_Tooman']]\n",
    "df.rename(columns={ 'main_neighbourhood' : 'ne' ,'price_perMetre_Tooman':'price'},inplace=True)\n",
    "df.price=df.price/1000000\n",
    "df=df[pd.to_numeric(df['floor'], errors='coerce').notnull()] \n"
   ]
  },
  {
   "cell_type": "code",
   "execution_count": 323,
   "metadata": {},
   "outputs": [
    {
     "name": "stdout",
     "output_type": "stream",
     "text": [
      "<class 'pandas.core.frame.DataFrame'>\n",
      "Int64Index: 32738 entries, 0 to 36744\n",
      "Data columns (total 10 columns):\n",
      " #   Column          Non-Null Count  Dtype  \n",
      "---  ------          --------------  -----  \n",
      " 0   construct_year  32738 non-null  int64  \n",
      " 1   number_of_room  32738 non-null  int64  \n",
      " 2   size_metre      32738 non-null  int64  \n",
      " 3   Elevator        32738 non-null  int64  \n",
      " 4   Parking         32738 non-null  int64  \n",
      " 5   Cage            32738 non-null  int64  \n",
      " 6   Balcon          32738 non-null  int64  \n",
      " 7   floor           32738 non-null  float64\n",
      " 8   ne              32738 non-null  object \n",
      " 9   price           32738 non-null  float64\n",
      "dtypes: float64(2), int64(7), object(1)\n",
      "memory usage: 2.7+ MB\n"
     ]
    }
   ],
   "source": [
    "df.info()"
   ]
  },
  {
   "cell_type": "markdown",
   "metadata": {
    "jp-MarkdownHeadingCollapsed": true,
    "tags": []
   },
   "source": [
    "### DAta clean"
   ]
  },
  {
   "cell_type": "code",
   "execution_count": 241,
   "metadata": {
    "tags": []
   },
   "outputs": [],
   "source": [
    "def myfun2(x):\n",
    "    try: \n",
    "        tt=x.replace(\"٬\",\"\")\n",
    "        tt2=unidecode(tt)\n",
    "        tt3=int(tt2)/1000000\n",
    "        return(tt3)\n",
    "               \n",
    "    except:\n",
    "        return(x)\n",
    "col='price'\n",
    "df[col]=df['price'].apply(lambda x: myfun2(x)) \n",
    "df[col]=pd.to_numeric(df[col], errors='coerce')\n",
    "# df[col]"
   ]
  },
  {
   "cell_type": "code",
   "execution_count": 242,
   "metadata": {
    "tags": []
   },
   "outputs": [],
   "source": [
    "def myfun(x):\n",
    "    try: \n",
    "       \n",
    "        return(int(unidecode(x)))\n",
    "    except:\n",
    "        return('')\n",
    "col='floor'\n",
    "df[col]=df[col].apply(lambda x: myfun(x)) \n",
    "df=df[pd.to_numeric(df['floor'], errors='coerce').notnull()] \n",
    "df['floor']=df['floor'].astype('int') "
   ]
  },
  {
   "cell_type": "code",
   "execution_count": 276,
   "metadata": {},
   "outputs": [
    {
     "name": "stdout",
     "output_type": "stream",
     "text": [
      "construct_year\n",
      "number_of_room\n",
      "size_metre\n",
      "Elevator\n",
      "Parking\n",
      "Cage\n",
      "Balcon\n"
     ]
    }
   ],
   "source": [
    "for col in ['construct_year', 'number_of_room', 'size_metre',\n",
    "       'Elevator', 'Parking', 'Cage', 'Balcon']:\n",
    "    print(col)\n",
    "    df[col]=df[col].astype('int') \n",
    "\n"
   ]
  },
  {
   "cell_type": "markdown",
   "metadata": {},
   "source": [
    "### Transform address"
   ]
  },
  {
   "cell_type": "code",
   "execution_count": 326,
   "metadata": {
    "tags": []
   },
   "outputs": [],
   "source": [
    "df2 = pd.get_dummies(df, columns = ['ne'])"
   ]
  },
  {
   "cell_type": "code",
   "execution_count": 327,
   "metadata": {
    "tags": []
   },
   "outputs": [
    {
     "name": "stdout",
     "output_type": "stream",
     "text": [
      "<class 'pandas.core.frame.DataFrame'>\n",
      "Int64Index: 32738 entries, 0 to 36744\n",
      "Columns: 359 entries, construct_year to ne_یوسف‌آباد، خیابان مهرام (مدبر)\n",
      "dtypes: float64(2), int64(7), uint8(350)\n",
      "memory usage: 13.4 MB\n"
     ]
    }
   ],
   "source": [
    "df2.info()"
   ]
  },
  {
   "cell_type": "code",
   "execution_count": 328,
   "metadata": {},
   "outputs": [
    {
     "data": {
      "text/plain": [
       "(32738, 359)"
      ]
     },
     "execution_count": 328,
     "metadata": {},
     "output_type": "execute_result"
    }
   ],
   "source": [
    "df2.shape"
   ]
  },
  {
   "cell_type": "code",
   "execution_count": 329,
   "metadata": {},
   "outputs": [],
   "source": [
    "df=df2\n"
   ]
  },
  {
   "cell_type": "markdown",
   "metadata": {},
   "source": [
    "### remove outliers"
   ]
  },
  {
   "cell_type": "code",
   "execution_count": 330,
   "metadata": {},
   "outputs": [
    {
     "data": {
      "text/plain": [
       "(30092, 359)"
      ]
     },
     "execution_count": 330,
     "metadata": {},
     "output_type": "execute_result"
    }
   ],
   "source": [
    "for col in ['construct_year', 'number_of_room', 'size_metre',\n",
    "       'Elevator', 'Parking', 'Cage', 'Balcon' , 'floor']:\n",
    "    q_low = df[col].quantile(0.01)\n",
    "    q_hi  = df[col].quantile(0.99)\n",
    "\n",
    "    df_filtered = df[(df[col] < q_hi) & (df[col] > q_low)]\n",
    "\n",
    "col='price'\n",
    "q_low = df[col].quantile(0.04)\n",
    "q_hi  = df[col].quantile(0.96)\n",
    "df_filtered = df[(df[col] < q_hi) & (df[col] > q_low)]\n",
    "    \n",
    "df_filtered.shape"
   ]
  },
  {
   "cell_type": "code",
   "execution_count": 331,
   "metadata": {},
   "outputs": [],
   "source": [
    "df=df_filtered"
   ]
  },
  {
   "cell_type": "code",
   "execution_count": 332,
   "metadata": {
    "tags": []
   },
   "outputs": [
    {
     "data": {
      "text/html": [
       "<div>\n",
       "<style scoped>\n",
       "    .dataframe tbody tr th:only-of-type {\n",
       "        vertical-align: middle;\n",
       "    }\n",
       "\n",
       "    .dataframe tbody tr th {\n",
       "        vertical-align: top;\n",
       "    }\n",
       "\n",
       "    .dataframe thead th {\n",
       "        text-align: right;\n",
       "    }\n",
       "</style>\n",
       "<table border=\"1\" class=\"dataframe\">\n",
       "  <thead>\n",
       "    <tr style=\"text-align: right;\">\n",
       "      <th></th>\n",
       "      <th>construct_year</th>\n",
       "      <th>number_of_room</th>\n",
       "      <th>size_metre</th>\n",
       "      <th>Elevator</th>\n",
       "      <th>Parking</th>\n",
       "      <th>Cage</th>\n",
       "      <th>Balcon</th>\n",
       "      <th>floor</th>\n",
       "      <th>price</th>\n",
       "      <th>ne_آبشار</th>\n",
       "      <th>...</th>\n",
       "      <th>ne_گرگان</th>\n",
       "      <th>ne_گمرک</th>\n",
       "      <th>ne_گیشا (کوی نصر)</th>\n",
       "      <th>ne_یاخچی‌آباد</th>\n",
       "      <th>ne_یافت‌آباد</th>\n",
       "      <th>ne_یوسف‌آباد</th>\n",
       "      <th>ne_یوسف‌آباد، خیابان اسدآبادی (خیابان ولیعصر)</th>\n",
       "      <th>ne_یوسف‌آباد، خیابان اسدآبادی (یوسف آباد) (خیابان ولیعصر)</th>\n",
       "      <th>ne_یوسف‌آباد، خیابان جهان‌آرا</th>\n",
       "      <th>ne_یوسف‌آباد، خیابان مهرام (مدبر)</th>\n",
       "    </tr>\n",
       "  </thead>\n",
       "  <tbody>\n",
       "    <tr>\n",
       "      <th>count</th>\n",
       "      <td>30092.000000</td>\n",
       "      <td>30092.000000</td>\n",
       "      <td>30092.000000</td>\n",
       "      <td>30092.000000</td>\n",
       "      <td>30092.000000</td>\n",
       "      <td>30092.000000</td>\n",
       "      <td>30092.0</td>\n",
       "      <td>30092.000000</td>\n",
       "      <td>30092.000000</td>\n",
       "      <td>30092.000000</td>\n",
       "      <td>...</td>\n",
       "      <td>30092.000000</td>\n",
       "      <td>30092.000000</td>\n",
       "      <td>30092.000000</td>\n",
       "      <td>30092.000000</td>\n",
       "      <td>30092.000000</td>\n",
       "      <td>30092.000000</td>\n",
       "      <td>30092.000000</td>\n",
       "      <td>30092.000000</td>\n",
       "      <td>30092.000000</td>\n",
       "      <td>30092.000000</td>\n",
       "    </tr>\n",
       "    <tr>\n",
       "      <th>mean</th>\n",
       "      <td>1392.475442</td>\n",
       "      <td>2.236641</td>\n",
       "      <td>119.364515</td>\n",
       "      <td>0.831616</td>\n",
       "      <td>0.884421</td>\n",
       "      <td>0.944204</td>\n",
       "      <td>0.0</td>\n",
       "      <td>3.420942</td>\n",
       "      <td>76.274547</td>\n",
       "      <td>0.000299</td>\n",
       "      <td>...</td>\n",
       "      <td>0.001097</td>\n",
       "      <td>0.001529</td>\n",
       "      <td>0.011598</td>\n",
       "      <td>0.000199</td>\n",
       "      <td>0.000997</td>\n",
       "      <td>0.013625</td>\n",
       "      <td>0.000199</td>\n",
       "      <td>0.000332</td>\n",
       "      <td>0.000731</td>\n",
       "      <td>0.000366</td>\n",
       "    </tr>\n",
       "    <tr>\n",
       "      <th>std</th>\n",
       "      <td>7.901231</td>\n",
       "      <td>0.740405</td>\n",
       "      <td>128.160184</td>\n",
       "      <td>0.374213</td>\n",
       "      <td>0.319725</td>\n",
       "      <td>0.229530</td>\n",
       "      <td>0.0</td>\n",
       "      <td>2.916043</td>\n",
       "      <td>32.489393</td>\n",
       "      <td>0.017292</td>\n",
       "      <td>...</td>\n",
       "      <td>0.033098</td>\n",
       "      <td>0.039069</td>\n",
       "      <td>0.107068</td>\n",
       "      <td>0.014119</td>\n",
       "      <td>0.031559</td>\n",
       "      <td>0.115930</td>\n",
       "      <td>0.014119</td>\n",
       "      <td>0.018227</td>\n",
       "      <td>0.027029</td>\n",
       "      <td>0.019116</td>\n",
       "    </tr>\n",
       "    <tr>\n",
       "      <th>min</th>\n",
       "      <td>1369.000000</td>\n",
       "      <td>0.000000</td>\n",
       "      <td>9.000000</td>\n",
       "      <td>0.000000</td>\n",
       "      <td>0.000000</td>\n",
       "      <td>0.000000</td>\n",
       "      <td>0.0</td>\n",
       "      <td>0.000000</td>\n",
       "      <td>20.769000</td>\n",
       "      <td>0.000000</td>\n",
       "      <td>...</td>\n",
       "      <td>0.000000</td>\n",
       "      <td>0.000000</td>\n",
       "      <td>0.000000</td>\n",
       "      <td>0.000000</td>\n",
       "      <td>0.000000</td>\n",
       "      <td>0.000000</td>\n",
       "      <td>0.000000</td>\n",
       "      <td>0.000000</td>\n",
       "      <td>0.000000</td>\n",
       "      <td>0.000000</td>\n",
       "    </tr>\n",
       "    <tr>\n",
       "      <th>25%</th>\n",
       "      <td>1386.000000</td>\n",
       "      <td>2.000000</td>\n",
       "      <td>77.000000</td>\n",
       "      <td>1.000000</td>\n",
       "      <td>1.000000</td>\n",
       "      <td>1.000000</td>\n",
       "      <td>0.0</td>\n",
       "      <td>2.000000</td>\n",
       "      <td>52.252000</td>\n",
       "      <td>0.000000</td>\n",
       "      <td>...</td>\n",
       "      <td>0.000000</td>\n",
       "      <td>0.000000</td>\n",
       "      <td>0.000000</td>\n",
       "      <td>0.000000</td>\n",
       "      <td>0.000000</td>\n",
       "      <td>0.000000</td>\n",
       "      <td>0.000000</td>\n",
       "      <td>0.000000</td>\n",
       "      <td>0.000000</td>\n",
       "      <td>0.000000</td>\n",
       "    </tr>\n",
       "    <tr>\n",
       "      <th>50%</th>\n",
       "      <td>1394.000000</td>\n",
       "      <td>2.000000</td>\n",
       "      <td>107.000000</td>\n",
       "      <td>1.000000</td>\n",
       "      <td>1.000000</td>\n",
       "      <td>1.000000</td>\n",
       "      <td>0.0</td>\n",
       "      <td>3.000000</td>\n",
       "      <td>71.428000</td>\n",
       "      <td>0.000000</td>\n",
       "      <td>...</td>\n",
       "      <td>0.000000</td>\n",
       "      <td>0.000000</td>\n",
       "      <td>0.000000</td>\n",
       "      <td>0.000000</td>\n",
       "      <td>0.000000</td>\n",
       "      <td>0.000000</td>\n",
       "      <td>0.000000</td>\n",
       "      <td>0.000000</td>\n",
       "      <td>0.000000</td>\n",
       "      <td>0.000000</td>\n",
       "    </tr>\n",
       "    <tr>\n",
       "      <th>75%</th>\n",
       "      <td>1400.000000</td>\n",
       "      <td>3.000000</td>\n",
       "      <td>140.000000</td>\n",
       "      <td>1.000000</td>\n",
       "      <td>1.000000</td>\n",
       "      <td>1.000000</td>\n",
       "      <td>0.0</td>\n",
       "      <td>4.000000</td>\n",
       "      <td>93.333000</td>\n",
       "      <td>0.000000</td>\n",
       "      <td>...</td>\n",
       "      <td>0.000000</td>\n",
       "      <td>0.000000</td>\n",
       "      <td>0.000000</td>\n",
       "      <td>0.000000</td>\n",
       "      <td>0.000000</td>\n",
       "      <td>0.000000</td>\n",
       "      <td>0.000000</td>\n",
       "      <td>0.000000</td>\n",
       "      <td>0.000000</td>\n",
       "      <td>0.000000</td>\n",
       "    </tr>\n",
       "    <tr>\n",
       "      <th>max</th>\n",
       "      <td>1401.000000</td>\n",
       "      <td>4.000000</td>\n",
       "      <td>10000.000000</td>\n",
       "      <td>1.000000</td>\n",
       "      <td>1.000000</td>\n",
       "      <td>1.000000</td>\n",
       "      <td>0.0</td>\n",
       "      <td>30.000000</td>\n",
       "      <td>179.844000</td>\n",
       "      <td>1.000000</td>\n",
       "      <td>...</td>\n",
       "      <td>1.000000</td>\n",
       "      <td>1.000000</td>\n",
       "      <td>1.000000</td>\n",
       "      <td>1.000000</td>\n",
       "      <td>1.000000</td>\n",
       "      <td>1.000000</td>\n",
       "      <td>1.000000</td>\n",
       "      <td>1.000000</td>\n",
       "      <td>1.000000</td>\n",
       "      <td>1.000000</td>\n",
       "    </tr>\n",
       "  </tbody>\n",
       "</table>\n",
       "<p>8 rows × 359 columns</p>\n",
       "</div>"
      ],
      "text/plain": [
       "       construct_year  number_of_room    size_metre      Elevator  \\\n",
       "count    30092.000000    30092.000000  30092.000000  30092.000000   \n",
       "mean      1392.475442        2.236641    119.364515      0.831616   \n",
       "std          7.901231        0.740405    128.160184      0.374213   \n",
       "min       1369.000000        0.000000      9.000000      0.000000   \n",
       "25%       1386.000000        2.000000     77.000000      1.000000   \n",
       "50%       1394.000000        2.000000    107.000000      1.000000   \n",
       "75%       1400.000000        3.000000    140.000000      1.000000   \n",
       "max       1401.000000        4.000000  10000.000000      1.000000   \n",
       "\n",
       "            Parking          Cage   Balcon         floor         price  \\\n",
       "count  30092.000000  30092.000000  30092.0  30092.000000  30092.000000   \n",
       "mean       0.884421      0.944204      0.0      3.420942     76.274547   \n",
       "std        0.319725      0.229530      0.0      2.916043     32.489393   \n",
       "min        0.000000      0.000000      0.0      0.000000     20.769000   \n",
       "25%        1.000000      1.000000      0.0      2.000000     52.252000   \n",
       "50%        1.000000      1.000000      0.0      3.000000     71.428000   \n",
       "75%        1.000000      1.000000      0.0      4.000000     93.333000   \n",
       "max        1.000000      1.000000      0.0     30.000000    179.844000   \n",
       "\n",
       "           ne_آبشار  ...      ne_گرگان       ne_گمرک  ne_گیشا (کوی نصر)  \\\n",
       "count  30092.000000  ...  30092.000000  30092.000000       30092.000000   \n",
       "mean       0.000299  ...      0.001097      0.001529           0.011598   \n",
       "std        0.017292  ...      0.033098      0.039069           0.107068   \n",
       "min        0.000000  ...      0.000000      0.000000           0.000000   \n",
       "25%        0.000000  ...      0.000000      0.000000           0.000000   \n",
       "50%        0.000000  ...      0.000000      0.000000           0.000000   \n",
       "75%        0.000000  ...      0.000000      0.000000           0.000000   \n",
       "max        1.000000  ...      1.000000      1.000000           1.000000   \n",
       "\n",
       "       ne_یاخچی‌آباد  ne_یافت‌آباد  ne_یوسف‌آباد  \\\n",
       "count   30092.000000  30092.000000  30092.000000   \n",
       "mean        0.000199      0.000997      0.013625   \n",
       "std         0.014119      0.031559      0.115930   \n",
       "min         0.000000      0.000000      0.000000   \n",
       "25%         0.000000      0.000000      0.000000   \n",
       "50%         0.000000      0.000000      0.000000   \n",
       "75%         0.000000      0.000000      0.000000   \n",
       "max         1.000000      1.000000      1.000000   \n",
       "\n",
       "       ne_یوسف‌آباد، خیابان اسدآبادی (خیابان ولیعصر)  \\\n",
       "count                                   30092.000000   \n",
       "mean                                        0.000199   \n",
       "std                                         0.014119   \n",
       "min                                         0.000000   \n",
       "25%                                         0.000000   \n",
       "50%                                         0.000000   \n",
       "75%                                         0.000000   \n",
       "max                                         1.000000   \n",
       "\n",
       "       ne_یوسف‌آباد، خیابان اسدآبادی (یوسف آباد) (خیابان ولیعصر)  \\\n",
       "count                                       30092.000000           \n",
       "mean                                            0.000332           \n",
       "std                                             0.018227           \n",
       "min                                             0.000000           \n",
       "25%                                             0.000000           \n",
       "50%                                             0.000000           \n",
       "75%                                             0.000000           \n",
       "max                                             1.000000           \n",
       "\n",
       "       ne_یوسف‌آباد، خیابان جهان‌آرا  ne_یوسف‌آباد، خیابان مهرام (مدبر)  \n",
       "count                   30092.000000                       30092.000000  \n",
       "mean                        0.000731                           0.000366  \n",
       "std                         0.027029                           0.019116  \n",
       "min                         0.000000                           0.000000  \n",
       "25%                         0.000000                           0.000000  \n",
       "50%                         0.000000                           0.000000  \n",
       "75%                         0.000000                           0.000000  \n",
       "max                         1.000000                           1.000000  \n",
       "\n",
       "[8 rows x 359 columns]"
      ]
     },
     "execution_count": 332,
     "metadata": {},
     "output_type": "execute_result"
    }
   ],
   "source": [
    "df.describe()"
   ]
  },
  {
   "cell_type": "markdown",
   "metadata": {
    "jp-MarkdownHeadingCollapsed": true,
    "tags": []
   },
   "source": [
    "### visual Analysis"
   ]
  },
  {
   "cell_type": "code",
   "execution_count": 235,
   "metadata": {
    "collapsed": true,
    "jupyter": {
     "outputs_hidden": true
    },
    "tags": []
   },
   "outputs": [
    {
     "data": {
      "image/png": "[encoded data removed]",
      "text/plain": [
       "<Figure size 900x500 with 9 Axes>"
      ]
     },
     "metadata": {},
     "output_type": "display_data"
    }
   ],
   "source": [
    "plt.figure(figsize=(9,5 ))\n",
    "no=0\n",
    "for col in df.columns:\n",
    "    no+=1\n",
    "    plt.subplot(3,8,no)\n",
    "    plt.tight_layout()\n",
    "    sns.boxplot(y=df[col])  "
   ]
  },
  {
   "cell_type": "code",
   "execution_count": null,
   "metadata": {
    "jupyter": {
     "source_hidden": true
    },
    "tags": []
   },
   "outputs": [],
   "source": [
    "plt.figure(figsize=(12, 5))\n",
    "sns.pairplot(df)"
   ]
  },
  {
   "cell_type": "code",
   "execution_count": null,
   "metadata": {
    "jupyter": {
     "source_hidden": true
    },
    "tags": []
   },
   "outputs": [],
   "source": [
    "sns.scatterplot()"
   ]
  },
  {
   "cell_type": "code",
   "execution_count": 15,
   "metadata": {
    "collapsed": true,
    "jupyter": {
     "outputs_hidden": true,
     "source_hidden": true
    },
    "tags": []
   },
   "outputs": [
    {
     "data": {
      "image/png": "[encoded data removed]",
      "text/plain": [
       "<Figure size 1100x400 with 2 Axes>"
      ]
     },
     "metadata": {},
     "output_type": "display_data"
    }
   ],
   "source": [
    "corr_date = df.corr().round(2)*100\n",
    "fig = plt.figure(figsize =(11, 4)) \n",
    "# figsize=(11,1)\n",
    "ax=sns.heatmap(corr_date, annot=True)\n",
    "plt.xticks()\n",
    "plt.show()"
   ]
  },
  {
   "cell_type": "markdown",
   "metadata": {
    "tags": []
   },
   "source": [
    "### Modelling"
   ]
  },
  {
   "cell_type": "code",
   "execution_count": 179,
   "metadata": {
    "tags": []
   },
   "outputs": [],
   "source": [
    "from sklearn.model_selection import train_test_split\n",
    "from sklearn import preprocessing\n",
    "from sklearn.pipeline import make_pipeline\n",
    "from sklearn.linear_model import LinearRegression, Ridge, SGDRegressor,LogisticRegression\n",
    "from sklearn import metrics\n",
    "from sklearn.metrics import confusion_matrix\n",
    "from sklearn.metrics import classification_report\n",
    "from sklearn.metrics import accuracy_score\n",
    "import math"
   ]
  },
  {
   "cell_type": "code",
   "execution_count": 333,
   "metadata": {},
   "outputs": [],
   "source": [
    "X = df.loc[:,df.columns != 'price'].values\n",
    "y = df.loc[:,'price'].values\n",
    "X_train, X_test, y_train, y_test = train_test_split(X, y , test_size=0.3 , random_state=85, )"
   ]
  },
  {
   "cell_type": "code",
   "execution_count": 334,
   "metadata": {},
   "outputs": [
    {
     "name": "stdout",
     "output_type": "stream",
     "text": [
      "R2:  0.8000564755302211\n",
      "MSE:  213.16641671182822\n",
      "MAE :  10.374792124804427\n",
      "MAPE :  0.14502308079236897\n",
      "Error percent:      19%\n"
     ]
    }
   ],
   "source": [
    "# model = make_pipeline(preprocessing.MinMaxScaler(),preprocessing.PolynomialFeatures(degree=3, include_bias=False), Ridge(alpha=5))\n",
    "# model = make_pipeline(preprocessing.MinMaxScaler(),SGDRegressor(max_iter=10000, tol=1e-3))\n",
    "model = make_pipeline(preprocessing.MinMaxScaler(),LinearRegression())\n",
    "\n",
    "# SGDRegressor(max_iter=1000, tol=1e-3,penalty='l1'))\n",
    "model.fit(X_train, y_train)\n",
    "# print(\"SGD intercept: \", model[1].intercept_)\n",
    "# print(\"SGD coef : \", model[1].coef_)\n",
    "# print(\"iteration: \", model[1].n_iter_)\n",
    "y_predict= model.predict(X_test)\n",
    "print(\"R2: \", metrics.r2_score(y_test, y_predict))\n",
    "print(\"MSE: \", metrics.mean_squared_error(y_test, y_predict))\n",
    "print(\"MAE : \", metrics.mean_absolute_error(y_test, y_predict))\n",
    "print(\"MAPE : \", metrics.mean_absolute_percentage_error(y_test, y_predict))\n",
    "print(\"Error percent:     \",\"%.0f%%\" %(100*math.sqrt(metrics.mean_squared_error(y_test, y_predict)) / df[\"price\"].mean()))\n",
    "# \"%.0f%%\" %(100*accuracy) "
   ]
  },
  {
   "cell_type": "markdown",
   "metadata": {},
   "source": [
    "### Some Analysis"
   ]
  },
  {
   "cell_type": "code",
   "execution_count": 375,
   "metadata": {},
   "outputs": [],
   "source": [
    "dff=pd.concat( [pd.DataFrame(X_test),pd.Series(y_predict),pd.Series(y_test )],  axis=1)\n",
    "dff=dff.iloc[:,[0,1,2,3,4,5,6,7,-2,-1]]\n",
    "dff.columns=('year room metrage Elevator Parking Cage Balcon floor y_predict y_test').split()\n",
    "dff['error']=dff.apply(lambda x: abs(x[-2]-x[-1]), axis=1)\n",
    "# dff"
   ]
  },
  {
   "cell_type": "code",
   "execution_count": 376,
   "metadata": {},
   "outputs": [
    {
     "data": {
      "text/html": [
       "<div>\n",
       "<style scoped>\n",
       "    .dataframe tbody tr th:only-of-type {\n",
       "        vertical-align: middle;\n",
       "    }\n",
       "\n",
       "    .dataframe tbody tr th {\n",
       "        vertical-align: top;\n",
       "    }\n",
       "\n",
       "    .dataframe thead th {\n",
       "        text-align: right;\n",
       "    }\n",
       "</style>\n",
       "<table border=\"1\" class=\"dataframe\">\n",
       "  <thead>\n",
       "    <tr style=\"text-align: right;\">\n",
       "      <th></th>\n",
       "      <th>year</th>\n",
       "      <th>room</th>\n",
       "      <th>metrage</th>\n",
       "      <th>Elevator</th>\n",
       "      <th>Parking</th>\n",
       "      <th>Cage</th>\n",
       "      <th>Balcon</th>\n",
       "      <th>floor</th>\n",
       "      <th>y_predict</th>\n",
       "      <th>y_test</th>\n",
       "      <th>error</th>\n",
       "    </tr>\n",
       "  </thead>\n",
       "  <tbody>\n",
       "    <tr>\n",
       "      <th>2201</th>\n",
       "      <td>1369.0</td>\n",
       "      <td>2.0</td>\n",
       "      <td>93.0</td>\n",
       "      <td>0.0</td>\n",
       "      <td>0.0</td>\n",
       "      <td>1.0</td>\n",
       "      <td>0.0</td>\n",
       "      <td>1.0</td>\n",
       "      <td>9.540771</td>\n",
       "      <td>134.408</td>\n",
       "      <td>124.867229</td>\n",
       "    </tr>\n",
       "    <tr>\n",
       "      <th>7035</th>\n",
       "      <td>1401.0</td>\n",
       "      <td>3.0</td>\n",
       "      <td>144.0</td>\n",
       "      <td>1.0</td>\n",
       "      <td>1.0</td>\n",
       "      <td>1.0</td>\n",
       "      <td>0.0</td>\n",
       "      <td>11.0</td>\n",
       "      <td>148.113037</td>\n",
       "      <td>33.333</td>\n",
       "      <td>114.780037</td>\n",
       "    </tr>\n",
       "    <tr>\n",
       "      <th>6519</th>\n",
       "      <td>1401.0</td>\n",
       "      <td>3.0</td>\n",
       "      <td>140.0</td>\n",
       "      <td>1.0</td>\n",
       "      <td>1.0</td>\n",
       "      <td>1.0</td>\n",
       "      <td>0.0</td>\n",
       "      <td>15.0</td>\n",
       "      <td>46.016357</td>\n",
       "      <td>130.000</td>\n",
       "      <td>83.983643</td>\n",
       "    </tr>\n",
       "    <tr>\n",
       "      <th>5811</th>\n",
       "      <td>1384.0</td>\n",
       "      <td>3.0</td>\n",
       "      <td>165.0</td>\n",
       "      <td>1.0</td>\n",
       "      <td>1.0</td>\n",
       "      <td>1.0</td>\n",
       "      <td>0.0</td>\n",
       "      <td>4.0</td>\n",
       "      <td>95.380127</td>\n",
       "      <td>178.787</td>\n",
       "      <td>83.406873</td>\n",
       "    </tr>\n",
       "    <tr>\n",
       "      <th>2861</th>\n",
       "      <td>1401.0</td>\n",
       "      <td>4.0</td>\n",
       "      <td>8500.0</td>\n",
       "      <td>1.0</td>\n",
       "      <td>1.0</td>\n",
       "      <td>1.0</td>\n",
       "      <td>0.0</td>\n",
       "      <td>13.0</td>\n",
       "      <td>164.551270</td>\n",
       "      <td>82.352</td>\n",
       "      <td>82.199270</td>\n",
       "    </tr>\n",
       "    <tr>\n",
       "      <th>...</th>\n",
       "      <td>...</td>\n",
       "      <td>...</td>\n",
       "      <td>...</td>\n",
       "      <td>...</td>\n",
       "      <td>...</td>\n",
       "      <td>...</td>\n",
       "      <td>...</td>\n",
       "      <td>...</td>\n",
       "      <td>...</td>\n",
       "      <td>...</td>\n",
       "      <td>...</td>\n",
       "    </tr>\n",
       "    <tr>\n",
       "      <th>8489</th>\n",
       "      <td>1395.0</td>\n",
       "      <td>4.0</td>\n",
       "      <td>230.0</td>\n",
       "      <td>1.0</td>\n",
       "      <td>1.0</td>\n",
       "      <td>1.0</td>\n",
       "      <td>0.0</td>\n",
       "      <td>2.0</td>\n",
       "      <td>127.645264</td>\n",
       "      <td>127.652</td>\n",
       "      <td>0.006736</td>\n",
       "    </tr>\n",
       "    <tr>\n",
       "      <th>6437</th>\n",
       "      <td>1385.0</td>\n",
       "      <td>2.0</td>\n",
       "      <td>100.0</td>\n",
       "      <td>1.0</td>\n",
       "      <td>1.0</td>\n",
       "      <td>1.0</td>\n",
       "      <td>0.0</td>\n",
       "      <td>4.0</td>\n",
       "      <td>82.994385</td>\n",
       "      <td>83.000</td>\n",
       "      <td>0.005615</td>\n",
       "    </tr>\n",
       "    <tr>\n",
       "      <th>5788</th>\n",
       "      <td>1386.0</td>\n",
       "      <td>2.0</td>\n",
       "      <td>71.0</td>\n",
       "      <td>0.0</td>\n",
       "      <td>1.0</td>\n",
       "      <td>1.0</td>\n",
       "      <td>0.0</td>\n",
       "      <td>4.0</td>\n",
       "      <td>39.440918</td>\n",
       "      <td>39.436</td>\n",
       "      <td>0.004918</td>\n",
       "    </tr>\n",
       "    <tr>\n",
       "      <th>4236</th>\n",
       "      <td>1395.0</td>\n",
       "      <td>3.0</td>\n",
       "      <td>134.0</td>\n",
       "      <td>1.0</td>\n",
       "      <td>1.0</td>\n",
       "      <td>1.0</td>\n",
       "      <td>0.0</td>\n",
       "      <td>13.0</td>\n",
       "      <td>42.159424</td>\n",
       "      <td>42.164</td>\n",
       "      <td>0.004576</td>\n",
       "    </tr>\n",
       "    <tr>\n",
       "      <th>2172</th>\n",
       "      <td>1389.0</td>\n",
       "      <td>1.0</td>\n",
       "      <td>63.0</td>\n",
       "      <td>0.0</td>\n",
       "      <td>0.0</td>\n",
       "      <td>0.0</td>\n",
       "      <td>0.0</td>\n",
       "      <td>4.0</td>\n",
       "      <td>23.806885</td>\n",
       "      <td>23.809</td>\n",
       "      <td>0.002115</td>\n",
       "    </tr>\n",
       "  </tbody>\n",
       "</table>\n",
       "<p>9028 rows × 11 columns</p>\n",
       "</div>"
      ],
      "text/plain": [
       "        year  room  metrage  Elevator  Parking  Cage  Balcon  floor  \\\n",
       "2201  1369.0   2.0     93.0       0.0      0.0   1.0     0.0    1.0   \n",
       "7035  1401.0   3.0    144.0       1.0      1.0   1.0     0.0   11.0   \n",
       "6519  1401.0   3.0    140.0       1.0      1.0   1.0     0.0   15.0   \n",
       "5811  1384.0   3.0    165.0       1.0      1.0   1.0     0.0    4.0   \n",
       "2861  1401.0   4.0   8500.0       1.0      1.0   1.0     0.0   13.0   \n",
       "...      ...   ...      ...       ...      ...   ...     ...    ...   \n",
       "8489  1395.0   4.0    230.0       1.0      1.0   1.0     0.0    2.0   \n",
       "6437  1385.0   2.0    100.0       1.0      1.0   1.0     0.0    4.0   \n",
       "5788  1386.0   2.0     71.0       0.0      1.0   1.0     0.0    4.0   \n",
       "4236  1395.0   3.0    134.0       1.0      1.0   1.0     0.0   13.0   \n",
       "2172  1389.0   1.0     63.0       0.0      0.0   0.0     0.0    4.0   \n",
       "\n",
       "       y_predict   y_test       error  \n",
       "2201    9.540771  134.408  124.867229  \n",
       "7035  148.113037   33.333  114.780037  \n",
       "6519   46.016357  130.000   83.983643  \n",
       "5811   95.380127  178.787   83.406873  \n",
       "2861  164.551270   82.352   82.199270  \n",
       "...          ...      ...         ...  \n",
       "8489  127.645264  127.652    0.006736  \n",
       "6437   82.994385   83.000    0.005615  \n",
       "5788   39.440918   39.436    0.004918  \n",
       "4236   42.159424   42.164    0.004576  \n",
       "2172   23.806885   23.809    0.002115  \n",
       "\n",
       "[9028 rows x 11 columns]"
      ]
     },
     "execution_count": 376,
     "metadata": {},
     "output_type": "execute_result"
    }
   ],
   "source": [
    "dff.sort_values(by='error', ascending=False)"
   ]
  },
  {
   "cell_type": "code",
   "execution_count": 353,
   "metadata": {},
   "outputs": [
    {
     "data": {
      "text/html": [
       "<div>\n",
       "<style scoped>\n",
       "    .dataframe tbody tr th:only-of-type {\n",
       "        vertical-align: middle;\n",
       "    }\n",
       "\n",
       "    .dataframe tbody tr th {\n",
       "        vertical-align: top;\n",
       "    }\n",
       "\n",
       "    .dataframe thead th {\n",
       "        text-align: right;\n",
       "    }\n",
       "</style>\n",
       "<table border=\"1\" class=\"dataframe\">\n",
       "  <thead>\n",
       "    <tr style=\"text-align: right;\">\n",
       "      <th></th>\n",
       "      <th>0</th>\n",
       "      <th>1</th>\n",
       "      <th>2</th>\n",
       "      <th>3</th>\n",
       "      <th>4</th>\n",
       "      <th>5</th>\n",
       "      <th>6</th>\n",
       "      <th>7</th>\n",
       "      <th>0</th>\n",
       "      <th>1</th>\n",
       "      <th>def</th>\n",
       "    </tr>\n",
       "  </thead>\n",
       "  <tbody>\n",
       "    <tr>\n",
       "      <th>0</th>\n",
       "      <td>1401.0</td>\n",
       "      <td>3.0</td>\n",
       "      <td>124.0</td>\n",
       "      <td>1.0</td>\n",
       "      <td>1.0</td>\n",
       "      <td>1.0</td>\n",
       "      <td>0.0</td>\n",
       "      <td>3.0</td>\n",
       "      <td>76.006836</td>\n",
       "      <td>64.516</td>\n",
       "      <td>124.0</td>\n",
       "    </tr>\n",
       "    <tr>\n",
       "      <th>1</th>\n",
       "      <td>1401.0</td>\n",
       "      <td>2.0</td>\n",
       "      <td>80.0</td>\n",
       "      <td>1.0</td>\n",
       "      <td>1.0</td>\n",
       "      <td>1.0</td>\n",
       "      <td>0.0</td>\n",
       "      <td>1.0</td>\n",
       "      <td>61.244873</td>\n",
       "      <td>56.250</td>\n",
       "      <td>80.0</td>\n",
       "    </tr>\n",
       "    <tr>\n",
       "      <th>2</th>\n",
       "      <td>1394.0</td>\n",
       "      <td>2.0</td>\n",
       "      <td>103.0</td>\n",
       "      <td>1.0</td>\n",
       "      <td>1.0</td>\n",
       "      <td>1.0</td>\n",
       "      <td>0.0</td>\n",
       "      <td>4.0</td>\n",
       "      <td>51.026123</td>\n",
       "      <td>46.601</td>\n",
       "      <td>103.0</td>\n",
       "    </tr>\n",
       "    <tr>\n",
       "      <th>3</th>\n",
       "      <td>1401.0</td>\n",
       "      <td>3.0</td>\n",
       "      <td>200.0</td>\n",
       "      <td>1.0</td>\n",
       "      <td>1.0</td>\n",
       "      <td>1.0</td>\n",
       "      <td>0.0</td>\n",
       "      <td>3.0</td>\n",
       "      <td>146.598145</td>\n",
       "      <td>170.000</td>\n",
       "      <td>200.0</td>\n",
       "    </tr>\n",
       "    <tr>\n",
       "      <th>4</th>\n",
       "      <td>1397.0</td>\n",
       "      <td>2.0</td>\n",
       "      <td>112.0</td>\n",
       "      <td>1.0</td>\n",
       "      <td>1.0</td>\n",
       "      <td>1.0</td>\n",
       "      <td>0.0</td>\n",
       "      <td>2.0</td>\n",
       "      <td>92.049805</td>\n",
       "      <td>85.714</td>\n",
       "      <td>112.0</td>\n",
       "    </tr>\n",
       "    <tr>\n",
       "      <th>...</th>\n",
       "      <td>...</td>\n",
       "      <td>...</td>\n",
       "      <td>...</td>\n",
       "      <td>...</td>\n",
       "      <td>...</td>\n",
       "      <td>...</td>\n",
       "      <td>...</td>\n",
       "      <td>...</td>\n",
       "      <td>...</td>\n",
       "      <td>...</td>\n",
       "      <td>...</td>\n",
       "    </tr>\n",
       "    <tr>\n",
       "      <th>9023</th>\n",
       "      <td>1400.0</td>\n",
       "      <td>3.0</td>\n",
       "      <td>146.0</td>\n",
       "      <td>1.0</td>\n",
       "      <td>1.0</td>\n",
       "      <td>1.0</td>\n",
       "      <td>0.0</td>\n",
       "      <td>4.0</td>\n",
       "      <td>84.800781</td>\n",
       "      <td>70.205</td>\n",
       "      <td>146.0</td>\n",
       "    </tr>\n",
       "    <tr>\n",
       "      <th>9024</th>\n",
       "      <td>1389.0</td>\n",
       "      <td>2.0</td>\n",
       "      <td>115.0</td>\n",
       "      <td>1.0</td>\n",
       "      <td>1.0</td>\n",
       "      <td>1.0</td>\n",
       "      <td>0.0</td>\n",
       "      <td>1.0</td>\n",
       "      <td>80.070801</td>\n",
       "      <td>77.826</td>\n",
       "      <td>115.0</td>\n",
       "    </tr>\n",
       "    <tr>\n",
       "      <th>9025</th>\n",
       "      <td>1400.0</td>\n",
       "      <td>2.0</td>\n",
       "      <td>106.0</td>\n",
       "      <td>1.0</td>\n",
       "      <td>1.0</td>\n",
       "      <td>1.0</td>\n",
       "      <td>0.0</td>\n",
       "      <td>8.0</td>\n",
       "      <td>76.229980</td>\n",
       "      <td>90.000</td>\n",
       "      <td>106.0</td>\n",
       "    </tr>\n",
       "    <tr>\n",
       "      <th>9026</th>\n",
       "      <td>1378.0</td>\n",
       "      <td>1.0</td>\n",
       "      <td>43.0</td>\n",
       "      <td>0.0</td>\n",
       "      <td>0.0</td>\n",
       "      <td>1.0</td>\n",
       "      <td>0.0</td>\n",
       "      <td>3.0</td>\n",
       "      <td>18.503174</td>\n",
       "      <td>33.720</td>\n",
       "      <td>43.0</td>\n",
       "    </tr>\n",
       "    <tr>\n",
       "      <th>9027</th>\n",
       "      <td>1381.0</td>\n",
       "      <td>1.0</td>\n",
       "      <td>44.0</td>\n",
       "      <td>0.0</td>\n",
       "      <td>1.0</td>\n",
       "      <td>1.0</td>\n",
       "      <td>0.0</td>\n",
       "      <td>1.0</td>\n",
       "      <td>24.617920</td>\n",
       "      <td>39.772</td>\n",
       "      <td>44.0</td>\n",
       "    </tr>\n",
       "  </tbody>\n",
       "</table>\n",
       "<p>9028 rows × 11 columns</p>\n",
       "</div>"
      ],
      "text/plain": [
       "           0    1      2    3    4    5    6    7           0        1    def\n",
       "0     1401.0  3.0  124.0  1.0  1.0  1.0  0.0  3.0   76.006836   64.516  124.0\n",
       "1     1401.0  2.0   80.0  1.0  1.0  1.0  0.0  1.0   61.244873   56.250   80.0\n",
       "2     1394.0  2.0  103.0  1.0  1.0  1.0  0.0  4.0   51.026123   46.601  103.0\n",
       "3     1401.0  3.0  200.0  1.0  1.0  1.0  0.0  3.0  146.598145  170.000  200.0\n",
       "4     1397.0  2.0  112.0  1.0  1.0  1.0  0.0  2.0   92.049805   85.714  112.0\n",
       "...      ...  ...    ...  ...  ...  ...  ...  ...         ...      ...    ...\n",
       "9023  1400.0  3.0  146.0  1.0  1.0  1.0  0.0  4.0   84.800781   70.205  146.0\n",
       "9024  1389.0  2.0  115.0  1.0  1.0  1.0  0.0  1.0   80.070801   77.826  115.0\n",
       "9025  1400.0  2.0  106.0  1.0  1.0  1.0  0.0  8.0   76.229980   90.000  106.0\n",
       "9026  1378.0  1.0   43.0  0.0  0.0  1.0  0.0  3.0   18.503174   33.720   43.0\n",
       "9027  1381.0  1.0   44.0  0.0  1.0  1.0  0.0  1.0   24.617920   39.772   44.0\n",
       "\n",
       "[9028 rows x 11 columns]"
      ]
     },
     "execution_count": 353,
     "metadata": {},
     "output_type": "execute_result"
    }
   ],
   "source": [
    "dff"
   ]
  },
  {
   "cell_type": "code",
   "execution_count": 311,
   "metadata": {},
   "outputs": [
    {
     "ename": "KeyError",
     "evalue": "'def'",
     "output_type": "error",
     "traceback": [
      "\u001b[0;31m---------------------------------------------------------------------------\u001b[0m",
      "\u001b[0;31mKeyError\u001b[0m                                  Traceback (most recent call last)",
      "Cell \u001b[0;32mIn [311], line 1\u001b[0m\n\u001b[0;32m----> 1\u001b[0m \u001b[43mdff\u001b[49m\u001b[38;5;241;43m.\u001b[39;49m\u001b[43msort_values\u001b[49m\u001b[43m(\u001b[49m\u001b[43mby\u001b[49m\u001b[38;5;241;43m=\u001b[39;49m\u001b[38;5;124;43m'\u001b[39;49m\u001b[38;5;124;43mdef\u001b[39;49m\u001b[38;5;124;43m'\u001b[39;49m\u001b[43m)\u001b[49m\n",
      "File \u001b[0;32m/opt/conda/lib/python3.10/site-packages/pandas/util/_decorators.py:331\u001b[0m, in \u001b[0;36mdeprecate_nonkeyword_arguments.<locals>.decorate.<locals>.wrapper\u001b[0;34m(*args, **kwargs)\u001b[0m\n\u001b[1;32m    325\u001b[0m \u001b[38;5;28;01mif\u001b[39;00m \u001b[38;5;28mlen\u001b[39m(args) \u001b[38;5;241m>\u001b[39m num_allow_args:\n\u001b[1;32m    326\u001b[0m     warnings\u001b[38;5;241m.\u001b[39mwarn(\n\u001b[1;32m    327\u001b[0m         msg\u001b[38;5;241m.\u001b[39mformat(arguments\u001b[38;5;241m=\u001b[39m_format_argument_list(allow_args)),\n\u001b[1;32m    328\u001b[0m         \u001b[38;5;167;01mFutureWarning\u001b[39;00m,\n\u001b[1;32m    329\u001b[0m         stacklevel\u001b[38;5;241m=\u001b[39mfind_stack_level(),\n\u001b[1;32m    330\u001b[0m     )\n\u001b[0;32m--> 331\u001b[0m \u001b[38;5;28;01mreturn\u001b[39;00m \u001b[43mfunc\u001b[49m\u001b[43m(\u001b[49m\u001b[38;5;241;43m*\u001b[39;49m\u001b[43margs\u001b[49m\u001b[43m,\u001b[49m\u001b[43m \u001b[49m\u001b[38;5;241;43m*\u001b[39;49m\u001b[38;5;241;43m*\u001b[39;49m\u001b[43mkwargs\u001b[49m\u001b[43m)\u001b[49m\n",
      "File \u001b[0;32m/opt/conda/lib/python3.10/site-packages/pandas/core/frame.py:6901\u001b[0m, in \u001b[0;36mDataFrame.sort_values\u001b[0;34m(self, by, axis, ascending, inplace, kind, na_position, ignore_index, key)\u001b[0m\n\u001b[1;32m   6897\u001b[0m \u001b[38;5;28;01melif\u001b[39;00m \u001b[38;5;28mlen\u001b[39m(by):\n\u001b[1;32m   6898\u001b[0m     \u001b[38;5;66;03m# len(by) == 1\u001b[39;00m\n\u001b[1;32m   6900\u001b[0m     by \u001b[38;5;241m=\u001b[39m by[\u001b[38;5;241m0\u001b[39m]\n\u001b[0;32m-> 6901\u001b[0m     k \u001b[38;5;241m=\u001b[39m \u001b[38;5;28;43mself\u001b[39;49m\u001b[38;5;241;43m.\u001b[39;49m\u001b[43m_get_label_or_level_values\u001b[49m\u001b[43m(\u001b[49m\u001b[43mby\u001b[49m\u001b[43m,\u001b[49m\u001b[43m \u001b[49m\u001b[43maxis\u001b[49m\u001b[38;5;241;43m=\u001b[39;49m\u001b[43maxis\u001b[49m\u001b[43m)\u001b[49m\n\u001b[1;32m   6903\u001b[0m     \u001b[38;5;66;03m# need to rewrap column in Series to apply key function\u001b[39;00m\n\u001b[1;32m   6904\u001b[0m     \u001b[38;5;28;01mif\u001b[39;00m key \u001b[38;5;129;01mis\u001b[39;00m \u001b[38;5;129;01mnot\u001b[39;00m \u001b[38;5;28;01mNone\u001b[39;00m:\n\u001b[1;32m   6905\u001b[0m         \u001b[38;5;66;03m# error: Incompatible types in assignment (expression has type\u001b[39;00m\n\u001b[1;32m   6906\u001b[0m         \u001b[38;5;66;03m# \"Series\", variable has type \"ndarray\")\u001b[39;00m\n",
      "File \u001b[0;32m/opt/conda/lib/python3.10/site-packages/pandas/core/generic.py:1850\u001b[0m, in \u001b[0;36mNDFrame._get_label_or_level_values\u001b[0;34m(self, key, axis)\u001b[0m\n\u001b[1;32m   1844\u001b[0m     values \u001b[38;5;241m=\u001b[39m (\n\u001b[1;32m   1845\u001b[0m         \u001b[38;5;28mself\u001b[39m\u001b[38;5;241m.\u001b[39maxes[axis]\n\u001b[1;32m   1846\u001b[0m         \u001b[38;5;241m.\u001b[39mget_level_values(key)  \u001b[38;5;66;03m# type: ignore[assignment]\u001b[39;00m\n\u001b[1;32m   1847\u001b[0m         \u001b[38;5;241m.\u001b[39m_values\n\u001b[1;32m   1848\u001b[0m     )\n\u001b[1;32m   1849\u001b[0m \u001b[38;5;28;01melse\u001b[39;00m:\n\u001b[0;32m-> 1850\u001b[0m     \u001b[38;5;28;01mraise\u001b[39;00m \u001b[38;5;167;01mKeyError\u001b[39;00m(key)\n\u001b[1;32m   1852\u001b[0m \u001b[38;5;66;03m# Check for duplicates\u001b[39;00m\n\u001b[1;32m   1853\u001b[0m \u001b[38;5;28;01mif\u001b[39;00m values\u001b[38;5;241m.\u001b[39mndim \u001b[38;5;241m>\u001b[39m \u001b[38;5;241m1\u001b[39m:\n",
      "\u001b[0;31mKeyError\u001b[0m: 'def'"
     ]
    }
   ],
   "source": [
    "dff.sort_values(by='def')"
   ]
  },
  {
   "cell_type": "code",
   "execution_count": null,
   "metadata": {},
   "outputs": [],
   "source": []
  }
 ],
 "metadata": {
  "colab": {
   "provenance": []
  },
  "kernelspec": {
   "display_name": "Python 3 (ipykernel)",
   "language": "python",
   "name": "python3"
  },
  "language_info": {
   "codemirror_mode": {
    "name": "ipython",
    "version": 3
   },
   "file_extension": ".py",
   "mimetype": "text/x-python",
   "name": "python",
   "nbconvert_exporter": "python",
   "pygments_lexer": "ipython3",
   "version": "3.10.6"
  },
  "vscode": {
   "interpreter": {
    "hash": "916dbcbb3f70747c44a77c7bcd40155683ae19c65e1c03b4aa3499c5328201f1"
   }
  },
  "widgets": {
   "application/vnd.jupyter.widget-state+json": {
    "state": {},
    "version_major": 2,
    "version_minor": 0
   }
  }
 },
 "nbformat": 4,
 "nbformat_minor": 4
}
