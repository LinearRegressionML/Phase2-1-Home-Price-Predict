{
 "cells": [
  {
   "cell_type": "code",
   "execution_count": 31,
   "metadata": {},
   "outputs": [],
   "source": [
    "import pandas as pd\n",
    "import seaborn as sns\n",
    "import numpy as np\n",
    "import matplotlib.pyplot as plt\n",
    "from scipy import stats\n",
    "from unidecode import unidecode"
   ]
  },
  {
   "cell_type": "code",
   "execution_count": 32,
   "metadata": {},
   "outputs": [],
   "source": [
    "# dfm=pd.read_csv('./datasets/FINAL_CLEAN2.txt')\n",
    "dfm=pd.read_csv('Divar_Full_14011021_2.csv')"
   ]
  },
  {
   "cell_type": "code",
   "execution_count": null,
   "metadata": {},
   "outputs": [],
   "source": [
    "dfm.info()"
   ]
  },
  {
   "cell_type": "code",
   "execution_count": 34,
   "metadata": {},
   "outputs": [],
   "source": [
    "mainmahale=dfm.main_neighbourhood.value_counts().head(350).index\n",
    "dfm=dfm[dfm.main_neighbourhood.isin(mainmahale)]"
   ]
  },
  {
   "cell_type": "code",
   "execution_count": 35,
   "metadata": {},
   "outputs": [
    {
     "data": {
      "text/plain": [
       "(350,)"
      ]
     },
     "execution_count": 35,
     "metadata": {},
     "output_type": "execute_result"
    }
   ],
   "source": [
    "mainmahale.shape"
   ]
  },
  {
   "cell_type": "code",
   "execution_count": 36,
   "metadata": {},
   "outputs": [
    {
     "data": {
      "text/plain": [
       "Index(['Unnamed: 0', 'construct_year', 'number_of_room', 'size_metre',\n",
       "       'Elevator', 'Parking', 'Cage', 'Balcon', 'main_neighbourhood',\n",
       "       'price_perMetre_Tooman', 'floor'],\n",
       "      dtype='object')"
      ]
     },
     "execution_count": 36,
     "metadata": {},
     "output_type": "execute_result"
    }
   ],
   "source": [
    "dfm.columns"
   ]
  },
  {
   "cell_type": "code",
   "execution_count": null,
   "metadata": {
    "tags": []
   },
   "outputs": [],
   "source": [
    "df=dfm.loc[:,['construct_year', 'number_of_room', 'size_metre',\n",
    "       'Elevator', 'Parking', 'Cage', 'Balcon','floor','main_neighbourhood', 'price_perMetre_Tooman']]\n",
    "df.rename(columns={ 'main_neighbourhood' : 'ne' ,'price_perMetre_Tooman':'price'},inplace=True)\n",
    "df.price=df.price/1000000\n",
    "df=df[pd.to_numeric(df['floor'], errors='coerce').notnull()] "
   ]
  },
  {
   "cell_type": "code",
   "execution_count": 38,
   "metadata": {},
   "outputs": [
    {
     "name": "stdout",
     "output_type": "stream",
     "text": [
      "<class 'pandas.core.frame.DataFrame'>\n",
      "Int64Index: 38319 entries, 0 to 42199\n",
      "Data columns (total 10 columns):\n",
      " #   Column          Non-Null Count  Dtype \n",
      "---  ------          --------------  ----- \n",
      " 0   construct_year  38319 non-null  object\n",
      " 1   number_of_room  38319 non-null  object\n",
      " 2   size_metre      38319 non-null  object\n",
      " 3   Elevator        38319 non-null  int64 \n",
      " 4   Parking         38319 non-null  int64 \n",
      " 5   Cage            38319 non-null  int64 \n",
      " 6   Balcon          38319 non-null  int64 \n",
      " 7   floor           38319 non-null  object\n",
      " 8   ne              38319 non-null  object\n",
      " 9   price           38319 non-null  object\n",
      "dtypes: int64(4), object(6)\n",
      "memory usage: 3.2+ MB\n"
     ]
    }
   ],
   "source": [
    "df.info()"
   ]
  },
  {
   "cell_type": "markdown",
   "metadata": {
    "tags": []
   },
   "source": [
    "### DAta clean"
   ]
  },
  {
   "cell_type": "code",
   "execution_count": 39,
   "metadata": {
    "tags": []
   },
   "outputs": [],
   "source": [
    "def myfun2(x):\n",
    "    try: \n",
    "        tt=x.replace(\"٬\",\"\")\n",
    "        tt2=unidecode(tt)\n",
    "        tt3=int(tt2)/1000000\n",
    "        return(tt3)\n",
    "               \n",
    "    except:\n",
    "        return(x)\n",
    "col='price'\n",
    "df[col]=df['price'].apply(lambda x: myfun2(x)) \n",
    "df[col]=pd.to_numeric(df[col], errors='coerce')\n",
    "# df[col]"
   ]
  },
  {
   "cell_type": "code",
   "execution_count": 40,
   "metadata": {
    "tags": []
   },
   "outputs": [],
   "source": [
    "def myfun(x):\n",
    "    try: \n",
    "       \n",
    "        return(int(unidecode(x)))\n",
    "    except:\n",
    "        return('')\n",
    "col='floor'\n",
    "df[col]=df[col].apply(lambda x: myfun(x)) \n",
    "df=df[pd.to_numeric(df['floor'], errors='coerce').notnull()] \n",
    "df['floor']=df['floor'].astype('int') "
   ]
  },
  {
   "cell_type": "code",
   "execution_count": 41,
   "metadata": {},
   "outputs": [
    {
     "name": "stdout",
     "output_type": "stream",
     "text": [
      "construct_year\n",
      "number_of_room\n",
      "size_metre\n",
      "Elevator\n",
      "Parking\n",
      "Cage\n",
      "Balcon\n"
     ]
    }
   ],
   "source": [
    "for col in ['construct_year', 'number_of_room', 'size_metre',\n",
    "       'Elevator', 'Parking', 'Cage', 'Balcon']:\n",
    "    print(col)\n",
    "    df[col]=df[col].astype('int') \n",
    "\n"
   ]
  },
  {
   "cell_type": "markdown",
   "metadata": {},
   "source": [
    "### Transform address"
   ]
  },
  {
   "cell_type": "code",
   "execution_count": 42,
   "metadata": {
    "tags": []
   },
   "outputs": [],
   "source": [
    "df2 = pd.get_dummies(df, columns = ['ne'])"
   ]
  },
  {
   "cell_type": "code",
   "execution_count": 43,
   "metadata": {
    "tags": []
   },
   "outputs": [
    {
     "name": "stdout",
     "output_type": "stream",
     "text": [
      "<class 'pandas.core.frame.DataFrame'>\n",
      "Int64Index: 38319 entries, 0 to 42199\n",
      "Columns: 359 entries, construct_year to ne_یوسف‌آباد، خیابان مهرام (مدبر)\n",
      "dtypes: float64(1), int32(8), uint8(350)\n",
      "memory usage: 14.5 MB\n"
     ]
    }
   ],
   "source": [
    "df2.info()"
   ]
  },
  {
   "cell_type": "code",
   "execution_count": 44,
   "metadata": {},
   "outputs": [
    {
     "data": {
      "text/plain": [
       "(38319, 359)"
      ]
     },
     "execution_count": 44,
     "metadata": {},
     "output_type": "execute_result"
    }
   ],
   "source": [
    "df2.shape"
   ]
  },
  {
   "cell_type": "code",
   "execution_count": 45,
   "metadata": {},
   "outputs": [],
   "source": [
    "df=df2\n"
   ]
  },
  {
   "cell_type": "markdown",
   "metadata": {},
   "source": [
    "### remove outliers"
   ]
  },
  {
   "cell_type": "code",
   "execution_count": 46,
   "metadata": {},
   "outputs": [
    {
     "data": {
      "text/plain": [
       "(35250, 359)"
      ]
     },
     "execution_count": 46,
     "metadata": {},
     "output_type": "execute_result"
    }
   ],
   "source": [
    "for col in ['construct_year', 'number_of_room', 'size_metre',\n",
    "       'Elevator', 'Parking', 'Cage', 'Balcon' , 'floor']:\n",
    "    q_low = df[col].quantile(0.01)\n",
    "    q_hi  = df[col].quantile(0.99)\n",
    "\n",
    "    df_filtered = df[(df[col] < q_hi) & (df[col] > q_low)]\n",
    "\n",
    "col='price'\n",
    "q_low = df[col].quantile(0.04)\n",
    "q_hi  = df[col].quantile(0.96)\n",
    "df_filtered = df[(df[col] < q_hi) & (df[col] > q_low)]\n",
    "    \n",
    "df_filtered.shape"
   ]
  },
  {
   "cell_type": "code",
   "execution_count": 47,
   "metadata": {},
   "outputs": [],
   "source": [
    "df=df_filtered"
   ]
  },
  {
   "cell_type": "code",
   "execution_count": 48,
   "metadata": {
    "tags": []
   },
   "outputs": [
    {
     "data": {
      "text/html": [
       "<div>\n",
       "<style scoped>\n",
       "    .dataframe tbody tr th:only-of-type {\n",
       "        vertical-align: middle;\n",
       "    }\n",
       "\n",
       "    .dataframe tbody tr th {\n",
       "        vertical-align: top;\n",
       "    }\n",
       "\n",
       "    .dataframe thead th {\n",
       "        text-align: right;\n",
       "    }\n",
       "</style>\n",
       "<table border=\"1\" class=\"dataframe\">\n",
       "  <thead>\n",
       "    <tr style=\"text-align: right;\">\n",
       "      <th></th>\n",
       "      <th>construct_year</th>\n",
       "      <th>number_of_room</th>\n",
       "      <th>size_metre</th>\n",
       "      <th>Elevator</th>\n",
       "      <th>Parking</th>\n",
       "      <th>Cage</th>\n",
       "      <th>Balcon</th>\n",
       "      <th>floor</th>\n",
       "      <th>price</th>\n",
       "      <th>ne_آبشار</th>\n",
       "      <th>...</th>\n",
       "      <th>ne_گاندی</th>\n",
       "      <th>ne_گرگان</th>\n",
       "      <th>ne_گمرک</th>\n",
       "      <th>ne_گیشا (کوی نصر)</th>\n",
       "      <th>ne_یافت‌آباد</th>\n",
       "      <th>ne_یوسف‌آباد</th>\n",
       "      <th>ne_یوسف‌آباد، خیابان اسدآبادی (خیابان ولیعصر)</th>\n",
       "      <th>ne_یوسف‌آباد، خیابان اسدآبادی (یوسف آباد) (خیابان ولیعصر)</th>\n",
       "      <th>ne_یوسف‌آباد، خیابان جهان‌آرا</th>\n",
       "      <th>ne_یوسف‌آباد، خیابان مهرام (مدبر)</th>\n",
       "    </tr>\n",
       "  </thead>\n",
       "  <tbody>\n",
       "    <tr>\n",
       "      <th>count</th>\n",
       "      <td>35250.000000</td>\n",
       "      <td>35250.000000</td>\n",
       "      <td>35250.000000</td>\n",
       "      <td>35250.000000</td>\n",
       "      <td>35250.000000</td>\n",
       "      <td>35250.000000</td>\n",
       "      <td>35250.0</td>\n",
       "      <td>35250.000000</td>\n",
       "      <td>35250.000000</td>\n",
       "      <td>35250.000000</td>\n",
       "      <td>...</td>\n",
       "      <td>35250.000000</td>\n",
       "      <td>35250.000000</td>\n",
       "      <td>35250.00000</td>\n",
       "      <td>35250.000000</td>\n",
       "      <td>35250.000000</td>\n",
       "      <td>35250.000000</td>\n",
       "      <td>35250.000000</td>\n",
       "      <td>35250.000000</td>\n",
       "      <td>35250.000000</td>\n",
       "      <td>35250.000000</td>\n",
       "    </tr>\n",
       "    <tr>\n",
       "      <th>mean</th>\n",
       "      <td>1392.416652</td>\n",
       "      <td>2.231518</td>\n",
       "      <td>118.897305</td>\n",
       "      <td>0.829589</td>\n",
       "      <td>0.882667</td>\n",
       "      <td>0.943546</td>\n",
       "      <td>0.0</td>\n",
       "      <td>3.417418</td>\n",
       "      <td>75.903980</td>\n",
       "      <td>0.000312</td>\n",
       "      <td>...</td>\n",
       "      <td>0.000567</td>\n",
       "      <td>0.001106</td>\n",
       "      <td>0.00156</td>\n",
       "      <td>0.011206</td>\n",
       "      <td>0.001021</td>\n",
       "      <td>0.013191</td>\n",
       "      <td>0.000199</td>\n",
       "      <td>0.000312</td>\n",
       "      <td>0.000681</td>\n",
       "      <td>0.000369</td>\n",
       "    </tr>\n",
       "    <tr>\n",
       "      <th>std</th>\n",
       "      <td>7.904817</td>\n",
       "      <td>0.739256</td>\n",
       "      <td>124.568552</td>\n",
       "      <td>0.375999</td>\n",
       "      <td>0.321822</td>\n",
       "      <td>0.230799</td>\n",
       "      <td>0.0</td>\n",
       "      <td>2.944396</td>\n",
       "      <td>32.398456</td>\n",
       "      <td>0.017663</td>\n",
       "      <td>...</td>\n",
       "      <td>0.023813</td>\n",
       "      <td>0.033244</td>\n",
       "      <td>0.03947</td>\n",
       "      <td>0.105264</td>\n",
       "      <td>0.031942</td>\n",
       "      <td>0.114096</td>\n",
       "      <td>0.014091</td>\n",
       "      <td>0.017663</td>\n",
       "      <td>0.026085</td>\n",
       "      <td>0.019201</td>\n",
       "    </tr>\n",
       "    <tr>\n",
       "      <th>min</th>\n",
       "      <td>1369.000000</td>\n",
       "      <td>0.000000</td>\n",
       "      <td>9.000000</td>\n",
       "      <td>0.000000</td>\n",
       "      <td>0.000000</td>\n",
       "      <td>0.000000</td>\n",
       "      <td>0.0</td>\n",
       "      <td>-1.000000</td>\n",
       "      <td>21.509000</td>\n",
       "      <td>0.000000</td>\n",
       "      <td>...</td>\n",
       "      <td>0.000000</td>\n",
       "      <td>0.000000</td>\n",
       "      <td>0.00000</td>\n",
       "      <td>0.000000</td>\n",
       "      <td>0.000000</td>\n",
       "      <td>0.000000</td>\n",
       "      <td>0.000000</td>\n",
       "      <td>0.000000</td>\n",
       "      <td>0.000000</td>\n",
       "      <td>0.000000</td>\n",
       "    </tr>\n",
       "    <tr>\n",
       "      <th>25%</th>\n",
       "      <td>1386.000000</td>\n",
       "      <td>2.000000</td>\n",
       "      <td>77.000000</td>\n",
       "      <td>1.000000</td>\n",
       "      <td>1.000000</td>\n",
       "      <td>1.000000</td>\n",
       "      <td>0.0</td>\n",
       "      <td>2.000000</td>\n",
       "      <td>51.851000</td>\n",
       "      <td>0.000000</td>\n",
       "      <td>...</td>\n",
       "      <td>0.000000</td>\n",
       "      <td>0.000000</td>\n",
       "      <td>0.00000</td>\n",
       "      <td>0.000000</td>\n",
       "      <td>0.000000</td>\n",
       "      <td>0.000000</td>\n",
       "      <td>0.000000</td>\n",
       "      <td>0.000000</td>\n",
       "      <td>0.000000</td>\n",
       "      <td>0.000000</td>\n",
       "    </tr>\n",
       "    <tr>\n",
       "      <th>50%</th>\n",
       "      <td>1394.000000</td>\n",
       "      <td>2.000000</td>\n",
       "      <td>107.000000</td>\n",
       "      <td>1.000000</td>\n",
       "      <td>1.000000</td>\n",
       "      <td>1.000000</td>\n",
       "      <td>0.0</td>\n",
       "      <td>3.000000</td>\n",
       "      <td>70.925500</td>\n",
       "      <td>0.000000</td>\n",
       "      <td>...</td>\n",
       "      <td>0.000000</td>\n",
       "      <td>0.000000</td>\n",
       "      <td>0.00000</td>\n",
       "      <td>0.000000</td>\n",
       "      <td>0.000000</td>\n",
       "      <td>0.000000</td>\n",
       "      <td>0.000000</td>\n",
       "      <td>0.000000</td>\n",
       "      <td>0.000000</td>\n",
       "      <td>0.000000</td>\n",
       "    </tr>\n",
       "    <tr>\n",
       "      <th>75%</th>\n",
       "      <td>1400.000000</td>\n",
       "      <td>3.000000</td>\n",
       "      <td>140.000000</td>\n",
       "      <td>1.000000</td>\n",
       "      <td>1.000000</td>\n",
       "      <td>1.000000</td>\n",
       "      <td>0.0</td>\n",
       "      <td>4.000000</td>\n",
       "      <td>92.631000</td>\n",
       "      <td>0.000000</td>\n",
       "      <td>...</td>\n",
       "      <td>0.000000</td>\n",
       "      <td>0.000000</td>\n",
       "      <td>0.00000</td>\n",
       "      <td>0.000000</td>\n",
       "      <td>0.000000</td>\n",
       "      <td>0.000000</td>\n",
       "      <td>0.000000</td>\n",
       "      <td>0.000000</td>\n",
       "      <td>0.000000</td>\n",
       "      <td>0.000000</td>\n",
       "    </tr>\n",
       "    <tr>\n",
       "      <th>max</th>\n",
       "      <td>1401.000000</td>\n",
       "      <td>4.000000</td>\n",
       "      <td>10000.000000</td>\n",
       "      <td>1.000000</td>\n",
       "      <td>1.000000</td>\n",
       "      <td>1.000000</td>\n",
       "      <td>0.0</td>\n",
       "      <td>30.000000</td>\n",
       "      <td>179.558000</td>\n",
       "      <td>1.000000</td>\n",
       "      <td>...</td>\n",
       "      <td>1.000000</td>\n",
       "      <td>1.000000</td>\n",
       "      <td>1.00000</td>\n",
       "      <td>1.000000</td>\n",
       "      <td>1.000000</td>\n",
       "      <td>1.000000</td>\n",
       "      <td>1.000000</td>\n",
       "      <td>1.000000</td>\n",
       "      <td>1.000000</td>\n",
       "      <td>1.000000</td>\n",
       "    </tr>\n",
       "  </tbody>\n",
       "</table>\n",
       "<p>8 rows × 359 columns</p>\n",
       "</div>"
      ],
      "text/plain": [
       "       construct_year  number_of_room    size_metre      Elevator  \\\n",
       "count    35250.000000    35250.000000  35250.000000  35250.000000   \n",
       "mean      1392.416652        2.231518    118.897305      0.829589   \n",
       "std          7.904817        0.739256    124.568552      0.375999   \n",
       "min       1369.000000        0.000000      9.000000      0.000000   \n",
       "25%       1386.000000        2.000000     77.000000      1.000000   \n",
       "50%       1394.000000        2.000000    107.000000      1.000000   \n",
       "75%       1400.000000        3.000000    140.000000      1.000000   \n",
       "max       1401.000000        4.000000  10000.000000      1.000000   \n",
       "\n",
       "            Parking          Cage   Balcon         floor         price  \\\n",
       "count  35250.000000  35250.000000  35250.0  35250.000000  35250.000000   \n",
       "mean       0.882667      0.943546      0.0      3.417418     75.903980   \n",
       "std        0.321822      0.230799      0.0      2.944396     32.398456   \n",
       "min        0.000000      0.000000      0.0     -1.000000     21.509000   \n",
       "25%        1.000000      1.000000      0.0      2.000000     51.851000   \n",
       "50%        1.000000      1.000000      0.0      3.000000     70.925500   \n",
       "75%        1.000000      1.000000      0.0      4.000000     92.631000   \n",
       "max        1.000000      1.000000      0.0     30.000000    179.558000   \n",
       "\n",
       "           ne_آبشار  ...      ne_گاندی      ne_گرگان      ne_گمرک  \\\n",
       "count  35250.000000  ...  35250.000000  35250.000000  35250.00000   \n",
       "mean       0.000312  ...      0.000567      0.001106      0.00156   \n",
       "std        0.017663  ...      0.023813      0.033244      0.03947   \n",
       "min        0.000000  ...      0.000000      0.000000      0.00000   \n",
       "25%        0.000000  ...      0.000000      0.000000      0.00000   \n",
       "50%        0.000000  ...      0.000000      0.000000      0.00000   \n",
       "75%        0.000000  ...      0.000000      0.000000      0.00000   \n",
       "max        1.000000  ...      1.000000      1.000000      1.00000   \n",
       "\n",
       "       ne_گیشا (کوی نصر)  ne_یافت‌آباد  ne_یوسف‌آباد  \\\n",
       "count       35250.000000  35250.000000  35250.000000   \n",
       "mean            0.011206      0.001021      0.013191   \n",
       "std             0.105264      0.031942      0.114096   \n",
       "min             0.000000      0.000000      0.000000   \n",
       "25%             0.000000      0.000000      0.000000   \n",
       "50%             0.000000      0.000000      0.000000   \n",
       "75%             0.000000      0.000000      0.000000   \n",
       "max             1.000000      1.000000      1.000000   \n",
       "\n",
       "       ne_یوسف‌آباد، خیابان اسدآبادی (خیابان ولیعصر)  \\\n",
       "count                                   35250.000000   \n",
       "mean                                        0.000199   \n",
       "std                                         0.014091   \n",
       "min                                         0.000000   \n",
       "25%                                         0.000000   \n",
       "50%                                         0.000000   \n",
       "75%                                         0.000000   \n",
       "max                                         1.000000   \n",
       "\n",
       "       ne_یوسف‌آباد، خیابان اسدآبادی (یوسف آباد) (خیابان ولیعصر)  \\\n",
       "count                                       35250.000000           \n",
       "mean                                            0.000312           \n",
       "std                                             0.017663           \n",
       "min                                             0.000000           \n",
       "25%                                             0.000000           \n",
       "50%                                             0.000000           \n",
       "75%                                             0.000000           \n",
       "max                                             1.000000           \n",
       "\n",
       "       ne_یوسف‌آباد، خیابان جهان‌آرا  ne_یوسف‌آباد، خیابان مهرام (مدبر)  \n",
       "count                   35250.000000                       35250.000000  \n",
       "mean                        0.000681                           0.000369  \n",
       "std                         0.026085                           0.019201  \n",
       "min                         0.000000                           0.000000  \n",
       "25%                         0.000000                           0.000000  \n",
       "50%                         0.000000                           0.000000  \n",
       "75%                         0.000000                           0.000000  \n",
       "max                         1.000000                           1.000000  \n",
       "\n",
       "[8 rows x 359 columns]"
      ]
     },
     "execution_count": 48,
     "metadata": {},
     "output_type": "execute_result"
    }
   ],
   "source": [
    "df.describe()"
   ]
  },
  {
   "cell_type": "markdown",
   "metadata": {
    "tags": []
   },
   "source": [
    "### visual Analysis"
   ]
  },
  {
   "cell_type": "code",
   "execution_count": null,
   "metadata": {
    "tags": []
   },
   "outputs": [],
   "source": [
    "plt.figure(figsize=(9,5 ))\n",
    "no=0\n",
    "for col in df.columns:\n",
    "    no+=1\n",
    "    plt.subplot(3,8,no)\n",
    "    plt.tight_layout()\n",
    "    sns.boxplot(y=df[col])  "
   ]
  },
  {
   "cell_type": "code",
   "execution_count": null,
   "metadata": {
    "tags": []
   },
   "outputs": [],
   "source": [
    "plt.figure(figsize=(12, 5))\n",
    "sns.pairplot(df)"
   ]
  },
  {
   "cell_type": "code",
   "execution_count": null,
   "metadata": {
    "tags": []
   },
   "outputs": [],
   "source": [
    "sns.scatterplot()"
   ]
  },
  {
   "cell_type": "code",
   "execution_count": null,
   "metadata": {
    "tags": []
   },
   "outputs": [],
   "source": [
    "corr_date = df.corr().round(2)*100\n",
    "fig = plt.figure(figsize =(11, 4)) \n",
    "# figsize=(11,1)\n",
    "ax=sns.heatmap(corr_date, annot=True)\n",
    "plt.xticks()\n",
    "plt.show()"
   ]
  },
  {
   "cell_type": "markdown",
   "metadata": {
    "tags": []
   },
   "source": [
    "### Modelling"
   ]
  },
  {
   "cell_type": "code",
   "execution_count": 49,
   "metadata": {
    "tags": []
   },
   "outputs": [],
   "source": [
    "from sklearn.model_selection import train_test_split\n",
    "from sklearn import preprocessing\n",
    "from sklearn.pipeline import make_pipeline\n",
    "from sklearn.linear_model import LinearRegression, Ridge, SGDRegressor,LogisticRegression\n",
    "from sklearn import metrics\n",
    "from sklearn.metrics import confusion_matrix\n",
    "from sklearn.metrics import classification_report\n",
    "from sklearn.metrics import accuracy_score\n",
    "import math"
   ]
  },
  {
   "cell_type": "code",
   "execution_count": 50,
   "metadata": {},
   "outputs": [],
   "source": [
    "X = df.loc[:,df.columns != 'price'].values\n",
    "y = df.loc[:,'price'].values\n",
    "X_train, X_test, y_train, y_test = train_test_split(X, y , test_size=0.3 , random_state=85, )"
   ]
  },
  {
   "cell_type": "code",
   "execution_count": 51,
   "metadata": {},
   "outputs": [
    {
     "name": "stdout",
     "output_type": "stream",
     "text": [
      "R2:  0.8039418118506348\n",
      "MSE:  203.61234137015276\n",
      "MAE :  10.14346394429669\n",
      "MAPE :  0.14202480502522724\n",
      "Error percent:      19%\n"
     ]
    }
   ],
   "source": [
    "# model = make_pipeline(preprocessing.MinMaxScaler(),preprocessing.PolynomialFeatures(degree=3, include_bias=False), Ridge(alpha=5))\n",
    "# model = make_pipeline(preprocessing.MinMaxScaler(),SGDRegressor(max_iter=10000, tol=1e-3))\n",
    "model = make_pipeline(preprocessing.MinMaxScaler(),LinearRegression())\n",
    "\n",
    "# SGDRegressor(max_iter=1000, tol=1e-3,penalty='l1'))\n",
    "model.fit(X_train, y_train)\n",
    "# print(\"SGD intercept: \", model[1].intercept_)\n",
    "# print(\"SGD coef : \", model[1].coef_)\n",
    "# print(\"iteration: \", model[1].n_iter_)\n",
    "y_predict= model.predict(X_test)\n",
    "print(\"R2: \", metrics.r2_score(y_test, y_predict))\n",
    "print(\"MSE: \", metrics.mean_squared_error(y_test, y_predict))\n",
    "print(\"MAE : \", metrics.mean_absolute_error(y_test, y_predict))\n",
    "print(\"MAPE : \", metrics.mean_absolute_percentage_error(y_test, y_predict))\n",
    "print(\"Error percent:     \",\"%.0f%%\" %(100*math.sqrt(metrics.mean_squared_error(y_test, y_predict)) / df[\"price\"].mean()))\n",
    "# \"%.0f%%\" %(100*accuracy) "
   ]
  },
  {
   "cell_type": "markdown",
   "metadata": {},
   "source": [
    "### Some Analysis"
   ]
  },
  {
   "cell_type": "code",
   "execution_count": 52,
   "metadata": {},
   "outputs": [],
   "source": [
    "dff=pd.concat( [pd.DataFrame(X_test),pd.Series(y_predict),pd.Series(y_test )],  axis=1)\n",
    "dff=dff.iloc[:,[0,1,2,3,4,5,6,7,-2,-1]]\n",
    "dff.columns=('year room metrage Elevator Parking Cage Balcon floor y_predict y_test').split()\n",
    "dff['error']=dff.apply(lambda x: abs(x[-2]-x[-1]), axis=1)\n",
    "# dff"
   ]
  },
  {
   "cell_type": "code",
   "execution_count": 53,
   "metadata": {},
   "outputs": [
    {
     "data": {
      "text/html": [
       "<div>\n",
       "<style scoped>\n",
       "    .dataframe tbody tr th:only-of-type {\n",
       "        vertical-align: middle;\n",
       "    }\n",
       "\n",
       "    .dataframe tbody tr th {\n",
       "        vertical-align: top;\n",
       "    }\n",
       "\n",
       "    .dataframe thead th {\n",
       "        text-align: right;\n",
       "    }\n",
       "</style>\n",
       "<table border=\"1\" class=\"dataframe\">\n",
       "  <thead>\n",
       "    <tr style=\"text-align: right;\">\n",
       "      <th></th>\n",
       "      <th>year</th>\n",
       "      <th>room</th>\n",
       "      <th>metrage</th>\n",
       "      <th>Elevator</th>\n",
       "      <th>Parking</th>\n",
       "      <th>Cage</th>\n",
       "      <th>Balcon</th>\n",
       "      <th>floor</th>\n",
       "      <th>y_predict</th>\n",
       "      <th>y_test</th>\n",
       "      <th>error</th>\n",
       "    </tr>\n",
       "  </thead>\n",
       "  <tbody>\n",
       "    <tr>\n",
       "      <th>117</th>\n",
       "      <td>1398</td>\n",
       "      <td>2</td>\n",
       "      <td>97</td>\n",
       "      <td>1</td>\n",
       "      <td>1</td>\n",
       "      <td>1</td>\n",
       "      <td>0</td>\n",
       "      <td>3</td>\n",
       "      <td>23.863037</td>\n",
       "      <td>175.000</td>\n",
       "      <td>151.136963</td>\n",
       "    </tr>\n",
       "    <tr>\n",
       "      <th>10542</th>\n",
       "      <td>1401</td>\n",
       "      <td>4</td>\n",
       "      <td>4000</td>\n",
       "      <td>1</td>\n",
       "      <td>1</td>\n",
       "      <td>1</td>\n",
       "      <td>0</td>\n",
       "      <td>6</td>\n",
       "      <td>162.074585</td>\n",
       "      <td>28.000</td>\n",
       "      <td>134.074585</td>\n",
       "    </tr>\n",
       "    <tr>\n",
       "      <th>4561</th>\n",
       "      <td>1380</td>\n",
       "      <td>3</td>\n",
       "      <td>155</td>\n",
       "      <td>0</td>\n",
       "      <td>0</td>\n",
       "      <td>1</td>\n",
       "      <td>0</td>\n",
       "      <td>1</td>\n",
       "      <td>28.145508</td>\n",
       "      <td>125.806</td>\n",
       "      <td>97.660492</td>\n",
       "    </tr>\n",
       "    <tr>\n",
       "      <th>5037</th>\n",
       "      <td>1401</td>\n",
       "      <td>4</td>\n",
       "      <td>316</td>\n",
       "      <td>1</td>\n",
       "      <td>1</td>\n",
       "      <td>1</td>\n",
       "      <td>0</td>\n",
       "      <td>21</td>\n",
       "      <td>55.582153</td>\n",
       "      <td>150.000</td>\n",
       "      <td>94.417847</td>\n",
       "    </tr>\n",
       "    <tr>\n",
       "      <th>8475</th>\n",
       "      <td>1401</td>\n",
       "      <td>3</td>\n",
       "      <td>140</td>\n",
       "      <td>1</td>\n",
       "      <td>1</td>\n",
       "      <td>1</td>\n",
       "      <td>0</td>\n",
       "      <td>15</td>\n",
       "      <td>46.229492</td>\n",
       "      <td>130.000</td>\n",
       "      <td>83.770508</td>\n",
       "    </tr>\n",
       "    <tr>\n",
       "      <th>...</th>\n",
       "      <td>...</td>\n",
       "      <td>...</td>\n",
       "      <td>...</td>\n",
       "      <td>...</td>\n",
       "      <td>...</td>\n",
       "      <td>...</td>\n",
       "      <td>...</td>\n",
       "      <td>...</td>\n",
       "      <td>...</td>\n",
       "      <td>...</td>\n",
       "      <td>...</td>\n",
       "    </tr>\n",
       "    <tr>\n",
       "      <th>4679</th>\n",
       "      <td>1383</td>\n",
       "      <td>4</td>\n",
       "      <td>60</td>\n",
       "      <td>0</td>\n",
       "      <td>0</td>\n",
       "      <td>1</td>\n",
       "      <td>0</td>\n",
       "      <td>4</td>\n",
       "      <td>38.326782</td>\n",
       "      <td>38.333</td>\n",
       "      <td>0.006218</td>\n",
       "    </tr>\n",
       "    <tr>\n",
       "      <th>9316</th>\n",
       "      <td>1399</td>\n",
       "      <td>2</td>\n",
       "      <td>100</td>\n",
       "      <td>1</td>\n",
       "      <td>1</td>\n",
       "      <td>1</td>\n",
       "      <td>0</td>\n",
       "      <td>6</td>\n",
       "      <td>89.494385</td>\n",
       "      <td>89.500</td>\n",
       "      <td>0.005615</td>\n",
       "    </tr>\n",
       "    <tr>\n",
       "      <th>9170</th>\n",
       "      <td>1401</td>\n",
       "      <td>3</td>\n",
       "      <td>190</td>\n",
       "      <td>1</td>\n",
       "      <td>1</td>\n",
       "      <td>1</td>\n",
       "      <td>0</td>\n",
       "      <td>5</td>\n",
       "      <td>142.002686</td>\n",
       "      <td>142.000</td>\n",
       "      <td>0.002686</td>\n",
       "    </tr>\n",
       "    <tr>\n",
       "      <th>3501</th>\n",
       "      <td>1390</td>\n",
       "      <td>2</td>\n",
       "      <td>91</td>\n",
       "      <td>1</td>\n",
       "      <td>1</td>\n",
       "      <td>1</td>\n",
       "      <td>0</td>\n",
       "      <td>5</td>\n",
       "      <td>65.936157</td>\n",
       "      <td>65.934</td>\n",
       "      <td>0.002157</td>\n",
       "    </tr>\n",
       "    <tr>\n",
       "      <th>10149</th>\n",
       "      <td>1401</td>\n",
       "      <td>3</td>\n",
       "      <td>125</td>\n",
       "      <td>1</td>\n",
       "      <td>1</td>\n",
       "      <td>0</td>\n",
       "      <td>0</td>\n",
       "      <td>1</td>\n",
       "      <td>85.000854</td>\n",
       "      <td>85.000</td>\n",
       "      <td>0.000854</td>\n",
       "    </tr>\n",
       "  </tbody>\n",
       "</table>\n",
       "<p>10575 rows × 11 columns</p>\n",
       "</div>"
      ],
      "text/plain": [
       "       year  room  metrage  Elevator  Parking  Cage  Balcon  floor  \\\n",
       "117    1398     2       97         1        1     1       0      3   \n",
       "10542  1401     4     4000         1        1     1       0      6   \n",
       "4561   1380     3      155         0        0     1       0      1   \n",
       "5037   1401     4      316         1        1     1       0     21   \n",
       "8475   1401     3      140         1        1     1       0     15   \n",
       "...     ...   ...      ...       ...      ...   ...     ...    ...   \n",
       "4679   1383     4       60         0        0     1       0      4   \n",
       "9316   1399     2      100         1        1     1       0      6   \n",
       "9170   1401     3      190         1        1     1       0      5   \n",
       "3501   1390     2       91         1        1     1       0      5   \n",
       "10149  1401     3      125         1        1     0       0      1   \n",
       "\n",
       "        y_predict   y_test       error  \n",
       "117     23.863037  175.000  151.136963  \n",
       "10542  162.074585   28.000  134.074585  \n",
       "4561    28.145508  125.806   97.660492  \n",
       "5037    55.582153  150.000   94.417847  \n",
       "8475    46.229492  130.000   83.770508  \n",
       "...           ...      ...         ...  \n",
       "4679    38.326782   38.333    0.006218  \n",
       "9316    89.494385   89.500    0.005615  \n",
       "9170   142.002686  142.000    0.002686  \n",
       "3501    65.936157   65.934    0.002157  \n",
       "10149   85.000854   85.000    0.000854  \n",
       "\n",
       "[10575 rows x 11 columns]"
      ]
     },
     "execution_count": 53,
     "metadata": {},
     "output_type": "execute_result"
    }
   ],
   "source": [
    "dff.sort_values(by='error', ascending=False)"
   ]
  },
  {
   "cell_type": "code",
   "execution_count": 54,
   "metadata": {},
   "outputs": [
    {
     "data": {
      "text/html": [
       "<div>\n",
       "<style scoped>\n",
       "    .dataframe tbody tr th:only-of-type {\n",
       "        vertical-align: middle;\n",
       "    }\n",
       "\n",
       "    .dataframe tbody tr th {\n",
       "        vertical-align: top;\n",
       "    }\n",
       "\n",
       "    .dataframe thead th {\n",
       "        text-align: right;\n",
       "    }\n",
       "</style>\n",
       "<table border=\"1\" class=\"dataframe\">\n",
       "  <thead>\n",
       "    <tr style=\"text-align: right;\">\n",
       "      <th></th>\n",
       "      <th>year</th>\n",
       "      <th>room</th>\n",
       "      <th>metrage</th>\n",
       "      <th>Elevator</th>\n",
       "      <th>Parking</th>\n",
       "      <th>Cage</th>\n",
       "      <th>Balcon</th>\n",
       "      <th>floor</th>\n",
       "      <th>y_predict</th>\n",
       "      <th>y_test</th>\n",
       "      <th>error</th>\n",
       "    </tr>\n",
       "  </thead>\n",
       "  <tbody>\n",
       "    <tr>\n",
       "      <th>0</th>\n",
       "      <td>1380</td>\n",
       "      <td>2</td>\n",
       "      <td>46</td>\n",
       "      <td>0</td>\n",
       "      <td>0</td>\n",
       "      <td>1</td>\n",
       "      <td>0</td>\n",
       "      <td>0</td>\n",
       "      <td>31.154053</td>\n",
       "      <td>39.130</td>\n",
       "      <td>7.975947</td>\n",
       "    </tr>\n",
       "    <tr>\n",
       "      <th>1</th>\n",
       "      <td>1383</td>\n",
       "      <td>4</td>\n",
       "      <td>215</td>\n",
       "      <td>1</td>\n",
       "      <td>1</td>\n",
       "      <td>1</td>\n",
       "      <td>0</td>\n",
       "      <td>4</td>\n",
       "      <td>103.905640</td>\n",
       "      <td>130.232</td>\n",
       "      <td>26.326360</td>\n",
       "    </tr>\n",
       "    <tr>\n",
       "      <th>2</th>\n",
       "      <td>1371</td>\n",
       "      <td>4</td>\n",
       "      <td>227</td>\n",
       "      <td>0</td>\n",
       "      <td>0</td>\n",
       "      <td>1</td>\n",
       "      <td>0</td>\n",
       "      <td>2</td>\n",
       "      <td>58.770020</td>\n",
       "      <td>48.458</td>\n",
       "      <td>10.312020</td>\n",
       "    </tr>\n",
       "    <tr>\n",
       "      <th>3</th>\n",
       "      <td>1385</td>\n",
       "      <td>1</td>\n",
       "      <td>59</td>\n",
       "      <td>0</td>\n",
       "      <td>1</td>\n",
       "      <td>1</td>\n",
       "      <td>0</td>\n",
       "      <td>2</td>\n",
       "      <td>60.932495</td>\n",
       "      <td>66.101</td>\n",
       "      <td>5.168505</td>\n",
       "    </tr>\n",
       "    <tr>\n",
       "      <th>4</th>\n",
       "      <td>1387</td>\n",
       "      <td>3</td>\n",
       "      <td>123</td>\n",
       "      <td>1</td>\n",
       "      <td>1</td>\n",
       "      <td>1</td>\n",
       "      <td>0</td>\n",
       "      <td>2</td>\n",
       "      <td>86.083984</td>\n",
       "      <td>73.983</td>\n",
       "      <td>12.100984</td>\n",
       "    </tr>\n",
       "    <tr>\n",
       "      <th>...</th>\n",
       "      <td>...</td>\n",
       "      <td>...</td>\n",
       "      <td>...</td>\n",
       "      <td>...</td>\n",
       "      <td>...</td>\n",
       "      <td>...</td>\n",
       "      <td>...</td>\n",
       "      <td>...</td>\n",
       "      <td>...</td>\n",
       "      <td>...</td>\n",
       "      <td>...</td>\n",
       "    </tr>\n",
       "    <tr>\n",
       "      <th>10570</th>\n",
       "      <td>1376</td>\n",
       "      <td>0</td>\n",
       "      <td>37</td>\n",
       "      <td>0</td>\n",
       "      <td>0</td>\n",
       "      <td>0</td>\n",
       "      <td>0</td>\n",
       "      <td>0</td>\n",
       "      <td>55.032593</td>\n",
       "      <td>75.675</td>\n",
       "      <td>20.642407</td>\n",
       "    </tr>\n",
       "    <tr>\n",
       "      <th>10571</th>\n",
       "      <td>1383</td>\n",
       "      <td>1</td>\n",
       "      <td>46</td>\n",
       "      <td>0</td>\n",
       "      <td>1</td>\n",
       "      <td>1</td>\n",
       "      <td>0</td>\n",
       "      <td>3</td>\n",
       "      <td>35.372559</td>\n",
       "      <td>42.391</td>\n",
       "      <td>7.018441</td>\n",
       "    </tr>\n",
       "    <tr>\n",
       "      <th>10572</th>\n",
       "      <td>1400</td>\n",
       "      <td>2</td>\n",
       "      <td>100</td>\n",
       "      <td>1</td>\n",
       "      <td>1</td>\n",
       "      <td>1</td>\n",
       "      <td>0</td>\n",
       "      <td>1</td>\n",
       "      <td>71.974609</td>\n",
       "      <td>70.000</td>\n",
       "      <td>1.974609</td>\n",
       "    </tr>\n",
       "    <tr>\n",
       "      <th>10573</th>\n",
       "      <td>1385</td>\n",
       "      <td>1</td>\n",
       "      <td>62</td>\n",
       "      <td>1</td>\n",
       "      <td>1</td>\n",
       "      <td>1</td>\n",
       "      <td>0</td>\n",
       "      <td>3</td>\n",
       "      <td>65.830933</td>\n",
       "      <td>61.290</td>\n",
       "      <td>4.540933</td>\n",
       "    </tr>\n",
       "    <tr>\n",
       "      <th>10574</th>\n",
       "      <td>1401</td>\n",
       "      <td>2</td>\n",
       "      <td>121</td>\n",
       "      <td>1</td>\n",
       "      <td>1</td>\n",
       "      <td>1</td>\n",
       "      <td>0</td>\n",
       "      <td>5</td>\n",
       "      <td>77.959106</td>\n",
       "      <td>87.190</td>\n",
       "      <td>9.230894</td>\n",
       "    </tr>\n",
       "  </tbody>\n",
       "</table>\n",
       "<p>10575 rows × 11 columns</p>\n",
       "</div>"
      ],
      "text/plain": [
       "       year  room  metrage  Elevator  Parking  Cage  Balcon  floor  \\\n",
       "0      1380     2       46         0        0     1       0      0   \n",
       "1      1383     4      215         1        1     1       0      4   \n",
       "2      1371     4      227         0        0     1       0      2   \n",
       "3      1385     1       59         0        1     1       0      2   \n",
       "4      1387     3      123         1        1     1       0      2   \n",
       "...     ...   ...      ...       ...      ...   ...     ...    ...   \n",
       "10570  1376     0       37         0        0     0       0      0   \n",
       "10571  1383     1       46         0        1     1       0      3   \n",
       "10572  1400     2      100         1        1     1       0      1   \n",
       "10573  1385     1       62         1        1     1       0      3   \n",
       "10574  1401     2      121         1        1     1       0      5   \n",
       "\n",
       "        y_predict   y_test      error  \n",
       "0       31.154053   39.130   7.975947  \n",
       "1      103.905640  130.232  26.326360  \n",
       "2       58.770020   48.458  10.312020  \n",
       "3       60.932495   66.101   5.168505  \n",
       "4       86.083984   73.983  12.100984  \n",
       "...           ...      ...        ...  \n",
       "10570   55.032593   75.675  20.642407  \n",
       "10571   35.372559   42.391   7.018441  \n",
       "10572   71.974609   70.000   1.974609  \n",
       "10573   65.830933   61.290   4.540933  \n",
       "10574   77.959106   87.190   9.230894  \n",
       "\n",
       "[10575 rows x 11 columns]"
      ]
     },
     "execution_count": 54,
     "metadata": {},
     "output_type": "execute_result"
    }
   ],
   "source": [
    "dff"
   ]
  },
  {
   "cell_type": "code",
   "execution_count": null,
   "metadata": {},
   "outputs": [],
   "source": [
    "dff.sort_values(by='def')"
   ]
  },
  {
   "cell_type": "code",
   "execution_count": null,
   "metadata": {},
   "outputs": [],
   "source": []
  }
 ],
 "metadata": {
  "colab": {
   "provenance": []
  },
  "kernelspec": {
   "display_name": "Python 3 (ipykernel)",
   "language": "python",
   "name": "python3"
  },
  "language_info": {
   "codemirror_mode": {
    "name": "ipython",
    "version": 3
   },
   "file_extension": ".py",
   "mimetype": "text/x-python",
   "name": "python",
   "nbconvert_exporter": "python",
   "pygments_lexer": "ipython3",
   "version": "3.10.2"
  },
  "vscode": {
   "interpreter": {
    "hash": "916dbcbb3f70747c44a77c7bcd40155683ae19c65e1c03b4aa3499c5328201f1"
   }
  },
  "widgets": {
   "application/vnd.jupyter.widget-state+json": {
    "state": {},
    "version_major": 2,
    "version_minor": 0
   }
  }
 },
 "nbformat": 4,
 "nbformat_minor": 4
}
