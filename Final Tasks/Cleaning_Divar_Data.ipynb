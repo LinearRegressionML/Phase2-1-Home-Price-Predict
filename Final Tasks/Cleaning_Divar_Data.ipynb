{
 "cells": [
  {
   "cell_type": "code",
   "execution_count": 1,
   "id": "f36293a1-dc21-4a61-a62f-755e9d79218b",
   "metadata": {},
   "outputs": [],
   "source": [
    "import pandas as pd\n",
    "import re"
   ]
  },
  {
   "cell_type": "code",
   "execution_count": 2,
   "id": "0137476c-5fcd-47aa-a5db-53e4ec48493f",
   "metadata": {},
   "outputs": [],
   "source": [
    "df=pd.read_csv('Divar_10000_records_14011020.csv')"
   ]
  },
  {
   "cell_type": "code",
   "execution_count": 3,
   "id": "1f37068f-0cf6-48fb-9c46-dafe66947f6f",
   "metadata": {},
   "outputs": [],
   "source": [
    "df.drop(columns=['link'],axis=1,inplace=True)"
   ]
  },
  {
   "cell_type": "code",
   "execution_count": 4,
   "id": "0cf12ea7-4608-45d0-8c3d-8919bfdbab7c",
   "metadata": {},
   "outputs": [],
   "source": [
    "def Has_Elevator(facilities):\n",
    "    if re.findall('آسانسور ندارد', facilities):\n",
    "        return 0\n",
    "    elif re.findall('آسانسور', facilities):\n",
    "        return 1\n",
    "    else:\n",
    "        return 0\n",
    "\n",
    "df['Elevator']=df['facilities'].apply(Has_Elevator)"
   ]
  },
  {
   "cell_type": "code",
   "execution_count": 5,
   "id": "afc13cf9-dd2f-43b4-b17b-3ac1661794db",
   "metadata": {},
   "outputs": [],
   "source": [
    "def Has_Parking(facilities):\n",
    "    if re.findall('پارکینگ ندارد', facilities):\n",
    "        return 0\n",
    "    elif re.findall('پارکینگ', facilities):\n",
    "        return 1\n",
    "    else:\n",
    "        return 0\n",
    "\n",
    "df['Parking']=df['facilities'].apply(Has_Parking)"
   ]
  },
  {
   "cell_type": "code",
   "execution_count": 6,
   "id": "5b3ac5e1-9138-4c28-9dd3-f837118e4c48",
   "metadata": {},
   "outputs": [],
   "source": [
    "def Has_Cage(facilities):\n",
    "    if re.findall('انباری ندارد', facilities):\n",
    "        return 0\n",
    "    elif re.findall('انباری', facilities):\n",
    "        return 1\n",
    "    else:\n",
    "        return 0\n",
    "\n",
    "df['Cage']=df['facilities'].apply(Has_Cage)"
   ]
  },
  {
   "cell_type": "code",
   "execution_count": 7,
   "id": "49d35afd-1237-4626-beeb-f62a651c4a4c",
   "metadata": {},
   "outputs": [],
   "source": [
    "def Has_Balcon(facilities):\n",
    "    if re.findall('بالکن ندارد', facilities):\n",
    "        return 0\n",
    "    elif re.findall('بالکن', facilities):\n",
    "        return 1\n",
    "    else:\n",
    "        return 0\n",
    "    \n",
    "df['Balcon']=df['facilities'].apply(Has_Balcon)"
   ]
  },
  {
   "cell_type": "code",
   "execution_count": 8,
   "id": "419fa45a-dcb1-4003-9781-e00b7a5e6215",
   "metadata": {},
   "outputs": [],
   "source": [
    "df.drop(columns=['facilities'],axis=1,inplace=True)"
   ]
  },
  {
   "cell_type": "code",
   "execution_count": 9,
   "id": "7d8db794-8258-42f8-9db1-8846d79f593c",
   "metadata": {},
   "outputs": [],
   "source": [
    "def find_neighbourhood(neighbourhood):\n",
    "    return re.findall('(?:، ).*(?: \\|)', neighbourhood)[0].strip('، |')\n",
    "\n",
    "df['main_neighbourhood']=df['neighbourhood'].apply(find_neighbourhood)"
   ]
  },
  {
   "cell_type": "code",
   "execution_count": 10,
   "id": "d3bdc150-ad99-4969-93af-024cff752cdf",
   "metadata": {},
   "outputs": [],
   "source": [
    "df.drop(columns=['neighbourhood'],axis=1,inplace=True)"
   ]
  },
  {
   "cell_type": "code",
   "execution_count": 11,
   "id": "67de075a-9f4e-4344-96bf-f9d90b96a23c",
   "metadata": {},
   "outputs": [],
   "source": [
    "c=df[df['total_price'].str.contains('توافقی',na=True)].index\n",
    "df.drop(c, inplace=True)\n",
    "df.drop(columns=['total_price'],axis=1,inplace=True)"
   ]
  },
  {
   "cell_type": "code",
   "execution_count": 12,
   "id": "a2e50898-eee4-4ac6-b76a-7af32ee1a629",
   "metadata": {},
   "outputs": [],
   "source": [
    "def find_price_perMetre(price):\n",
    "    return price.strip('تومان')\n",
    "\n",
    "df['price_perMetre_Tooman']=df['price_perMetre'].apply(find_price_perMetre)"
   ]
  },
  {
   "cell_type": "code",
   "execution_count": 13,
   "id": "18a4c374-ecc9-469b-8011-382a0d8d58c8",
   "metadata": {},
   "outputs": [],
   "source": [
    "df.drop(columns=['price_perMetre'],axis=1,inplace=True)"
   ]
  },
  {
   "cell_type": "code",
   "execution_count": 14,
   "id": "634ba9c1-967f-4bc9-aee4-97d848b0f8ac",
   "metadata": {},
   "outputs": [],
   "source": [
    "def find_floor(floor):\n",
    "    f=str(floor)[:2].strip(' ')\n",
    "    if f=='هم':\n",
    "        return 0\n",
    "    elif f=='زی':\n",
    "        return -1\n",
    "    else:\n",
    "        return f\n",
    "    \n",
    "\n",
    "df['floor']=df['floor_number'].apply(find_floor)"
   ]
  },
  {
   "cell_type": "code",
   "execution_count": 15,
   "id": "1e126702-9578-4990-a9d4-6c5ac3ac405e",
   "metadata": {},
   "outputs": [
    {
     "data": {
      "text/plain": [
       "array(['۱', '۳', '۲', '۶', '۴', '۷', '۵', -1, 0, '۱۴', 'مش', 'مث', '۱۱',\n",
       "       '۸', 'شخ', '۹', '۱۲', '۲۲', '۱۶', 'ام', '۲۰', '۱۵', '۸۰', '۱۰',\n",
       "       '+۳', 'نی', '۳۹', 'na', 'گر', '۱۸', '۲۳', '۱۷', '۲۹', '۱۹', '۲۶',\n",
       "       '۱۳', '۲۱', 'نو', '۲۵', 'شو', '۲۴', '۳۰', 'صد', 'دپ', 'آت', 'اژ',\n",
       "       'سر', '۴۲', 'پا', '۲۷', '۷۷', 'قا', '۷۵', 'مس', 'اف', 'آژ', '۲۸',\n",
       "       'ما', 'كل', '۴۵', '۷۱', 'دا', 'خا', 'سی'], dtype=object)"
      ]
     },
     "execution_count": 15,
     "metadata": {},
     "output_type": "execute_result"
    }
   ],
   "source": [
    "df['floor'].unique()"
   ]
  },
  {
   "cell_type": "code",
   "execution_count": null,
   "id": "5e7b6da7-7fe9-46d4-8600-edff35b64d42",
   "metadata": {},
   "outputs": [],
   "source": [
    "dfd['floor']= dfd['floor'].str.replace('re', 'nan')\n",
    "dfd['floor']= dfd['floor'].str.replace('nann', 'nan')\n",
    "dfd['floor']= dfd['floor'].str.replace('۱٬', 'nan')\n",
    "dfd['floor']= dfd['floor'].str.replace('۵٬', 'nan')\n",
    "dfd['floor']= dfd['floor'].str.replace('۶٬', 'nan')\n",
    "dfd['floor']= dfd['floor'].str.replace('۴٬', 'nan')\n",
    "dfd['floor']= dfd['floor'].str.replace('۳٬', 'nan')\n",
    "dfd['floor']= dfd['floor'].str.replace('۸٬', 'nan')\n",
    "dfd['floor']= dfd['floor'].str.replace('خس', 'nan')\n",
    "dfd['floor']= dfd['floor'].str.replace('نب', 'nan')\n",
    "dfd['floor']= dfd['floor'].str.replace('ری', 'nan')\n",
    "dfd['floor']= dfd['floor'].str.replace('نگ', 'nan')\n",
    "dfd['floor']= dfd['floor'].str.replace('به', 'nan')\n",
    "dfd['floor']= dfd['floor'].str.replace('فر', 'nan')"
   ]
  },
  {
   "cell_type": "code",
   "execution_count": null,
   "id": "f985cf0e-7dca-4f85-a78e-d1d2b75add0e",
   "metadata": {},
   "outputs": [],
   "source": [
    "dfd['floor']= dfd['floor'].str.replace('⭐️', 'nan')\n",
    "dfd['floor']= dfd['floor'].str.replace('na', 'nan')\n",
    "dfd['floor']= dfd['floor'].str.replace('بز', 'nan')\n",
    "dfd['floor']= dfd['floor'].str.replace('پل', 'nan')\n",
    "dfd['floor']= dfd['floor'].str.replace('خا', 'nan')\n",
    "dfd['floor']= dfd['floor'].str.replace('آت', 'nan')\n",
    "dfd['floor']= dfd['floor'].str.replace('اس', 'nan')\n",
    "dfd['floor']= dfd['floor'].str.replace('ره', 'nan')\n",
    "dfd['floor']= dfd['floor'].str.replace('خس', 'nan')\n",
    "dfd['floor']= dfd['floor'].str.replace('نب', 'nan')\n",
    "dfd['floor']= dfd['floor'].str.replace('ری', 'nan')\n",
    "dfd['floor']= dfd['floor'].str.replace('نگ', 'nan')\n",
    "dfd['floor']= dfd['floor'].str.replace('به', 'nan')\n",
    "dfd['floor']= dfd['floor'].str.replace('فر', 'nan')"
   ]
  },
  {
   "cell_type": "code",
   "execution_count": null,
   "id": "fe837365-7772-4919-91c3-4ceda69da221",
   "metadata": {},
   "outputs": [],
   "source": [
    "dfd['floor']= dfd['floor'].str.replace('مگ', 'nan')\n",
    "dfd['floor']= dfd['floor'].str.replace('مل', 'nan')\n",
    "dfd['floor']= dfd['floor'].str.replace('سر', 'nan')\n",
    "dfd['floor']= dfd['floor'].str.replace('دپ', 'nan')\n",
    "dfd['floor']= dfd['floor'].str.replace('آر', 'nan')\n",
    "dfd['floor']= dfd['floor'].str.replace('صد', 'nan')\n",
    "dfd['floor']= dfd['floor'].str.replace('Az', 'nan')\n",
    "dfd['floor']= dfd['floor'].str.replace('سی', 'nan')\n",
    "dfd['floor']= dfd['floor'].str.replace('مه', 'nan')\n",
    "dfd['floor']= dfd['floor'].str.replace('قا', 'nan')\n",
    "dfd['floor']= dfd['floor'].str.replace('مد', 'nan')\n",
    "dfd['floor']= dfd['floor'].str.replace('بخ', 'nan')\n",
    "dfd['floor']= dfd['floor'].str.replace('اص', 'nan')\n",
    "dfd['floor']= dfd['floor'].str.replace('آس', 'nan')"
   ]
  },
  {
   "cell_type": "code",
   "execution_count": null,
   "id": "580238cf-7970-4090-8e2c-77ffc2557032",
   "metadata": {},
   "outputs": [],
   "source": [
    "dfd['floor']= dfd['floor'].str.replace('كل', 'nan')\n",
    "dfd['floor']= dfd['floor'].str.replace('می', 'nan')\n",
    "dfd['floor']= dfd['floor'].str.replace('شي', 'nan')\n",
    "dfd['floor']= dfd['floor'].str.replace('وی', 'nan')\n",
    "dfd['floor']= dfd['floor'].str.replace('شر', 'nan')\n",
    "dfd['floor']= dfd['floor'].str.replace('پر', 'nan')\n",
    "dfd['floor']= dfd['floor'].str.replace('دی', 'nan')\n",
    "dfd['floor']= dfd['floor'].str.replace('رس', 'nan')\n",
    "dfd['floor']= dfd['floor'].str.replace('سپ', 'nan')\n",
    "dfd['floor']= dfd['floor'].str.replace('تش', 'nan')\n",
    "dfd['floor']= dfd['floor'].str.replace('با', 'nan')\n",
    "dfd['floor']= dfd['floor'].str.replace('⚜ا', 'nan')\n",
    "dfd['floor']= dfd['floor'].str.replace('هف', 'nan')\n",
    "dfd['floor']= dfd['floor'].str.replace('یو', 'nan')"
   ]
  },
  {
   "cell_type": "code",
   "execution_count": null,
   "id": "aa2115be-af44-4f63-929b-fe6856de2135",
   "metadata": {},
   "outputs": [],
   "source": [
    "df['floor']= df['floor'].str.replace('مس', 'nan')\n",
    "df['floor']= dfd['floor'].str.replace('ام', 'nan')\n",
    "df['floor']= dfd['floor'].str.replace('نو', 'nan')\n",
    "df['floor']= dfd['floor'].str.replace('زی', 'nan')\n",
    "df['floor']= dfd['floor'].str.replace('شخ', 'nan')\n",
    "dfd['floor']= dfd['floor'].str.replace('گر', 'nan')\n",
    "dfd['floor']= dfd['floor'].str.replace('آژ', 'nan')\n",
    "dfd['floor']= dfd['floor'].str.replace('کو', 'nan')\n",
    "dfd['floor']= dfd['floor'].str.replace('رُ', 'nan')\n",
    "dfd['floor']= dfd['floor'].str.replace('هو', 'nan')\n",
    "dfd['floor']= dfd['floor'].str.replace('ما', 'nan')\n",
    "dfd['floor']= dfd['floor'].str.replace('او', 'nan')\n",
    "dfd['floor']= dfd['floor'].str.replace('پا', 'nan')\n",
    "dfd['floor']= dfd['floor'].str.replace('نم', 'nan')\n",
    "\n",
    "\n",
    "dfd['floor']= dfd['floor'].str.replace('مش', 'nan')\n",
    "dfd['floor']= dfd['floor'].str.replace('کل', 'nan')\n",
    "dfd['floor']= dfd['floor'].str.replace('کا', 'nan')\n",
    "dfd['floor']= dfd['floor'].str.replace('قد', 'nan')\n",
    "dfd['floor']= dfd['floor'].str.replace('تی', 'nan')\n",
    "dfd['floor']= dfd['floor'].str.replace('عم', 'nan')\n",
    "dfd['floor']= dfd['floor'].str.replace('مث', 'nan')\n",
    "dfd['floor']= dfd['floor'].str.replace('شو', 'nan')\n",
    "dfd['floor']= dfd['floor'].str.replace('سف', 'nan')\n",
    "dfd['floor']= dfd['floor'].str.replace('دف', 'nan')\n",
    "dfd['floor']= dfd['floor'].str.replace('am', 'nan')\n",
    "dfd['floor']= dfd['floor'].str.replace('اه', 'nan')\n",
    "dfd['floor']= dfd['floor'].str.replace('حا', 'nan')\n",
    "dfd['floor']= dfd['floor'].str.replace('ای', 'nan')"
   ]
  },
  {
   "cell_type": "code",
   "execution_count": 16,
   "id": "12a85778-9cef-4029-8211-4b1b9d30638b",
   "metadata": {},
   "outputs": [],
   "source": [
    "df.drop(columns=['floor_number'],axis=1,inplace=True)"
   ]
  },
  {
   "cell_type": "code",
   "execution_count": 17,
   "id": "ef5e5177-bcbe-436c-8e43-ca8d3f636c98",
   "metadata": {},
   "outputs": [],
   "source": [
    "df.drop(columns=['description','title'],axis=1,inplace=True)"
   ]
  },
  {
   "cell_type": "code",
   "execution_count": 18,
   "id": "c6465815-dd72-441b-9d29-f4a9f3b2a4b8",
   "metadata": {},
   "outputs": [],
   "source": [
    "def find_old_building(construct_year):\n",
    "    if re.findall('قبل از ۱۳۷۰', construct_year):\n",
    "        return '1369'\n",
    "    else:\n",
    "        return construct_year\n",
    "\n",
    "df['construct_year']=df['construct_year'].apply(find_old_building)"
   ]
  },
  {
   "cell_type": "code",
   "execution_count": 19,
   "id": "d593d68a-dd6c-4a4c-9067-838057753a3e",
   "metadata": {},
   "outputs": [],
   "source": [
    "def find_room_free(number_of_room):\n",
    "    if re.findall('بدون اتاق',number_of_room):\n",
    "        return 0\n",
    "    else:\n",
    "        return number_of_room\n",
    "\n",
    "df['number_of_room']=df['number_of_room'].apply(find_room_free)"
   ]
  },
  {
   "cell_type": "code",
   "execution_count": 20,
   "id": "939b5b34-fec8-4b6c-ba76-04f1637f64b3",
   "metadata": {},
   "outputs": [],
   "source": [
    "df.to_csv('Divar_Cleaned_6000Record.csv')"
   ]
  },
  {
   "cell_type": "code",
   "execution_count": null,
   "id": "a185576f-9f7f-4ae3-be65-dcadd9f6194b",
   "metadata": {},
   "outputs": [],
   "source": []
  }
 ],
 "metadata": {
  "kernelspec": {
   "display_name": "Python 3 (ipykernel)",
   "language": "python",
   "name": "python3"
  },
  "language_info": {
   "codemirror_mode": {
    "name": "ipython",
    "version": 3
   },
   "file_extension": ".py",
   "mimetype": "text/x-python",
   "name": "python",
   "nbconvert_exporter": "python",
   "pygments_lexer": "ipython3",
   "version": "3.10.2"
  }
 },
 "nbformat": 4,
 "nbformat_minor": 5
}
